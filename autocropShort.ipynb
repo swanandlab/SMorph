{
 "cells": [
  {
   "cell_type": "markdown",
   "metadata": {},
   "source": [
    "## Setup\n",
    "\n",
    "Please execute the cell(s) below to initialize the notebook environment."
   ]
  },
  {
   "cell_type": "code",
   "execution_count": 9,
   "metadata": {},
   "outputs": [],
   "source": [
    "# @title Install dependencies\n",
    "# !pip install poetry"
   ]
  },
  {
   "cell_type": "code",
   "execution_count": 10,
   "metadata": {},
   "outputs": [],
   "source": [
    "# @title Install SMorph Python module\n",
    "# !pip install https://github.com/swanandlab/SMorph/releases/download/v0.1.1-alpha/SMorph-0.1.1.tar.gz"
   ]
  },
  {
   "cell_type": "code",
   "execution_count": 1,
   "metadata": {},
   "outputs": [],
   "source": [
    "import napari\n"
   ]
  },
  {
   "cell_type": "code",
   "execution_count": 5,
   "metadata": {},
   "outputs": [],
   "source": [
    "import numpy as np\n",
    "im = np.load('Cache/CONTROL_MSP2.1MB_4_LONG MARK_20X_SEC 1_LEFT HILUS_28 DAYczi.npy')\n",
    "viewer = napari.view_image(im)"
   ]
  },
  {
   "cell_type": "code",
   "execution_count": 1,
   "metadata": {
    "tags": []
   },
   "outputs": [],
   "source": [
    "# Imports\n",
    "on_colab = 'google.colab' in str(get_ipython())\n",
    "\n",
    "import warnings\n",
    "warnings.filterwarnings('ignore')\n",
    "\n",
    "import json\n",
    "from os import getcwd, path \n",
    "\n",
    "if not on_colab:\n",
    "  import napari\n",
    "import smorph as sm\n",
    "import smorph.util.autocrop as ac\n",
    "import ipywidgets as widgets\n",
    "import numpy as np\n",
    "import matplotlib.pyplot as plt\n",
    "\n",
    "import PyQt5\n",
    "import superqt\n",
    "from vispy.geometry.rect import Rect\n",
    "from smorph.util.autocrop._postprocessing import _segment_clump\n",
    "\n",
    "from magicgui import magicgui"
   ]
  },
  {
   "cell_type": "code",
   "execution_count": 2,
   "metadata": {},
   "outputs": [],
   "source": [
    "# Helper function\n",
    "def view_3D(*args):\n",
    "    \"\"\"Views a 3D image.\"\"\"\n",
    "    n_images = len(args)\n",
    "    if not on_colab and n_images > 0:\n",
    "        with napari.gui_qt():\n",
    "            viewer = napari.view_image(**args[0], ndisplay=3, scale=pipe.SCALE)\n",
    "            for itr in range(1, n_images):\n",
    "                if args[itr]['data'].max() > 1 and args[itr]['data'].max() % 1 == 0:\n",
    "                    if 'colormap' in args[itr].keys():\n",
    "                        del args[itr]['colormap']\n",
    "                    if 'gamma' in args[itr].keys():\n",
    "                        del args[itr]['gamma']\n",
    "                    viewer.add_labels(**args[itr], scale=pipe.SCALE)\n",
    "                else:\n",
    "                    viewer.add_image(**args[itr], scale=pipe.SCALE)"
   ]
  },
  {
   "cell_type": "markdown",
   "metadata": {},
   "source": [
    "---"
   ]
  },
  {
   "cell_type": "markdown",
   "metadata": {},
   "source": [
    "---\n",
    "## Step 0: Import Reference image"
   ]
  },
  {
   "cell_type": "markdown",
   "metadata": {},
   "source": [
    "---\n",
    "\n",
    "## Step 1: Import Microscopic Image of the Tissue\n",
    "\n",
    "Set `TISSUE_IMAGE` to the path of the image file to be processed.\n",
    "\n",
    "1. Deconvolution\n",
    "2. Rolling ball background subtraction\n",
    "3. CLAHE\n",
    "4. ROI selection\n",
    "5. Non-local means denoising using auto-calibrated parameters using J-Invariance"
   ]
  },
  {
   "cell_type": "code",
   "execution_count": 3,
   "metadata": {
    "scrolled": false
   },
   "outputs": [],
   "source": [
    "TISSUE_IMAGE = 'Datasets/Confocal/SAL,DMI, FLX ADN HALO_TREATMENT_28 DAYS/control_28 days/CONTROL_MSP2.1MB_4_LONG MARK_20X_SEC 1_LEFT HILUS_28 DAYczi.czi'  #@param\n",
    "FILE_ROI = 'Datasets/Confocal/SAL,DMI, FLX ADN HALO_TREATMENT_28 DAYS/control_28 days/CONTROL_MSP2.1MB_4_LONG MARK_20X_SEC 1_LEFT HILUS_28 DAYczi_ML.roi'\n",
    "NAME_ROI = 'ML'\n",
    "\n",
    "DECONV_ITR = 30\n",
    "CLIP_LIMIT = .02\n",
    "\n",
    "REF_IMAGE = 'Datasets/Confocal/SAL,DMI, FLX ADN HALO_TREATMENT_28 DAYS/control_28 days/CONTROL_MSP3.1M_1_SINGLE MARK_20X_SEC 1_RIGHT HILUS_28 DAYczi.czi'\n",
    "REF_FILE_ROI = 'Datasets/Confocal/SAL,DMI, FLX ADN HALO_TREATMENT_28 DAYS/control_28 days/CONTROL_MSP3.1M_1_SINGLE MARK_20X_SEC 1_RIGHT HILUS_28 DAYczi_ML.roi'\n",
    "\n",
    "cache_dir = 'Cache/'\n",
    "\n",
    "pipe = ac.TissueImage(TISSUE_IMAGE, FILE_ROI, NAME_ROI, DECONV_ITR, CLIP_LIMIT, REF_IMAGE, REF_FILE_ROI, cache_dir)"
   ]
  },
  {
   "cell_type": "markdown",
   "metadata": {},
   "source": [
    "---\n",
    "\n",
    "## Step 2: Select ROI using Polygonal Lasso Tool\n",
    "\n",
    "Set two variables:\n",
    "- `SELECT_ROI`: True, If you want to select ROI manually; else False\n",
    "- `NAME_ROI`: Name of the manually selected ROI\n",
    "- `FILE_ROI`: Path to the ROI file; else None"
   ]
  },
  {
   "cell_type": "code",
   "execution_count": 4,
   "metadata": {},
   "outputs": [],
   "source": [
    "view_3D({'data': pipe.imdeconvolved, 'colormap': 'magma', 'name': 'deconvolved'},\n",
    "        {'data': pipe.impreprocessed, 'colormap': 'magma', 'name': 'preprocessed'},\n",
    "        {'data': pipe.imdenoised, 'colormap': 'magma', 'name': 'denoised'})"
   ]
  },
  {
   "cell_type": "markdown",
   "metadata": {},
   "source": [
    "---\n",
    "\n",
    "## Step 3: Segmentation"
   ]
  },
  {
   "cell_type": "markdown",
   "metadata": {},
   "source": [
    "### 3.1 Global threshold & color label cells\n",
    "\n",
    "Set two parameters:\n",
    "- `LOW_THRESH`: Pixel intensity value corresponding to faintest branch's edge\n",
    "- `HIGH_THRESH`: Pixel intensity value corresponding to faintest soma\n",
    "\n",
    "Understand their effect by configuring three parameters:\n",
    "- `LOW_DELTA`: Pixel intensity value corresponding to change in `LOW_THRESH`\n",
    "- `HIGH_DELTA`: Pixel intensity value corresponding to change in `HIGH_THRESH`\n",
    "- `N_STEPS`: Number of steps of delta in threshold to take in both directions"
   ]
  },
  {
   "cell_type": "code",
   "execution_count": 8,
   "metadata": {
    "scrolled": false
   },
   "outputs": [],
   "source": [
    "LOW_THRESH = .07  # .10 #.09\n",
    "HIGH_THRESH = .12\n",
    "\n",
    "LOW_DELTA = .01\n",
    "HIGH_DELTA = .01\n",
    "N_STEPS = 0\n",
    "results = None\n",
    "import skimage\n",
    "%matplotlib inline\n",
    "def test_thresholds(low_thresh_init, low_thresh, high_thresh_init,\n",
    "                    high_thresh, low_delta, high_delta, n_steps):\n",
    "  global results, LOW_THRESH, HIGH_THRESH, LOW_DELTA, HIGH_DELTA, N_STEPS\n",
    "  LOW_THRESH, HIGH_THRESH, N_STEPS = low_thresh, high_thresh, n_steps\n",
    "  if low_thresh_init is not None:\n",
    "    LOW_THRESH = eval(f'skimage.filters.threshold_{low_thresh_init}(pipe.imdenoised[:, lly:ury, llx:urx])')\n",
    "  if high_thresh_init is not None:\n",
    "    if high_thresh_init == 'isodata':\n",
    "      HIGH_THRESH = eval(f'skimage.filters.threshold_{high_thresh_init}(pipe.imdenoised[:, lly:ury, llx:urx])')\n",
    "  LOW_DELTA, HIGH_DELTA = low_delta, high_delta\n",
    "  results = ac.testThresholds(pipe.imdenoised, LOW_THRESH, HIGH_THRESH, LOW_DELTA,\n",
    "                              HIGH_DELTA, N_STEPS, 'gist_earth')\n",
    "\n",
    "if on_colab:\n",
    "  _ = widgets.interact(test_thresholds,\n",
    "                      low_thresh_init=[None, *sm.util.THRESHOLD_METHODS],\n",
    "                      low_thresh=widgets.FloatSlider(LOW_THRESH, min=0, max=1, step=.01,\n",
    "                                                      readout_format='.4f', layout=widgets.Layout(width='100%')),\n",
    "                      high_thresh_init=[None, *sm.util.THRESHOLD_METHODS],\n",
    "                      high_thresh=widgets.FloatSlider(HIGH_THRESH, min=0, max=1, step=.01,\n",
    "                                                      readout_format='.4f', layout=widgets.Layout(width='100%')),\n",
    "                      low_delta=widgets.FloatSlider(LOW_DELTA, min=0, max=1, step=.0005,\n",
    "                                                    readout_format='.4f', layout=widgets.Layout(width='100%')),\n",
    "                      high_delta=widgets.FloatSlider(HIGH_DELTA, min=0, max=1, step=.0005,\n",
    "                                                      readout_format='.4f', layout=widgets.Layout(width='100%')),\n",
    "                      n_steps=widgets.IntSlider(N_STEPS, min=0, max=10,\n",
    "                                                layout=widgets.Layout(width='100%'))\n",
    "  )\n",
    "  # view_3D({'data': pipe.imdenoised, 'colormap': 'gray_r', 'name': 'denoised'}, *results)\n",
    "else:\n",
    "  viewer = napari.Viewer(ndisplay=3)\n",
    "  viewer.add_image(pipe.impreprocessed, scale=pipe.SCALE)\n",
    "  @magicgui(\n",
    "    call_button=\"Test Thresholds\",\n",
    "    low_auto_thresh={'choices': [None, *sm.util.THRESHOLD_METHODS]},\n",
    "    low_thresh={\"widget_type\": \"FloatSlider\", 'max': 1},\n",
    "    high_auto_thresh={'choices': [None, *sm.util.THRESHOLD_METHODS]},\n",
    "    high_thresh={\"widget_type\": \"FloatSlider\", 'max': 1},\n",
    "    low_delta={\"widget_type\": \"FloatSlider\", 'max': 1},\n",
    "    high_delta={\"widget_type\": \"FloatSlider\", 'max': 1}\n",
    "  )\n",
    "  def test_thresholds_gui(\n",
    "      low_auto_thresh=None,\n",
    "      low_thresh=LOW_THRESH,\n",
    "      high_auto_thresh=None,\n",
    "      high_thresh=HIGH_THRESH,\n",
    "      low_delta=LOW_DELTA,\n",
    "      high_delta=HIGH_DELTA,\n",
    "      n_steps=N_STEPS\n",
    "  ):\n",
    "    global results, LOW_THRESH, HIGH_THRESH, LOW_DELTA, HIGH_DELTA, N_STEPS\n",
    "    LOW_THRESH, HIGH_THRESH, N_STEPS = low_thresh, high_thresh, n_steps\n",
    "    lly, llx, ury, urx = pipe.in_box\n",
    "    if low_auto_thresh is not None:\n",
    "      LOW_THRESH = eval(f'skimage.filters.threshold_{low_auto_thresh}(pipe.imdenoised[:, lly:ury, llx:urx])')\n",
    "    if high_auto_thresh is not None:\n",
    "      # if high_auto_init == 'isodata':\n",
    "      HIGH_THRESH = eval(f'skimage.filters.threshold_{high_auto_thresh}(pipe.imdenoised[:, lly:ury, llx:urx])')\n",
    "    LOW_DELTA, HIGH_DELTA = low_delta, high_delta\n",
    "    results = ac.core._testThresholds(pipe.imdenoised, LOW_THRESH, HIGH_THRESH, LOW_DELTA,\n",
    "                                      HIGH_DELTA, N_STEPS)\n",
    "    past_state = viewer.window.qt_viewer.view.camera.get_state()\n",
    "    viewer.layers.clear()\n",
    "\n",
    "    viewer.add_image(pipe.impreprocessed, scale=pipe.SCALE)\n",
    "\n",
    "    n_images = len(results)\n",
    "    for itr in range(n_images):\n",
    "      viewer.add_labels(**results[itr], scale=pipe.SCALE)\n",
    "    viewer.window.qt_viewer.view.camera.set_state(past_state)\n",
    "\n",
    "  viewer.window.add_dock_widget(test_thresholds_gui)\n",
    "  test_thresholds_gui()"
   ]
  },
  {
   "cell_type": "code",
   "execution_count": 5,
   "metadata": {},
   "outputs": [
    {
     "name": "stdout",
     "output_type": "stream",
     "text": [
      "0.07 0.12\n",
      "Prefiltering Volume: 254518\n"
     ]
    }
   ],
   "source": [
    "print(LOW_THRESH, HIGH_THRESH)\n",
    "\n",
    "pipe.segment(LOW_THRESH, HIGH_THRESH)"
   ]
  },
  {
   "cell_type": "code",
   "execution_count": 17,
   "metadata": {},
   "outputs": [],
   "source": [
    "view_3D({'data': pipe.imsegmented, 'colormap': 'inferno', 'name': 'segmented'},\n",
    "        #{'data': pipe.filtered_labels, 'colormap': 'gray', 'gamma': .8, 'name': 'filtered_labels'},\n",
    "        {'data': pipe.labels, 'colormap': 'gist_earth', 'gamma': .8, 'name': 'labels'})"
   ]
  },
  {
   "cell_type": "markdown",
   "metadata": {},
   "source": [
    "### 3.3 Visualize segmented cells to determine cutoff volumes\n",
    "\n",
    "#### 3.3.1 Check segmented cells on whole image"
   ]
  },
  {
   "cell_type": "code",
   "execution_count": 6,
   "metadata": {},
   "outputs": [],
   "source": [
    "pipe.volume_cutoff()"
   ]
  },
  {
   "cell_type": "code",
   "execution_count": 7,
   "metadata": {},
   "outputs": [
    {
     "data": {
      "text/plain": [
       "[array([ 19, 879, 430], dtype=int64),\n",
       " array([  5, 695, 205], dtype=int64),\n",
       " array([ 13, 705, 210], dtype=int64),\n",
       " array([ 10, 658, 303], dtype=int64),\n",
       " array([ 23, 397,  74], dtype=int64),\n",
       " array([ 33, 413,  47], dtype=int64),\n",
       " array([  8, 729, 324], dtype=int64),\n",
       " array([  9, 523, 106], dtype=int64),\n",
       " array([ 10, 512, 119], dtype=int64),\n",
       " array([ 31, 226, 255], dtype=int64),\n",
       " array([ 36, 232, 236], dtype=int64),\n",
       " array([ 36, 236, 248], dtype=int64),\n",
       " array([  9, 111, 260], dtype=int64),\n",
       " array([ 15, 104, 259], dtype=int64),\n",
       " array([ 13, 230,  63], dtype=int64),\n",
       " array([ 13, 233,  80], dtype=int64),\n",
       " array([ 15, 237,  97], dtype=int64),\n",
       " array([ 29, 950, 372], dtype=int64),\n",
       " array([ 29, 959, 378], dtype=int64),\n",
       " array([  9, 737, 121], dtype=int64),\n",
       " array([ 32, 372, 295], dtype=int64),\n",
       " array([  10, 1001,  147], dtype=int64),\n",
       " array([  4, 993, 449], dtype=int64),\n",
       " array([ 19, 760, 162], dtype=int64),\n",
       " array([  5, 907, 197], dtype=int64),\n",
       " array([ 15, 925, 179], dtype=int64),\n",
       " array([ 25, 269, 262], dtype=int64),\n",
       " array([  8, 635, 279], dtype=int64),\n",
       " array([ 19, 635, 291], dtype=int64),\n",
       " array([  9, 827, 101], dtype=int64),\n",
       " array([ 13, 821, 118], dtype=int64),\n",
       " array([10, 68, 33], dtype=int64),\n",
       " array([ 15, 748, 229], dtype=int64),\n",
       " array([ 23, 754, 214], dtype=int64),\n",
       " array([ 13, 144, 100], dtype=int64),\n",
       " array([ 19, 170,  95], dtype=int64),\n",
       " array([ 20, 176,  84], dtype=int64),\n",
       " array([ 28, 376,  32], dtype=int64),\n",
       " array([ 15, 244, 177], dtype=int64),\n",
       " array([ 11, 274, 163], dtype=int64),\n",
       " array([ 33,   1, 121], dtype=int64),\n",
       " array([  8, 964, 430], dtype=int64),\n",
       " array([ 11, 941, 434], dtype=int64),\n",
       " array([ 18, 984, 410], dtype=int64),\n",
       " array([ 30, 830, 246], dtype=int64),\n",
       " array([ 30, 844, 227], dtype=int64),\n",
       " array([ 32, 837, 206], dtype=int64),\n",
       " array([ 26, 126,   8], dtype=int64),\n",
       " array([31, 93, 18], dtype=int64),\n",
       " array([ 10, 256, 151], dtype=int64),\n",
       " array([ 31, 252, 214], dtype=int64),\n",
       " array([ 25, 642,  76], dtype=int64),\n",
       " array([ 30, 640,  92], dtype=int64),\n",
       " array([ 25, 468,  78], dtype=int64),\n",
       " array([ 26, 469,  99], dtype=int64),\n",
       " array([ 10, 714,  86], dtype=int64),\n",
       " array([ 12, 690,  94], dtype=int64),\n",
       " array([ 19, 702, 109], dtype=int64),\n",
       " array([ 19, 536, 212], dtype=int64),\n",
       " array([ 22, 538, 258], dtype=int64),\n",
       " array([ 30, 197,  38], dtype=int64),\n",
       " array([ 13, 487, 220], dtype=int64),\n",
       " array([ 13, 680, 359], dtype=int64),\n",
       " array([ 23, 709, 342], dtype=int64),\n",
       " array([ 30, 730, 341], dtype=int64),\n",
       " array([ 10, 588, 267], dtype=int64),\n",
       " array([ 15, 596, 258], dtype=int64),\n",
       " array([ 15, 597, 246], dtype=int64),\n",
       " array([ 23, 433, 144], dtype=int64),\n",
       " array([ 23, 442, 179], dtype=int64),\n",
       " array([ 24, 445, 152], dtype=int64),\n",
       " array([ 32, 405, 130], dtype=int64),\n",
       " array([  8, 878, 111], dtype=int64),\n",
       " array([ 19, 866, 155], dtype=int64),\n",
       " array([ 19, 873, 177], dtype=int64),\n",
       " array([ 21, 866, 173], dtype=int64),\n",
       " array([ 23, 894, 151], dtype=int64),\n",
       " array([ 23, 896, 120], dtype=int64),\n",
       " array([  8, 973, 292], dtype=int64),\n",
       " array([  9, 968, 279], dtype=int64),\n",
       " array([ 10, 963, 269], dtype=int64),\n",
       " array([ 12, 938, 237], dtype=int64),\n",
       " array([ 10, 116, 140], dtype=int64),\n",
       " array([ 11, 120, 122], dtype=int64),\n",
       " array([ 20, 111, 107], dtype=int64),\n",
       " array([ 22, 111,  98], dtype=int64),\n",
       " array([26, 97, 76], dtype=int64),\n",
       " array([32, 99, 69], dtype=int64),\n",
       " array([ 24, 764, 399], dtype=int64),\n",
       " array([ 28, 729, 370], dtype=int64),\n",
       " array([ 10, 516,  42], dtype=int64),\n",
       " array([ 12, 553,  74], dtype=int64),\n",
       " array([ 14, 553,  61], dtype=int64),\n",
       " array([ 26, 508,  79], dtype=int64),\n",
       " array([ 30, 505,  99], dtype=int64),\n",
       " array([  5, 522, 197], dtype=int64),\n",
       " array([  8, 506, 170], dtype=int64),\n",
       " array([ 13, 533, 148], dtype=int64),\n",
       " array([ 13, 533, 160], dtype=int64),\n",
       " array([ 13, 564, 201], dtype=int64),\n",
       " array([ 28, 540, 145], dtype=int64),\n",
       " array([  9, 433,  35], dtype=int64),\n",
       " array([  9, 435,  50], dtype=int64),\n",
       " array([  9, 438, 149], dtype=int64),\n",
       " array([  9, 454,  35], dtype=int64),\n",
       " array([ 10, 418,  25], dtype=int64),\n",
       " array([ 12, 447,  74], dtype=int64),\n",
       " array([ 16, 433,  89], dtype=int64),\n",
       " array([ 17, 442, 102], dtype=int64),\n",
       " array([ 19, 464, 153], dtype=int64),\n",
       " array([ 25, 420,  71], dtype=int64),\n",
       " array([ 13, 907, 363], dtype=int64),\n",
       " array([ 15, 935, 377], dtype=int64),\n",
       " array([ 17, 914, 346], dtype=int64),\n",
       " array([ 19, 921, 321], dtype=int64),\n",
       " array([ 19, 951, 344], dtype=int64),\n",
       " array([ 20, 903, 339], dtype=int64),\n",
       " array([ 23, 923, 254], dtype=int64),\n",
       " array([ 26, 931, 274], dtype=int64),\n",
       " array([ 27, 969, 274], dtype=int64),\n",
       " array([ 28, 943, 269], dtype=int64),\n",
       " array([ 30, 957, 238], dtype=int64),\n",
       " array([ 33, 981, 172], dtype=int64),\n",
       " array([  9, 604, 354], dtype=int64),\n",
       " array([  9, 632, 364], dtype=int64),\n",
       " array([ 13, 581, 327], dtype=int64),\n",
       " array([ 15, 568, 340], dtype=int64),\n",
       " array([ 29, 681, 341], dtype=int64),\n",
       " array([ 31, 629, 360], dtype=int64),\n",
       " array([ 31, 687, 332], dtype=int64),\n",
       " array([  8, 130, 273], dtype=int64),\n",
       " array([  9, 200, 233], dtype=int64),\n",
       " array([ 11, 187, 255], dtype=int64),\n",
       " array([ 11, 211, 252], dtype=int64),\n",
       " array([ 16,  99, 285], dtype=int64),\n",
       " array([ 24, 204, 149], dtype=int64),\n",
       " array([ 31, 134, 272], dtype=int64),\n",
       " array([ 31, 198, 188], dtype=int64),\n",
       " array([  8, 686, 312], dtype=int64),\n",
       " array([  9, 602,  99], dtype=int64),\n",
       " array([  9, 623, 137], dtype=int64),\n",
       " array([ 10, 603, 108], dtype=int64),\n",
       " array([ 12, 633, 235], dtype=int64),\n",
       " array([ 12, 637, 222], dtype=int64),\n",
       " array([ 12, 659, 244], dtype=int64),\n",
       " array([ 12, 687, 225], dtype=int64),\n",
       " array([ 14, 659, 233], dtype=int64),\n",
       " array([ 14, 682, 235], dtype=int64),\n",
       " array([ 22, 591,  94], dtype=int64),\n",
       " array([ 22, 639, 153], dtype=int64),\n",
       " array([ 26, 669, 115], dtype=int64),\n",
       " array([ 29, 666, 130], dtype=int64),\n",
       " array([ 29, 685, 121], dtype=int64),\n",
       " array([ 30, 616, 187], dtype=int64),\n",
       " array([ 32, 688,  76], dtype=int64),\n",
       " array([  6, 802, 347], dtype=int64),\n",
       " array([  8, 787, 183], dtype=int64),\n",
       " array([  8, 815, 280], dtype=int64),\n",
       " array([  8, 841, 268], dtype=int64),\n",
       " array([ 10, 833, 212], dtype=int64),\n",
       " array([ 10, 852, 198], dtype=int64),\n",
       " array([ 13, 787, 283], dtype=int64),\n",
       " array([ 15, 768, 302], dtype=int64),\n",
       " array([ 16, 762, 209], dtype=int64),\n",
       " array([ 17, 802, 271], dtype=int64),\n",
       " array([ 17, 812, 139], dtype=int64),\n",
       " array([ 17, 862, 313], dtype=int64),\n",
       " array([ 19, 803, 256], dtype=int64),\n",
       " array([ 19, 831, 341], dtype=int64),\n",
       " array([ 19, 859, 239], dtype=int64),\n",
       " array([ 25, 806, 193], dtype=int64),\n",
       " array([ 26, 785, 249], dtype=int64),\n",
       " array([ 27, 781, 323], dtype=int64),\n",
       " array([ 30, 795, 155], dtype=int64),\n",
       " array([ 31, 813, 136], dtype=int64),\n",
       " array([ 32, 818, 293], dtype=int64),\n",
       " array([  7,  25, 310], dtype=int64),\n",
       " array([ 8, 37, 77], dtype=int64),\n",
       " array([  9,  11, 189], dtype=int64),\n",
       " array([  9,  47, 116], dtype=int64),\n",
       " array([  9,  99, 247], dtype=int64),\n",
       " array([ 10,   6, 265], dtype=int64),\n",
       " array([ 10,  72, 254], dtype=int64),\n",
       " array([ 10, 155, 157], dtype=int64),\n",
       " array([ 12,  82, 190], dtype=int64),\n",
       " array([ 12, 108, 227], dtype=int64),\n",
       " array([ 16,   7, 276], dtype=int64),\n",
       " array([ 20,  45, 194], dtype=int64),\n",
       " array([ 20,  52, 246], dtype=int64),\n",
       " array([ 20, 123, 222], dtype=int64),\n",
       " array([ 21,  22, 128], dtype=int64),\n",
       " array([ 22,  70, 271], dtype=int64),\n",
       " array([ 24,  49, 300], dtype=int64),\n",
       " array([ 27,  20, 209], dtype=int64),\n",
       " array([ 27,  73, 263], dtype=int64),\n",
       " array([ 28,  78, 132], dtype=int64),\n",
       " array([ 30, 155, 128], dtype=int64),\n",
       " array([ 31,  79, 106], dtype=int64),\n",
       " array([ 32,  47, 266], dtype=int64),\n",
       " array([ 32, 132, 207], dtype=int64),\n",
       " array([ 37,  59, 204], dtype=int64),\n",
       " array([  7, 190, 284], dtype=int64),\n",
       " array([  7, 383, 204], dtype=int64),\n",
       " array([  7, 399, 305], dtype=int64),\n",
       " array([  7, 547, 306], dtype=int64),\n",
       " array([  8, 257,  16], dtype=int64),\n",
       " array([  8, 301, 280], dtype=int64),\n",
       " array([  8, 442, 318], dtype=int64),\n",
       " array([  9, 243, 282], dtype=int64),\n",
       " array([  9, 285, 276], dtype=int64),\n",
       " array([  9, 312, 159], dtype=int64),\n",
       " array([  9, 313, 238], dtype=int64),\n",
       " array([  9, 346, 180], dtype=int64),\n",
       " array([ 10, 360,  52], dtype=int64),\n",
       " array([ 12, 341, 271], dtype=int64),\n",
       " array([ 14, 339,  70], dtype=int64),\n",
       " array([ 16, 275, 226], dtype=int64),\n",
       " array([ 16, 384, 293], dtype=int64),\n",
       " array([ 17, 292,  43], dtype=int64),\n",
       " array([ 17, 304,  79], dtype=int64),\n",
       " array([ 17, 351, 199], dtype=int64),\n",
       " array([ 17, 388, 161], dtype=int64),\n",
       " array([ 19, 381, 126], dtype=int64),\n",
       " array([ 22, 185, 276], dtype=int64),\n",
       " array([ 23, 327, 144], dtype=int64),\n",
       " array([ 23, 415, 230], dtype=int64),\n",
       " array([ 26, 266,  60], dtype=int64),\n",
       " array([ 26, 289,  12], dtype=int64),\n",
       " array([ 27, 380, 193], dtype=int64),\n",
       " array([ 28, 429, 239], dtype=int64),\n",
       " array([ 29, 325, 207], dtype=int64),\n",
       " array([ 29, 351, 291], dtype=int64),\n",
       " array([ 30, 287, 123], dtype=int64),\n",
       " array([ 30, 332, 245], dtype=int64),\n",
       " array([ 30, 419, 250], dtype=int64),\n",
       " array([ 31, 297, 130], dtype=int64),\n",
       " array([ 31, 333,  82], dtype=int64),\n",
       " array([ 31, 435, 263], dtype=int64),\n",
       " array([ 31, 476, 240], dtype=int64),\n",
       " array([ 32, 330, 258], dtype=int64),\n",
       " array([ 32, 336, 207], dtype=int64),\n",
       " array([ 32, 352,  60], dtype=int64),\n",
       " array([ 37, 423, 193], dtype=int64)]"
      ]
     },
     "execution_count": 7,
     "metadata": {},
     "output_type": "execute_result"
    }
   ],
   "source": [
    "somas_load_path = 'Autocropped/CONTROL_MSP2.1MB_4_LONG MARK_20X_SEC 1_LEFT HILUS_28 DAYczi-ML/.somas_estimates.npy'\n",
    "pipe.approximate_somas(src=somas_load_path)"
   ]
  },
  {
   "cell_type": "markdown",
   "metadata": {},
   "source": [
    "# napari clump sep"
   ]
  },
  {
   "cell_type": "code",
   "execution_count": null,
   "metadata": {},
   "outputs": [],
   "source": [
    "# np.save('tmp_filtered_coords_CTL.npy', viewer.layers[-1].data)"
   ]
  },
  {
   "cell_type": "code",
   "execution_count": null,
   "metadata": {},
   "outputs": [],
   "source": [
    "# Reproduce (reload)\n",
    "# somas_estimates = np.vstack((somas_estimates, np.load('rejected_clumps-ML.npy')))"
   ]
  },
  {
   "cell_type": "code",
   "execution_count": 8,
   "metadata": {},
   "outputs": [],
   "source": [
    "seed_src = 'Autocropped/CONTROL_MSP2.1MB_4_LONG MARK_20X_SEC 1_LEFT HILUS_28 DAYczi-ML/.somas_estimates.npy'\n",
    "pipe.separate_clumps(seed_src)"
   ]
  },
  {
   "cell_type": "code",
   "execution_count": 9,
   "metadata": {},
   "outputs": [
    {
     "data": {
      "text/plain": [
       "65"
      ]
     },
     "execution_count": 9,
     "metadata": {},
     "output_type": "execute_result"
    }
   ],
   "source": [
    "len(pipe.regions)"
   ]
  },
  {
   "cell_type": "markdown",
   "metadata": {},
   "source": [
    "#### 3.3.2: Check batches of objects"
   ]
  },
  {
   "cell_type": "code",
   "execution_count": 10,
   "metadata": {
    "scrolled": false
   },
   "outputs": [
    {
     "name": "stdout",
     "output_type": "stream",
     "text": [
      "65 objects detected.\n",
      "There will be 2 batches, set `BATCH_NO` from 0 to 1 inclusive\n"
     ]
    },
    {
     "data": {
      "application/vnd.jupyter.widget-view+json": {
       "model_id": "950650425d1c4d7ab13d750cde1d438c",
       "version_major": 2,
       "version_minor": 0
      },
      "text/plain": [
       "interactive(children=(IntSlider(value=0, description='BATCH_NO', layout=Layout(width='100%'), max=1), Output()…"
      ]
     },
     "metadata": {},
     "output_type": "display_data"
    }
   ],
   "source": [
    "pipe.show_segmented('grid', 50)"
   ]
  },
  {
   "cell_type": "markdown",
   "metadata": {},
   "source": [
    "#### 3.3.2: Check individual objects\n",
    "Select individual objects using `OBJ_INDEX`."
   ]
  },
  {
   "cell_type": "code",
   "execution_count": 11,
   "metadata": {},
   "outputs": [],
   "source": [
    "pipe.FINAL_PT_ESTIMATES"
   ]
  },
  {
   "cell_type": "code",
   "execution_count": 12,
   "metadata": {
    "tags": []
   },
   "outputs": [
    {
     "ename": "TypeError",
     "evalue": "'<=' not supported between instances of 'int' and 'NoneType'",
     "output_type": "error",
     "traceback": [
      "\u001b[1;31m---------------------------------------------------------------------------\u001b[0m",
      "\u001b[1;31mTypeError\u001b[0m                                 Traceback (most recent call last)",
      "\u001b[1;32mC:\\Users\\SWANAN~1\\AppData\\Local\\Temp/ipykernel_18484/2173287059.py\u001b[0m in \u001b[0;36m<module>\u001b[1;34m\u001b[0m\n\u001b[1;32m----> 1\u001b[1;33m \u001b[0mpipe\u001b[0m\u001b[1;33m.\u001b[0m\u001b[0mshow_segmented\u001b[0m\u001b[1;33m(\u001b[0m\u001b[1;33m)\u001b[0m\u001b[1;33m\u001b[0m\u001b[1;33m\u001b[0m\u001b[0m\n\u001b[0m",
      "\u001b[1;32md:\\Kushaan\\SMorph\\smorph\\util\\autocrop\\core.py\u001b[0m in \u001b[0;36mshow_segmented\u001b[1;34m(self, view, grid_size)\u001b[0m\n\u001b[0;32m   1169\u001b[0m                 \u001b[0mviewer\u001b[0m\u001b[1;33m.\u001b[0m\u001b[0mwindow\u001b[0m\u001b[1;33m.\u001b[0m\u001b[0m_dock_widgets\u001b[0m\u001b[1;33m[\u001b[0m\u001b[1;34m'View individual region'\u001b[0m\u001b[1;33m]\u001b[0m\u001b[1;33m.\u001b[0m\u001b[0msetFixedHeight\u001b[0m\u001b[1;33m(\u001b[0m\u001b[1;36m70\u001b[0m\u001b[1;33m)\u001b[0m\u001b[1;33m\u001b[0m\u001b[1;33m\u001b[0m\u001b[0m\n\u001b[0;32m   1170\u001b[0m                 \u001b[0mviewer\u001b[0m\u001b[1;33m.\u001b[0m\u001b[0mwindow\u001b[0m\u001b[1;33m.\u001b[0m\u001b[0madd_dock_widget\u001b[0m\u001b[1;33m(\u001b[0m\u001b[0mupdate_soma_estimates\u001b[0m\u001b[1;33m,\u001b[0m \u001b[0mname\u001b[0m\u001b[1;33m=\u001b[0m\u001b[1;34m'Update soma estimates'\u001b[0m\u001b[1;33m)\u001b[0m\u001b[1;33m\u001b[0m\u001b[1;33m\u001b[0m\u001b[0m\n\u001b[1;32m-> 1171\u001b[1;33m                 \u001b[0mview_single_region\u001b[0m\u001b[1;33m(\u001b[0m\u001b[1;33m)\u001b[0m\u001b[1;33m\u001b[0m\u001b[1;33m\u001b[0m\u001b[0m\n\u001b[0m",
      "\u001b[1;32m~\\AppData\\Local\\pypoetry\\Cache\\virtualenvs\\smorph-ObnBYCc1-py3.7\\lib\\site-packages\\magicgui\\widgets\\_function_gui.py\u001b[0m in \u001b[0;36m__call__\u001b[1;34m(self, update_widget, *args, **kwargs)\u001b[0m\n\u001b[0;32m    294\u001b[0m         \u001b[0mself\u001b[0m\u001b[1;33m.\u001b[0m\u001b[0m_tqdm_depth\u001b[0m \u001b[1;33m=\u001b[0m \u001b[1;36m0\u001b[0m  \u001b[1;31m# reset the tqdm stack count\u001b[0m\u001b[1;33m\u001b[0m\u001b[1;33m\u001b[0m\u001b[0m\n\u001b[0;32m    295\u001b[0m         \u001b[1;32mwith\u001b[0m \u001b[0m_function_name_pointing_to_widget\u001b[0m\u001b[1;33m(\u001b[0m\u001b[0mself\u001b[0m\u001b[1;33m)\u001b[0m\u001b[1;33m:\u001b[0m\u001b[1;33m\u001b[0m\u001b[1;33m\u001b[0m\u001b[0m\n\u001b[1;32m--> 296\u001b[1;33m             \u001b[0mvalue\u001b[0m \u001b[1;33m=\u001b[0m \u001b[0mself\u001b[0m\u001b[1;33m.\u001b[0m\u001b[0m_function\u001b[0m\u001b[1;33m(\u001b[0m\u001b[1;33m*\u001b[0m\u001b[0mbound\u001b[0m\u001b[1;33m.\u001b[0m\u001b[0margs\u001b[0m\u001b[1;33m,\u001b[0m \u001b[1;33m**\u001b[0m\u001b[0mbound\u001b[0m\u001b[1;33m.\u001b[0m\u001b[0mkwargs\u001b[0m\u001b[1;33m)\u001b[0m\u001b[1;33m\u001b[0m\u001b[1;33m\u001b[0m\u001b[0m\n\u001b[0m\u001b[0;32m    297\u001b[0m \u001b[1;33m\u001b[0m\u001b[0m\n\u001b[0;32m    298\u001b[0m         \u001b[0mself\u001b[0m\u001b[1;33m.\u001b[0m\u001b[0m_call_count\u001b[0m \u001b[1;33m+=\u001b[0m \u001b[1;36m1\u001b[0m\u001b[1;33m\u001b[0m\u001b[1;33m\u001b[0m\u001b[0m\n",
      "\u001b[1;32md:\\Kushaan\\SMorph\\smorph\\util\\autocrop\\core.py\u001b[0m in \u001b[0;36mview_single_region\u001b[1;34m(selected_region)\u001b[0m\n\u001b[0;32m   1116\u001b[0m                     \u001b[0mll\u001b[0m \u001b[1;33m=\u001b[0m \u001b[0mnp\u001b[0m\u001b[1;33m.\u001b[0m\u001b[0marray\u001b[0m\u001b[1;33m(\u001b[0m\u001b[1;33m[\u001b[0m\u001b[0mminz\u001b[0m\u001b[1;33m,\u001b[0m \u001b[0mminy\u001b[0m\u001b[1;33m,\u001b[0m \u001b[0mminx\u001b[0m\u001b[1;33m]\u001b[0m\u001b[1;33m)\u001b[0m\u001b[1;33m\u001b[0m\u001b[1;33m\u001b[0m\u001b[0m\n\u001b[0;32m   1117\u001b[0m                     \u001b[0mur\u001b[0m \u001b[1;33m=\u001b[0m \u001b[0mnp\u001b[0m\u001b[1;33m.\u001b[0m\u001b[0marray\u001b[0m\u001b[1;33m(\u001b[0m\u001b[1;33m[\u001b[0m\u001b[0mmaxz\u001b[0m\u001b[1;33m,\u001b[0m \u001b[0mmaxy\u001b[0m\u001b[1;33m,\u001b[0m \u001b[0mmaxx\u001b[0m\u001b[1;33m]\u001b[0m\u001b[1;33m)\u001b[0m \u001b[1;33m-\u001b[0m \u001b[1;36m1\u001b[0m  \u001b[1;31m# upper-right\u001b[0m\u001b[1;33m\u001b[0m\u001b[1;33m\u001b[0m\u001b[0m\n\u001b[1;32m-> 1118\u001b[1;33m                     \u001b[0minidx\u001b[0m \u001b[1;33m=\u001b[0m \u001b[0mnp\u001b[0m\u001b[1;33m.\u001b[0m\u001b[0mall\u001b[0m\u001b[1;33m(\u001b[0m\u001b[0mnp\u001b[0m\u001b[1;33m.\u001b[0m\u001b[0mlogical_and\u001b[0m\u001b[1;33m(\u001b[0m\u001b[0mll\u001b[0m \u001b[1;33m<=\u001b[0m \u001b[0msomas_estimates\u001b[0m\u001b[1;33m,\u001b[0m \u001b[0msomas_estimates\u001b[0m \u001b[1;33m<=\u001b[0m \u001b[0mur\u001b[0m\u001b[1;33m)\u001b[0m\u001b[1;33m,\u001b[0m \u001b[0maxis\u001b[0m\u001b[1;33m=\u001b[0m\u001b[1;36m1\u001b[0m\u001b[1;33m)\u001b[0m\u001b[1;33m\u001b[0m\u001b[1;33m\u001b[0m\u001b[0m\n\u001b[0m\u001b[0;32m   1119\u001b[0m                     \u001b[0msomas_coords\u001b[0m \u001b[1;33m=\u001b[0m \u001b[0mnp\u001b[0m\u001b[1;33m.\u001b[0m\u001b[0marray\u001b[0m\u001b[1;33m(\u001b[0m\u001b[0msomas_estimates\u001b[0m\u001b[1;33m)\u001b[0m\u001b[1;33m[\u001b[0m\u001b[0minidx\u001b[0m\u001b[1;33m]\u001b[0m\u001b[1;33m\u001b[0m\u001b[1;33m\u001b[0m\u001b[0m\n\u001b[0;32m   1120\u001b[0m                     \u001b[0msomas_coords\u001b[0m \u001b[1;33m-=\u001b[0m \u001b[0mll\u001b[0m\u001b[1;33m\u001b[0m\u001b[1;33m\u001b[0m\u001b[0m\n",
      "\u001b[1;31mTypeError\u001b[0m: '<=' not supported between instances of 'int' and 'NoneType'"
     ]
    }
   ],
   "source": [
    "pipe.show_segmented()"
   ]
  },
  {
   "cell_type": "code",
   "execution_count": null,
   "metadata": {},
   "outputs": [],
   "source": [
    "# np.save('tmp_filtered_coords_CTL.npy', viewer.layers[-1].data)\n",
    "# reconstructed_labels = np.zeros(denoised.shape, dtype=int)\n",
    "# for itr in range(len(regions)):\n",
    "#     minz, miny, minx, maxz, maxy, maxx = regions[itr]['bbox']\n",
    "#     reconstructed_labels[minz:maxz, miny:maxy, minx:maxx] += regions[itr]['image'] * (itr + 1)\n",
    "# segmented = denoised * (reconstructed_labels > 0)\n",
    "# len(regions)"
   ]
  },
  {
   "cell_type": "markdown",
   "metadata": {},
   "source": [
    "---\n",
    "\n",
    "## Step 4: Export autocropped 3D cells or 2D max intensity projections\n",
    "\n",
    "Set two parameters:\n",
    "- `LOW_VOLUME_CUTOFF`: to filter out noise/artifacts\n",
    "- `HIGH_VOLUME_CUTOFF`: to filter out cell clusters\n",
    "\n",
    "For choosing between 3D segmented cells or 2D max intensity projections:\n",
    "- Set `OUTPUT_OPTION` = '3d' for 3D cells, or\n",
    "- Set `OUTPUT_OPTION` = 'mip' for Max Intensity Projections."
   ]
  },
  {
   "cell_type": "code",
   "execution_count": null,
   "metadata": {},
   "outputs": [],
   "source": [
    "LOW_VOLUME_CUTOFF = regions[0]['vol']  # filter noise/artifacts\n",
    "HIGH_VOLUME_CUTOFF = regions[-1]['vol']  # filter cell clusters\n",
    "OUTPUT_OPTION = 'both'  # '3d' for 3D cells, 'mip' for Max Intensity Projections\n",
    "SEGMENT_TYPE = 'both'\n",
    "reconstructed_cells = None\n",
    "\n",
    "\n",
    "def volume_range(low_volume_cutoff=LOW_VOLUME_CUTOFF,\n",
    "                 high_volume_cutoff=HIGH_VOLUME_CUTOFF, output_option=OUTPUT_OPTION,\n",
    "                 segment_type=SEGMENT_TYPE):\n",
    "  global LOW_VOLUME_CUTOFF, HIGH_VOLUME_CUTOFF, OUTPUT_OPTION, SEGMENT_TYPE, reconstructed_cells\n",
    "  LOW_VOLUME_CUTOFF, HIGH_VOLUME_CUTOFF = low_volume_cutoff, high_volume_cutoff\n",
    "  OUTPUT_OPTION, SEGMENT_TYPE = output_option, segment_type\n",
    "\n",
    "  reconstructed_cells = np.zeros_like(denoised)\n",
    "  for region in regions:\n",
    "    if LOW_VOLUME_CUTOFF <= region['vol'] <= HIGH_VOLUME_CUTOFF:\n",
    "      minz, miny, minx, maxz, maxy, maxx = region['bbox']\n",
    "      reconstructed_cells[minz:maxz, miny:maxy, minx:maxx] += region['image'] * denoised[minz:maxz, miny:maxy, minx:maxx]\n",
    "  ac.projectXYZ(reconstructed_cells, .5, .5, 1, 'gist_heat')\n",
    "\n",
    "_ = widgets.interact(volume_range, low_volume_cutoff=widgets.IntSlider(value=LOW_VOLUME_CUTOFF,\n",
    "                         min=regions[0]['vol'], max=regions[-1]['vol'], layout=widgets.Layout(width='100%')),\n",
    "                     high_volume_cutoff=widgets.IntSlider(value=HIGH_VOLUME_CUTOFF,\n",
    "                         min=regions[0]['vol'], max=regions[-1]['vol'], layout=widgets.Layout(width='100%')),\n",
    "                     output_option=['3d', 'mip', 'both'],\n",
    "                     segment_type=['segmented', 'unsegmented', 'both'])\n",
    "# view_3D({'data': original, 'colormap': 'gray', 'name': 'original'},\n",
    "#         {'data': reconstructed_cells, 'name': 'output'})"
   ]
  },
  {
   "cell_type": "code",
   "execution_count": null,
   "metadata": {},
   "outputs": [],
   "source": [
    "LOW_VOLUME_CUTOFF = regions[0]['vol']  # filter noise/artifacts\n",
    "HIGH_VOLUME_CUTOFF = regions[-1]['vol']  # filter cell clusters\n",
    "OUTPUT_OPTION = 'both'  # '3d' for 3D cells, 'mip' for Max Intensity Projections\n",
    "SEGMENT_TYPE = 'both'\n",
    "reconstructed_cells = None\n",
    "\n",
    "viewer = napari.Viewer(ndisplay=3)\n",
    "reconstructed_cells = np.zeros_like(denoised)\n",
    "viewer.add_image(reconstructed_cells, colormap='inferno', scale=SCALE)\n",
    "minz, miny, minx, maxz, maxy, maxx = region['bbox']\n",
    "\n",
    "\n",
    "region_props = PyQt5.QtWidgets.QLabel()\n",
    "region_inclusivity = np.ones(len(regions), dtype=bool)\n",
    "REGION_INCLUSIVITY_LABELS = ['Include Region', 'Exclude Region']\n",
    "\n",
    "n_region = 0\n",
    "PROPS = ['area',\n",
    "# 'convex_area',\n",
    "# 'equivalent_diameter',\n",
    "# 'euler_number',\n",
    "# 'extent',\n",
    "# 'feret_diameter_max',\n",
    "# 'major_axis_length',\n",
    "# 'minor_axis_length',\n",
    "# 'solidity'\n",
    "]\n",
    "\n",
    "vol_cutoff_slider = superqt.QLabeledRangeSlider()\n",
    "vol_cutoff_slider.setRange(0, regions[-1]['vol'])\n",
    "vol_cutoff_slider.setOrientation(1)\n",
    "vol_cutoff_slider.setValue([LOW_VOLUME_CUTOFF, HIGH_VOLUME_CUTOFF])\n",
    "vol_cutoff_slider.setEdgeLabelMode(superqt.sliders._labeled.EdgeLabelMode.NoLabel)\n",
    "vol_cutoff_slider.setContentsMargins(25, 5, 25, 5)\n",
    "for i in (0, 1):\n",
    "  # vol_cutoff_slider.children()[i].setAlignment(PyQt5.QtCore.Qt.AlignCenter)\n",
    "  vol_cutoff_slider.children()[i].setFixedWidth(len(str(int(regions[-1]['vol']))) * 20)\n",
    "\n",
    "def vol_cutoff_update():\n",
    "  global LOW_VOLUME_CUTOFF, HIGH_VOLUME_CUTOFF, reconstructed_cells\n",
    "  reconstructed_cells.fill(0)\n",
    "  LOW_VOLUME_CUTOFF, HIGH_VOLUME_CUTOFF = vol_cutoff_slider.value()\n",
    "  for region in regions:\n",
    "    if LOW_VOLUME_CUTOFF <= region['vol'] <= HIGH_VOLUME_CUTOFF:\n",
    "      minz, miny, minx, maxz, maxy, maxx = region['bbox']\n",
    "      segmented_cell = region['image'] * denoised[minz:maxz, miny:maxy, minx:maxx]\n",
    "      segmented_cell = segmented_cell / (segmented_cell.max() - segmented_cell.min())\n",
    "      reconstructed_cells[minz:maxz, miny:maxy, minx:maxx] += segmented_cell\n",
    "  minz, miny, minx, maxz, maxy, maxx = regions[n_region]['bbox']\n",
    "  viewer.layers[0].data = reconstructed_cells\n",
    "\n",
    "vol_cutoff_slider.valueChanged.connect(vol_cutoff_update)\n",
    "\n",
    "\n",
    "@magicgui(\n",
    "  call_button='Export Cells',\n",
    "  output_option=dict(choices=['both', '3d', 'mip']),\n",
    "  segment_type=dict(choices=['both', 'segmented', 'unsegmented'])\n",
    ")\n",
    "def export_cells(\n",
    "  output_option,\n",
    "  segment_type\n",
    "):\n",
    "  global OUTPUT_OPTION, SEGMENT_TYPE, reconstructed_cells\n",
    "  OUTPUT_OPTION, SEGMENT_TYPE = output_option, segment_type\n",
    "  ac.export_cells(CONFOCAL_TISSUE_IMAGE, LOW_VOLUME_CUTOFF,\n",
    "                  HIGH_VOLUME_CUTOFF, OUTPUT_OPTION, denoised,\n",
    "                  regions, None, SEGMENT_TYPE, NAME_ROI, roi_polygon)\n",
    "\n",
    "\n",
    "viewer.window.add_dock_widget(vol_cutoff_slider, name='Volume Cutoff', area='bottom')\n",
    "\n",
    "viewer.window._dock_widgets['Volume Cutoff'].setFixedHeight(80)\n",
    "viewer.window.add_dock_widget(export_cells, name='Export Cells')\n",
    "vol_cutoff_update()"
   ]
  },
  {
   "cell_type": "code",
   "execution_count": null,
   "metadata": {},
   "outputs": [],
   "source": [
    "params = {#'CONTRAST_PTILES': CONTRAST_PTILES,\n",
    "          'REF_IMAGE': REF_IMAGE,\n",
    "          'CLIP_LIMIT': CLIP_LIMIT,\n",
    "          'LOW_THRESH': LOW_THRESH,\n",
    "          'HIGH_THRESH': HIGH_THRESH,\n",
    "          'SELECT_ROI': SELECT_ROI,\n",
    "          'NAME_ROI': NAME_ROI,\n",
    "          'PRE_LOW_VOLUME_CUTOFF': PRE_LOW_VOLUME_CUTOFF,\n",
    "          'LOW_VOLUME_CUTOFF': LOW_VOLUME_CUTOFF,  # filter noise/artifacts\n",
    "          'HIGH_VOLUME_CUTOFF': HIGH_VOLUME_CUTOFF,  # filter cell clusters\n",
    "          'OUTPUT_TYPE': SEGMENT_TYPE\n",
    "}\n",
    "\n",
    "DIR = getcwd() + '/Autocropped/'\n",
    "IMAGE_NAME = '.'.join(path.basename(TISSUE_IMAGE).split('.')[:-1])\n",
    "OUT_DIR = DIR + IMAGE_NAME + \\\n",
    "        f'{\"\" if NAME_ROI == \"\" else \"-\" + str(NAME_ROI)}/'\n",
    "with open(OUT_DIR + '.params.json', 'w') as out:\n",
    "    json.dump(params, out)\n",
    "\n",
    "\n",
    "out = np.array([ALL_PT_ESTIMATES, FINAL_PT_ESTIMATES])\n",
    "np.save(OUT_DIR + '.somas_estimates.npy', out)"
   ]
  }
 ],
 "metadata": {
  "interpreter": {
   "hash": "505a5a09a018729871b9cc7f8dbd3560d8285490b99df05e65532aacc0f83603"
  },
  "kernelspec": {
   "display_name": "Python 3.7.9 64-bit ('smorph-ObnBYCc1-py3.7': poetry)",
   "name": "python3"
  },
  "language_info": {
   "codemirror_mode": {
    "name": "ipython",
    "version": 3
   },
   "file_extension": ".py",
   "mimetype": "text/x-python",
   "name": "python",
   "nbconvert_exporter": "python",
   "pygments_lexer": "ipython3",
   "version": "3.10.1"
  }
 },
 "nbformat": 4,
 "nbformat_minor": 2
}
