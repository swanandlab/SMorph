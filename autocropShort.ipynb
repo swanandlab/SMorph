{
 "cells": [
  {
   "cell_type": "markdown",
   "metadata": {},
   "source": [
    "## Setup\n",
    "\n",
    "Please execute the cell(s) below to initialize the notebook environment."
   ]
  },
  {
   "cell_type": "code",
   "execution_count": 1,
   "metadata": {
    "tags": []
   },
   "outputs": [],
   "source": [
    "# Imports\n",
    "on_colab = 'google.colab' in str(get_ipython())\n",
    "\n",
    "import warnings\n",
    "warnings.filterwarnings('ignore')\n",
    "\n",
    "if not on_colab:\n",
    "  import napari\n",
    "import smorph as sm\n",
    "import smorph.util.autocrop as ac\n",
    "import ipywidgets as widgets\n",
    "\n",
    "from magicgui import magicgui\n",
    "import winsound"
   ]
  },
  {
   "cell_type": "code",
   "execution_count": 2,
   "metadata": {},
   "outputs": [],
   "source": [
    "# Helper function\n",
    "def view_3D(*args):\n",
    "    \"\"\"Views a 3D image.\"\"\"\n",
    "    n_images = len(args)\n",
    "    if not on_colab and n_images > 0:\n",
    "        with napari.gui_qt():\n",
    "            viewer = napari.view_image(**args[0], ndisplay=3, scale=pipe.SCALE)\n",
    "            for itr in range(1, n_images):\n",
    "                if args[itr]['data'].max() > 1 and args[itr]['data'].max() % 1 == 0:\n",
    "                    if 'colormap' in args[itr].keys():\n",
    "                        del args[itr]['colormap']\n",
    "                    if 'gamma' in args[itr].keys():\n",
    "                        del args[itr]['gamma']\n",
    "                    viewer.add_labels(**args[itr], scale=pipe.SCALE)\n",
    "                else:\n",
    "                    viewer.add_image(**args[itr], scale=pipe.SCALE)"
   ]
  },
  {
   "cell_type": "markdown",
   "metadata": {},
   "source": [
    "---\n",
    "\n",
    "## Step 1: Import Microscopic Image of the Tissue\n",
    "\n",
    "Set `TISSUE_IMAGE` to the path of the image file to be processed.\n",
    "\n",
    "1. Deconvolution\n",
    "2. Rolling ball background subtraction\n",
    "3. CLAHE\n",
    "4. ROI selection\n",
    "5. Non-local means denoising using auto-calibrated parameters using J-Invariance"
   ]
  },
  {
   "cell_type": "code",
   "execution_count": 3,
   "metadata": {
    "scrolled": false
   },
   "outputs": [],
   "source": [
    "TISSUE_IMAGE = 'Datasets/Confocal/SAL,DMI, FLX ADN HALO_TREATMENT_28 DAYS/control_28 days/CONTROL_MSP2.1MB_4_LONG MARK_20X_SEC 1_LEFT HILUS_28 DAYczi.czi'  #@param\n",
    "FILE_ROI = 'Datasets/Confocal/SAL,DMI, FLX ADN HALO_TREATMENT_28 DAYS/control_28 days/CONTROL_MSP2.1MB_4_LONG MARK_20X_SEC 1_LEFT HILUS_28 DAYczi_ML.roi'\n",
    "ROI_NAME = 'ML'\n",
    "\n",
    "DECONV_ITR = 30\n",
    "CLIP_LIMIT = .02\n",
    "\n",
    "REF_IMAGE = 'Datasets/Confocal/SAL,DMI, FLX ADN HALO_TREATMENT_28 DAYS/control_28 days/CONTROL_MSP3.1M_1_SINGLE MARK_20X_SEC 1_RIGHT HILUS_28 DAYczi.czi'\n",
    "REF_FILE_ROI = 'Datasets/Confocal/SAL,DMI, FLX ADN HALO_TREATMENT_28 DAYS/control_28 days/CONTROL_MSP3.1M_1_SINGLE MARK_20X_SEC 1_RIGHT HILUS_28 DAYczi_ML.roi'\n",
    "\n",
    "cache_dir = 'Cache/'\n",
    "\n",
    "pipe = ac.TissueImage(TISSUE_IMAGE, FILE_ROI, ROI_NAME, DECONV_ITR, CLIP_LIMIT, REF_IMAGE, REF_FILE_ROI, cache_dir)\n",
    "winsound.MessageBeep(0)"
   ]
  },
  {
   "cell_type": "markdown",
   "metadata": {},
   "source": [
    "---\n",
    "\n",
    "## Step 2: Select ROI using Polygonal Lasso Tool\n",
    "\n",
    "Set two variables:\n",
    "- `SELECT_ROI`: True, If you want to select ROI manually; else False\n",
    "- `NAME_ROI`: Name of the manually selected ROI\n",
    "- `FILE_ROI`: Path to the ROI file; else None"
   ]
  },
  {
   "cell_type": "code",
   "execution_count": null,
   "metadata": {},
   "outputs": [],
   "source": [
    "view_3D({'data': pipe.imoriginal, 'colormap': 'magma', 'name': 'original'},\n",
    "        {'data': pipe.imdeconvolved, 'colormap': 'magma', 'name': 'deconvolved'},\n",
    "        {'data': pipe.impreprocessed, 'colormap': 'magma', 'name': 'preprocessed'},\n",
    "        {'data': pipe.imdenoised, 'colormap': 'magma', 'name': 'denoised'})"
   ]
  },
  {
   "cell_type": "markdown",
   "metadata": {},
   "source": [
    "---\n",
    "\n",
    "## Step 3: Segmentation"
   ]
  },
  {
   "cell_type": "markdown",
   "metadata": {},
   "source": [
    "### 3.1 Global threshold & color label cells\n",
    "\n",
    "Set two parameters:\n",
    "- `LOW_THRESH`: Pixel intensity value corresponding to faintest branch's edge\n",
    "- `HIGH_THRESH`: Pixel intensity value corresponding to faintest soma\n",
    "\n",
    "Understand their effect by configuring three parameters:\n",
    "- `LOW_DELTA`: Pixel intensity value corresponding to change in `LOW_THRESH`\n",
    "- `HIGH_DELTA`: Pixel intensity value corresponding to change in `HIGH_THRESH`\n",
    "- `N_STEPS`: Number of steps of delta in threshold to take in both directions"
   ]
  },
  {
   "cell_type": "code",
   "execution_count": null,
   "metadata": {
    "scrolled": false
   },
   "outputs": [],
   "source": [
    "LOW_THRESH = .07\n",
    "HIGH_THRESH = .12\n",
    "LOW_AUTO_THRESH = 'triangle'\n",
    "HIGH_AUTO_THRESH = None\n",
    "\n",
    "LOW_DELTA = .01\n",
    "HIGH_DELTA = .01\n",
    "N_STEPS = 0\n",
    "results = None\n",
    "\n",
    "import skimage\n",
    "%matplotlib inline\n",
    "def test_thresholds(low_thresh_init, low_thresh, high_thresh_init,\n",
    "                    high_thresh, low_delta, high_delta, n_steps):\n",
    "  global results, LOW_THRESH, HIGH_THRESH, LOW_DELTA, HIGH_DELTA, N_STEPS, LOW_AUTO_THRESH, HIGH_AUTO_THRESH\n",
    "  LOW_THRESH, HIGH_THRESH, N_STEPS = low_thresh, high_thresh, n_steps\n",
    "  if low_thresh_init is not None:\n",
    "    LOW_THRESH = eval(f'skimage.filters.threshold_{low_thresh_init}(pipe.imdenoised[:, lly:ury, llx:urx])')\n",
    "  if high_thresh_init is not None:\n",
    "    HIGH_THRESH = eval(f'skimage.filters.threshold_{high_thresh_init}(pipe.imdenoised[:, lly:ury, llx:urx])')\n",
    "  LOW_DELTA, HIGH_DELTA = low_delta, high_delta\n",
    "  results = ac.testThresholds(pipe.imdenoised, LOW_THRESH, HIGH_THRESH, LOW_DELTA,\n",
    "                              HIGH_DELTA, N_STEPS, 'gist_earth')\n",
    "\n",
    "if on_colab:\n",
    "  _ = widgets.interact(test_thresholds,\n",
    "                      low_thresh_init=[None, *sm.util.THRESHOLD_METHODS],\n",
    "                      low_thresh=widgets.FloatSlider(LOW_THRESH, min=0, max=1, step=.01,\n",
    "                                                      readout_format='.4f', layout=widgets.Layout(width='100%')),\n",
    "                      high_thresh_init=[None, *sm.util.THRESHOLD_METHODS],\n",
    "                      high_thresh=widgets.FloatSlider(HIGH_THRESH, min=0, max=1, step=.01,\n",
    "                                                      readout_format='.4f', layout=widgets.Layout(width='100%')),\n",
    "                      low_delta=widgets.FloatSlider(LOW_DELTA, min=0, max=1, step=.0005,\n",
    "                                                    readout_format='.4f', layout=widgets.Layout(width='100%')),\n",
    "                      high_delta=widgets.FloatSlider(HIGH_DELTA, min=0, max=1, step=.0005,\n",
    "                                                      readout_format='.4f', layout=widgets.Layout(width='100%')),\n",
    "                      n_steps=widgets.IntSlider(N_STEPS, min=0, max=10,\n",
    "                                                layout=widgets.Layout(width='100%'))\n",
    "  )\n",
    "  # view_3D({'data': pipe.imdenoised, 'colormap': 'gray_r', 'name': 'denoised'}, *results)\n",
    "else:\n",
    "  viewer = napari.Viewer(ndisplay=3)\n",
    "  viewer.add_image(pipe.impreprocessed, scale=pipe.SCALE)\n",
    "  @magicgui(\n",
    "    call_button=\"Test Thresholds\",\n",
    "    low_auto_thresh={'choices': [None, *sm.util.THRESHOLD_METHODS]},\n",
    "    low_thresh={\"widget_type\": \"FloatSlider\", 'max': 1},\n",
    "    high_auto_thresh={'choices': [None, *sm.util.THRESHOLD_METHODS]},\n",
    "    high_thresh={\"widget_type\": \"FloatSlider\", 'max': 1},\n",
    "    low_delta={\"widget_type\": \"FloatSlider\", 'max': 1},\n",
    "    high_delta={\"widget_type\": \"FloatSlider\", 'max': 1}\n",
    "  )\n",
    "  def test_thresholds_gui(\n",
    "      low_auto_thresh=LOW_AUTO_THRESH,\n",
    "      low_thresh=LOW_THRESH,\n",
    "      high_auto_thresh=HIGH_AUTO_THRESH,\n",
    "      high_thresh=HIGH_THRESH,\n",
    "      low_delta=LOW_DELTA,\n",
    "      high_delta=HIGH_DELTA,\n",
    "      n_steps=N_STEPS\n",
    "  ):\n",
    "    global results, LOW_THRESH, HIGH_THRESH, LOW_DELTA, HIGH_DELTA, N_STEPS, LOW_AUTO_THRESH, HIGH_AUTO_THRESH\n",
    "    LOW_THRESH, HIGH_THRESH, N_STEPS = low_thresh, high_thresh, n_steps\n",
    "    LOW_AUTO_THRESH, HIGH_AUTO_THRESH = low_auto_thresh, high_auto_thresh\n",
    "    lly, llx, ury, urx = pipe.in_box\n",
    "    if low_auto_thresh is not None:\n",
    "      LOW_THRESH = eval(f'skimage.filters.threshold_{low_auto_thresh}(pipe.imdenoised[:, lly:ury, llx:urx])')\n",
    "    if high_auto_thresh is not None:\n",
    "      HIGH_THRESH = eval(f'skimage.filters.threshold_{high_auto_thresh}(pipe.imdenoised[:, lly:ury, llx:urx])')\n",
    "    LOW_DELTA, HIGH_DELTA = low_delta, high_delta\n",
    "    results = ac.core._testThresholds(pipe.imdenoised, LOW_THRESH, HIGH_THRESH, LOW_DELTA,\n",
    "                                      HIGH_DELTA, N_STEPS)\n",
    "    past_state = viewer.window.qt_viewer.view.camera.get_state()\n",
    "    viewer.layers.clear()\n",
    "\n",
    "    viewer.add_image(pipe.impreprocessed, scale=pipe.SCALE)\n",
    "\n",
    "    n_images = len(results)\n",
    "    for itr in range(n_images):\n",
    "      viewer.add_labels(**results[itr], scale=pipe.SCALE)\n",
    "    viewer.window.qt_viewer.view.camera.set_state(past_state)\n",
    "\n",
    "  viewer.window.add_dock_widget(test_thresholds_gui)\n",
    "  test_thresholds_gui()"
   ]
  },
  {
   "cell_type": "code",
   "execution_count": null,
   "metadata": {},
   "outputs": [],
   "source": [
    "print(LOW_THRESH, HIGH_THRESH, LOW_AUTO_THRESH, HIGH_AUTO_THRESH)\n",
    "\n",
    "pipe.segment(LOW_THRESH, HIGH_THRESH, LOW_AUTO_THRESH, HIGH_AUTO_THRESH)"
   ]
  },
  {
   "cell_type": "code",
   "execution_count": null,
   "metadata": {},
   "outputs": [],
   "source": [
    "view_3D({'data': pipe.imsegmented, 'colormap': 'inferno', 'name': 'segmented'},\n",
    "        {'data': pipe.labels, 'colormap': 'gist_earth', 'gamma': .8, 'name': 'labels'})"
   ]
  },
  {
   "cell_type": "markdown",
   "metadata": {},
   "source": [
    "### 3.3 Visualize segmented cells to determine cutoff volumes\n",
    "\n",
    "#### 3.3.1 Check segmented cells on whole image"
   ]
  },
  {
   "cell_type": "code",
   "execution_count": null,
   "metadata": {},
   "outputs": [],
   "source": [
    "pipe.volume_cutoff(500, False)"
   ]
  },
  {
   "cell_type": "code",
   "execution_count": null,
   "metadata": {},
   "outputs": [],
   "source": [
    "somas_estimates_path = 'Autocropped/CONTROL_MSP2.1MB_4_LONG MARK_20X_SEC 1_LEFT HILUS_28 DAYczi-ML/.somas_estimates.npy'\n",
    "pipe.approximate_somas(src=somas_estimates_path)"
   ]
  },
  {
   "cell_type": "markdown",
   "metadata": {},
   "source": [
    "# napari clump sep"
   ]
  },
  {
   "cell_type": "code",
   "execution_count": null,
   "metadata": {},
   "outputs": [],
   "source": [
    "pipe.separate_clumps(somas_estimates_path)"
   ]
  },
  {
   "cell_type": "code",
   "execution_count": null,
   "metadata": {},
   "outputs": [],
   "source": [
    "len(pipe.regions)"
   ]
  },
  {
   "cell_type": "markdown",
   "metadata": {},
   "source": [
    "#### 3.3.2: Check batches of objects"
   ]
  },
  {
   "cell_type": "code",
   "execution_count": null,
   "metadata": {
    "scrolled": false
   },
   "outputs": [],
   "source": [
    "pipe.show_segmented('grid', 50)"
   ]
  },
  {
   "cell_type": "markdown",
   "metadata": {},
   "source": [
    "#### 3.3.2: Check individual objects\n",
    "Select individual objects using `OBJ_INDEX`."
   ]
  },
  {
   "cell_type": "code",
   "execution_count": null,
   "metadata": {
    "tags": []
   },
   "outputs": [],
   "source": [
    "pipe.show_segmented()"
   ]
  },
  {
   "cell_type": "markdown",
   "metadata": {},
   "source": [
    "#### 3.3.3: Refine soma approximations\n",
    "Select individual objects using `OBJ_INDEX`."
   ]
  },
  {
   "cell_type": "code",
   "execution_count": null,
   "metadata": {},
   "outputs": [],
   "source": [
    "pipe.refine_soma_approx()"
   ]
  },
  {
   "cell_type": "markdown",
   "metadata": {},
   "source": [
    "---\n",
    "\n",
    "## Step 4: Export autocropped 3D cells or 2D max intensity projections\n",
    "\n",
    "Set two parameters:\n",
    "- `LOW_VOLUME_CUTOFF`: to filter out noise/artifacts\n",
    "- `HIGH_VOLUME_CUTOFF`: to filter out cell clusters\n",
    "\n",
    "For choosing between 3D segmented cells or 2D max intensity projections:\n",
    "- Set `OUTPUT_OPTION` = '3d' for 3D cells, or\n",
    "- Set `OUTPUT_OPTION` = 'mip' for Max Intensity Projections."
   ]
  },
  {
   "cell_type": "code",
   "execution_count": null,
   "metadata": {},
   "outputs": [],
   "source": [
    "pipe.export_cropped()"
   ]
  },
  {
   "cell_type": "markdown",
   "metadata": {},
   "source": [
    "---\n",
    "\n",
    "## Step 5: Batch all"
   ]
  },
  {
   "cell_type": "code",
   "execution_count": null,
   "metadata": {},
   "outputs": [],
   "source": [
    "import os\n",
    "\n",
    "ROOT = 'E:/'\n",
    "\n",
    "SECTIONS = 'Garima Confocal/SAL,DMI, FLX ADN HALO_TREATMENT_28 DAYS/control_28 days'\n",
    "dir_path = os.path.join(ROOT, SECTIONS)\n",
    "\n",
    "files = list(map(lambda s: os.path.join(dir_path, s), os.listdir(dir_path)))\n",
    "IM_EXT = '.czi'\n",
    "ROI_EXT = '.roi'\n",
    "REGION = 'HILUS'\n",
    "ROI_NAME = 'ML'\n",
    "\n",
    "im_paths = list(filter(lambda f: f.endswith(IM_EXT) and REGION in f.upper(), files))\n",
    "roi_paths = list(filter(lambda f: f.endswith(ROI_EXT) and REGION in f.upper() and ROI_NAME in f.upper(), files))\n",
    "somas_estimates_paths = [somas_estimates_path]\n",
    "somas_estimates_paths.extend([None] * (len(im_paths)-len(somas_estimates_paths)))\n",
    "list(map(len, (im_paths, roi_paths, somas_estimates_paths)))"
   ]
  },
  {
   "cell_type": "code",
   "execution_count": null,
   "metadata": {},
   "outputs": [],
   "source": [
    "# def batch_init(pipe, im_paths, roi_paths, soma_estimates_paths):\n",
    "im_paths = iter(im_paths)\n",
    "roi_paths = iter(roi_paths)\n",
    "somas_estimates_paths = iter(somas_estimates_paths)\n",
    "ref_impath = pipe.ref_im_path\n",
    "ref_roipath = pipe.REF_ROI_PATH\n",
    "cache_dir = pipe.CACHE_DIR\n",
    "deconv_itr = pipe.DECONV_ITR\n",
    "clip_limit = pipe.CLIP_LIMIT\n",
    "low_thresh = pipe.LOW_THRESH\n",
    "high_thresh = pipe.HIGH_THRESH\n",
    "low_auto_thresh = pipe.LOW_AUTO_THRESH\n",
    "high_auto_thresh = pipe.HIGH_AUTO_THRESH\n",
    "low_volume_cutoff = pipe.LOW_VOLUME_CUTOFF\n",
    "high_volume_cutoff = pipe.HIGH_VOLUME_CUTOFF\n",
    "out_dims = pipe.OUT_DIMS\n",
    "segment_type = pipe.SEGMENT_TYPE"
   ]
  },
  {
   "cell_type": "markdown",
   "metadata": {},
   "source": [
    "### Iterations"
   ]
  },
  {
   "cell_type": "code",
   "execution_count": null,
   "metadata": {},
   "outputs": [],
   "source": [
    "im_path, roi_path, somas_estimates_path = next(im_paths), next(roi_paths), next(somas_estimates_paths)\n",
    "im_path, roi_path, somas_estimates_path"
   ]
  },
  {
   "cell_type": "code",
   "execution_count": null,
   "metadata": {},
   "outputs": [],
   "source": [
    "pipe = ac.TissueImage(im_path, roi_path, ROI_NAME, DECONV_ITR, CLIP_LIMIT,\n",
    "                      REF_IMAGE, REF_FILE_ROI, cache_dir)\n",
    "pipe.segment(low_thresh, high_thresh, low_auto_thresh, high_auto_thresh)\n",
    "pipe.volume_cutoff(low_volume_cutoff, False)\n",
    "pipe.approximate_somas(src=somas_estimates_path)\n",
    "pipe.LOW_VOLUME_CUTOFF = low_volume_cutoff\n",
    "pipe.HIGH_VOLUME_CUTOFF = high_volume_cutoff\n",
    "pipe.OUT_DIMS = out_dims\n",
    "pipe.SEGMENT_TYPE = segment_type\n",
    "pipe.separate_clumps(somas_estimates_path, sync=True)"
   ]
  },
  {
   "cell_type": "code",
   "execution_count": null,
   "metadata": {},
   "outputs": [],
   "source": []
  }
 ],
 "metadata": {
  "interpreter": {
   "hash": "505a5a09a018729871b9cc7f8dbd3560d8285490b99df05e65532aacc0f83603"
  },
  "kernelspec": {
   "display_name": "Python 3.7.9 64-bit ('smorph-ObnBYCc1-py3.7': poetry)",
   "name": "python3"
  },
  "language_info": {
   "codemirror_mode": {
    "name": "ipython",
    "version": 3
   },
   "file_extension": ".py",
   "mimetype": "text/x-python",
   "name": "python",
   "nbconvert_exporter": "python",
   "pygments_lexer": "ipython3",
   "version": "3.8.10"
  }
 },
 "nbformat": 4,
 "nbformat_minor": 2
}
