{
 "cells": [
  {
   "cell_type": "markdown",
   "source": [
    "## Setup\r\n",
    "\r\n",
    "Please execute the cell(s) below to initialize the notebook environment."
   ],
   "metadata": {}
  },
  {
   "cell_type": "code",
   "execution_count": null,
   "source": [
    "# @title Install dependencies\r\n",
    "!pip install poetry"
   ],
   "outputs": [],
   "metadata": {}
  },
  {
   "cell_type": "code",
   "execution_count": null,
   "source": [
    "# @title Install SMorph Python module\r\n",
    "!pip install https://github.com/swanandlab/SMorph/releases/download/v0.1.1-alpha/SMorph-0.1.1.tar.gz"
   ],
   "outputs": [],
   "metadata": {}
  },
  {
   "cell_type": "code",
   "execution_count": null,
   "source": [
    "# Imports\r\n",
    "on_colab = 'google.colab' in str(get_ipython())\r\n",
    "\r\n",
    "import warnings\r\n",
    "warnings.filterwarnings('ignore')\r\n",
    "\r\n",
    "if not on_colab:\r\n",
    "    import napari\r\n",
    "import smorph as sm\r\n",
    "import smorph.util.autocrop as ac\r\n",
    "import ipywidgets as widgets"
   ],
   "outputs": [],
   "metadata": {
    "tags": []
   }
  },
  {
   "cell_type": "code",
   "execution_count": null,
   "source": [
    "# Helper function\r\n",
    "def view_3D(*args):\r\n",
    "    \"\"\"Views a 3D image.\"\"\"\r\n",
    "    n_images = len(args)\r\n",
    "    if not on_colab and n_images > 0:  \r\n",
    "        with napari.gui_qt():\r\n",
    "            viewer = napari.view_image(**args[0], ndisplay=3)\r\n",
    "            for itr in range(1, n_images):\r\n",
    "                if args[itr]['data'].max() > 1 and args[itr]['data'].max() % 1 == 0:\r\n",
    "                    if 'colormap' in args[itr].keys():\r\n",
    "                        del args[itr]['colormap']\r\n",
    "                    if 'gamma' in args[itr].keys():\r\n",
    "                        del args[itr]['gamma']\r\n",
    "                    viewer.add_labels(**args[itr])\r\n",
    "                else:\r\n",
    "                    viewer.add_image(**args[itr])"
   ],
   "outputs": [],
   "metadata": {}
  },
  {
   "cell_type": "markdown",
   "source": [
    "---\r\n",
    "\r\n",
    "## Step 1: Import Confocal Microscopic Image of the Tissue\r\n",
    "\r\n",
    "Set `CONFOCAL_TISSUE_IMAGE` to the path of the image file to be processed.\r\n",
    "- Followed by non-local means denoising using auto-calibrated parameters"
   ],
   "metadata": {}
  },
  {
   "cell_type": "code",
   "execution_count": null,
   "source": [
    "CONFOCAL_TISSUE_IMAGE = 'Datasets/Confocal/SAL,DMI, FLX ADN HALO_TREATMENT_21 DAYS/allImg/HILUS/UN2_2_DOUBLE MARK_20X_LEFT_HILUS.czi'  #@param\r\n",
    "\r\n",
    "original = ac.import_confocal_image(CONFOCAL_TISSUE_IMAGE)\r\n",
    "\r\n",
    "if original.ndim == 2:\r\n",
    "  original = (original - original.min()) / (original.max() - original.min())\r\n",
    "  import numpy as np\r\n",
    "  original = np.expand_dims(original, 0)\r\n",
    "\r\n",
    "# deconvolved = ac.deconvolve(original, CONFOCAL_TISSUE_IMAGE, iters=10)\r\n",
    "# denoiser = ac.calibrate_nlm_denoiser(deconvolved)\r\n",
    "# denoise_parameters = denoiser.keywords['denoiser_kwargs']\r\n",
    "# print(denoise_parameters)\r\n",
    "# denoised = ac.denoise(deconvolved, denoise_parameters)\r\n",
    "denoised = original\r\n",
    "ac.projectXYZ(denoised, .5, .5, 1)"
   ],
   "outputs": [],
   "metadata": {
    "scrolled": false
   }
  },
  {
   "cell_type": "code",
   "execution_count": null,
   "source": [
    "from skimage import exposure\r\n",
    "\r\n",
    "# Adaptive Equalization\r\n",
    "img_adapteq = exposure.equalize_adapthist(denoised, clip_limit=0.03)\r\n",
    "denoised = img_adapteq"
   ],
   "outputs": [],
   "metadata": {}
  },
  {
   "cell_type": "code",
   "execution_count": null,
   "source": [
    "view_3D({'data': img_adapteq > .5, 'colormap': 'gray', 'name': 'img_adapteq'},\r\n",
    "        {'data': original, 'colormap': 'gray', 'name': 'original'},\r\n",
    "        {'data': denoised, 'colormap': 'gray', 'name': 'denoised'})"
   ],
   "outputs": [],
   "metadata": {
    "tags": []
   }
  },
  {
   "cell_type": "markdown",
   "source": [
    "---\r\n",
    "\r\n",
    "## Step 2: Select ROI using Polygonal Lasso Tool\r\n",
    "\r\n",
    "Set two variables:\r\n",
    "- `SELECT_ROI`: True, If you want to select ROI manually; else False\r\n",
    "- `NAME_ROI`: Name of the manually selected ROI\r\n",
    "- `FILE_ROI`: Path to the ROI file; else None"
   ],
   "metadata": {}
  },
  {
   "cell_type": "code",
   "execution_count": null,
   "source": [
    "SELECT_ROI = True\r\n",
    "NAME_ROI = ''\r\n",
    "FILE_ROI = 'Datasets/Confocal/SAL,DMI, FLX ADN HALO_TREATMENT_21 DAYS/allRoi/HILUS/UN2_2_DOUBLE MARK_20X_LEFT_HILUS-ML.roi'\r\n",
    "linebuilder = None\r\n",
    "import matplotlib.pyplot as plt\r\n",
    "%matplotlib widget\r\n",
    "\r\n",
    "IMG_NAME = CONFOCAL_TISSUE_IMAGE.split('/')[-1].split('.')[0]\r\n",
    "\r\n",
    "import matplotlib.pyplot as plt\r\n",
    "file_roi_widget = widgets.Text(value=FILE_ROI, description='file_roi')\r\n",
    "def roi_interact(select_roi=SELECT_ROI,\r\n",
    "                 name_roi=NAME_ROI, draw_roi=False, file_roi=FILE_ROI):\r\n",
    "  global SELECT_ROI, NAME_ROI, FILE_ROI, linebuilder, file_roi_widget\r\n",
    "  SELECT_ROI, NAME_ROI, FILE_ROI = select_roi, name_roi, file_roi\r\n",
    "  NAME_ROI = NAME_ROI if SELECT_ROI else ''\r\n",
    "  if draw_roi:\r\n",
    "    FILE_ROI = None\r\n",
    "    file_roi_widget.layout.visibility = 'hidden'\r\n",
    "  else:\r\n",
    "    file_roi_widget.value = FILE_ROI\r\n",
    "    file_roi_widget.layout.visibility = 'visible'\r\n",
    "    plt.clf()\r\n",
    "  linebuilder = None if not SELECT_ROI else ac.select_ROI(denoised, IMG_NAME + '-' + NAME_ROI, FILE_ROI)\r\n",
    "\r\n",
    "\r\n",
    "_ = widgets.interact(roi_interact, select_roi=SELECT_ROI,\r\n",
    "                     name_roi=NAME_ROI, draw_roi=False, file_roi=file_roi_widget)"
   ],
   "outputs": [],
   "metadata": {
    "scrolled": false
   }
  },
  {
   "cell_type": "code",
   "execution_count": null,
   "source": [
    "%matplotlib inline\r\n",
    "if SELECT_ROI:\r\n",
    "    original, denoised = ac.mask_ROI(original, denoised, linebuilder)\r\n",
    "    ac.projectXYZ(denoised, .5, .5, 1)"
   ],
   "outputs": [],
   "metadata": {
    "scrolled": true
   }
  },
  {
   "cell_type": "markdown",
   "source": [
    "---\n",
    "\n",
    "## Step 3: Segmentation"
   ],
   "metadata": {}
  },
  {
   "cell_type": "markdown",
   "source": [
    "### 3.1 Threshold & color label cells\n",
    "\n",
    "Set two parameters:\n",
    "- `LOW_THRESH`: Pixel intensity value corresponding to faintest branch's edge\n",
    "- `HIGH_THRESH`: Pixel intensity value corresponding to faintest soma\n",
    "\n",
    "Understand their effect by configuring three parameters:\n",
    "- `LOW_DELTA`: Pixel intensity value corresponding to change in `LOW_THRESH`\n",
    "- `HIGH_DELTA`: Pixel intensity value corresponding to change in `HIGH_THRESH`\n",
    "- `N_STEPS`: Number of steps of delta in threshold to take in both directions"
   ],
   "metadata": {}
  },
  {
   "cell_type": "code",
   "execution_count": null,
   "source": [
    "import skimage\r\n",
    "otsu_value = skimage.filters.threshold_otsu(denoised)\r\n",
    "LOW_THRESH = .055\r\n",
    "HIGH_THRESH = otsu_value\r\n",
    "\r\n",
    "LOW_DELTA = .46\r\n",
    "HIGH_DELTA = .75\r\n",
    "N_STEPS = 1\r\n",
    "results = None\r\n",
    "%matplotlib inline\r\n",
    "def test_thresholds(low_thresh_init, low_thresh, high_thresh_init,\r\n",
    "                    high_thresh, low_delta, high_delta, n_steps):\r\n",
    "  global results, LOW_THRESH, HIGH_THRESH, LOW_DELTA, HIGH_DELTA, N_STEPS\r\n",
    "  LOW_THRESH, HIGH_THRESH, N_STEPS = low_thresh, high_thresh, n_steps\r\n",
    "  if low_thresh_init is not None:\r\n",
    "    LOW_THRESH = eval(f'skimage.filters.threshold_{low_thresh_init}(denoised)')\r\n",
    "  if high_thresh_init is not None:\r\n",
    "    if high_thresh_init == 'isodata':\r\n",
    "      HIGH_THRESH = eval(f'skimage.filters.threshold_{high_thresh_init}(denoised)')\r\n",
    "  LOW_DELTA, HIGH_DELTA = low_delta, high_delta\r\n",
    "  results = ac.testThresholds(denoised, LOW_THRESH, HIGH_THRESH, LOW_DELTA,\r\n",
    "                              HIGH_DELTA, N_STEPS, 'gist_earth')\r\n",
    "\r\n",
    "_ = widgets.interact(test_thresholds,\r\n",
    "                     low_thresh_init=[None, *sm.util.THRESHOLD_METHODS],\r\n",
    "                     low_thresh=widgets.FloatSlider(LOW_THRESH, min=0, max=1, step=.01,\r\n",
    "                                                    readout_format='.4f', layout=widgets.Layout(width='100%')),\r\n",
    "                     high_thresh_init=[None, *sm.util.THRESHOLD_METHODS],\r\n",
    "                     high_thresh=widgets.FloatSlider(HIGH_THRESH, min=0, max=1, step=.01,\r\n",
    "                                                     readout_format='.4f', layout=widgets.Layout(width='100%')),\r\n",
    "                     low_delta=widgets.FloatSlider(LOW_DELTA, min=0, max=1, step=.0005,\r\n",
    "                                                   readout_format='.4f', layout=widgets.Layout(width='100%')),\r\n",
    "                     high_delta=widgets.FloatSlider(HIGH_DELTA, min=0, max=1, step=.0005,\r\n",
    "                                                    readout_format='.4f', layout=widgets.Layout(width='100%')),\r\n",
    "                     n_steps=widgets.IntSlider(N_STEPS, min=0, max=10,\r\n",
    "                                               layout=widgets.Layout(width='100%'))\r\n",
    ")"
   ],
   "outputs": [],
   "metadata": {
    "scrolled": false
   }
  },
  {
   "cell_type": "code",
   "execution_count": null,
   "source": [
    "view_3D({'data': original, 'colormap': 'inferno', 'name': 'original'}, *results)"
   ],
   "outputs": [],
   "metadata": {}
  },
  {
   "cell_type": "markdown",
   "source": [
    "### Thresholding results"
   ],
   "metadata": {}
  },
  {
   "cell_type": "code",
   "execution_count": null,
   "source": [
    "thresholded = ac.threshold(denoised, LOW_THRESH, HIGH_THRESH)\r\n",
    "labels = ac.label_thresholded(thresholded)"
   ],
   "outputs": [],
   "metadata": {}
  },
  {
   "cell_type": "code",
   "execution_count": null,
   "source": [
    "prefiltering_volume = thresholded.sum()\r\n",
    "f'Prefiltering Volume: {prefiltering_volume}'"
   ],
   "outputs": [],
   "metadata": {}
  },
  {
   "cell_type": "markdown",
   "source": [
    "### 3.2 Filter segmented individual cells by removing ones in borders (touching the convex hull)"
   ],
   "metadata": {}
  },
  {
   "cell_type": "code",
   "execution_count": null,
   "source": [
    "# discard objects connected to border of approximated tissue, potential partially captured\r\n",
    "filtered_labels = ac.filter_labels(labels, thresholded, linebuilder) if original.shape[0] > 1 else labels\r\n",
    "ac.projectXYZ(filtered_labels, .5, .5, 1, 'gist_earth')"
   ],
   "outputs": [],
   "metadata": {}
  },
  {
   "cell_type": "code",
   "execution_count": null,
   "source": [
    "view_3D({'data': filtered_labels, 'colormap': 'gray', 'gamma': .8, 'name': 'filtered_labels'},\r\n",
    "        {'data': labels, 'colormap': 'gist_earth', 'gamma': .8, 'name': 'labels'})"
   ],
   "outputs": [],
   "metadata": {}
  },
  {
   "cell_type": "code",
   "execution_count": null,
   "source": [
    "postfiltering_volume = (filtered_labels > 0).sum()\r\n",
    "f'Postfiltering Volume: {postfiltering_volume}; ' \\\r\n",
    "f'%age loss in volume: {(prefiltering_volume - postfiltering_volume) / prefiltering_volume * 100} %'"
   ],
   "outputs": [],
   "metadata": {}
  },
  {
   "cell_type": "code",
   "execution_count": null,
   "source": [
    "# get the centroids and label values from the label image\r\n",
    "regions = ac.arrange_regions(filtered_labels)\r\n",
    "centroid_coords = [r.centroid for r in regions]\r\n",
    "\r\n",
    "# store the labels for each blob in a properties dictionary\r\n",
    "pts_properties = {'obj': [i for i in range(len(regions))]}"
   ],
   "outputs": [],
   "metadata": {}
  },
  {
   "cell_type": "markdown",
   "source": [
    "### 3.3 Visualize segmented cells to determine cutoff volumes\n",
    "\n",
    "#### 3.3.1 Check segmented cells on whole image"
   ],
   "metadata": {}
  },
  {
   "cell_type": "code",
   "execution_count": null,
   "source": [
    "if not on_colab:\r\n",
    "    with napari.gui_qt():\r\n",
    "        viewer = napari.view_image(denoised, name='denoised', ndisplay=3)\r\n",
    "        viewer.add_labels(filtered_labels, name='filtered_labels')\r\n",
    "        viewer.add_points(centroid_coords, edge_color='transparent',\r\n",
    "                          face_color='transparent',\r\n",
    "                          properties=pts_properties, text='obj')"
   ],
   "outputs": [],
   "metadata": {}
  },
  {
   "cell_type": "markdown",
   "source": [
    "#### 3.3.2: Check batches of objects"
   ],
   "metadata": {}
  },
  {
   "cell_type": "code",
   "execution_count": null,
   "source": [
    "N_BATCHES = ac.paginate_objs(regions, pg_size=50)"
   ],
   "outputs": [],
   "metadata": {}
  },
  {
   "cell_type": "code",
   "execution_count": null,
   "source": [
    "# Set `BATCH_NO` to view detected objects in paginated 2D MIP views.\r\n",
    "def plot_batch(BATCH_NO):\r\n",
    "  ac.project_batch(BATCH_NO, N_BATCHES, regions, denoised)\r\n",
    "\r\n",
    "_ = widgets.interact(plot_batch, BATCH_NO=widgets.IntSlider(min=0,\r\n",
    "                       max=N_BATCHES-1, layout=widgets.Layout(width='100%')))"
   ],
   "outputs": [],
   "metadata": {
    "scrolled": false
   }
  },
  {
   "cell_type": "markdown",
   "source": [
    "#### 3.3.2: Check individual objects\n",
    "Select individual objects using `OBJ_INDEX`."
   ],
   "metadata": {}
  },
  {
   "cell_type": "code",
   "execution_count": null,
   "source": [
    "OBJ_INDEX = 0\r\n",
    "extracted_cell = None\r\n",
    "minz, miny, minx, maxz, maxy, maxx = 0, 0, 0, 0, 0, 0\r\n",
    "\r\n",
    "def plot_single(obj_index):\r\n",
    "  global OBJ_INDEX, extracted_cell, minz, miny, minx, maxz, maxy, maxx\r\n",
    "  OBJ_INDEX = obj_index\r\n",
    "  extracted_cell = ac.extract_obj(regions[OBJ_INDEX], denoised)\r\n",
    "  minz, miny, minx, maxz, maxy, maxx = regions[OBJ_INDEX].bbox\r\n",
    "  ac.projectXYZ(extracted_cell, .5, .5, 1)\r\n",
    "\r\n",
    "_ = widgets.interact(plot_single, obj_index=widgets.IntSlider(min=0,\r\n",
    "                       max=len(regions)-1, layout=widgets.Layout(width='100%')))"
   ],
   "outputs": [],
   "metadata": {
    "tags": []
   }
  },
  {
   "cell_type": "code",
   "execution_count": null,
   "source": [
    "view_3D({'data': denoised[minz:maxz, miny:maxy, minx:maxx], 'name': 'denoised'},\r\n",
    "        {'data': regions[OBJ_INDEX].image, 'colormap': 'yellow', 'name': 'thresholded'},\r\n",
    "        {'data': extracted_cell, 'colormap': 'inferno', 'name': 'extracted_cell'})"
   ],
   "outputs": [],
   "metadata": {
    "tags": []
   }
  },
  {
   "cell_type": "markdown",
   "source": [
    "---\n",
    "\n",
    "## Step 4: Export autocropped 3D cells or 2D max intensity projections\n",
    "\n",
    "Set two parameters:\n",
    "- `LOW_VOLUME_CUTOFF`: to filter out noise/artifacts\n",
    "- `HIGH_VOLUME_CUTOFF`: to filter out cell clusters\n",
    "\n",
    "For choosing between 3D segmented cells or 2D max intensity projections:\n",
    "- Set `OUTPUT_OPTION` = '3d' for 3D cells, or\n",
    "- Set `OUTPUT_OPTION` = 'mip' for Max Intensity Projections."
   ],
   "metadata": {}
  },
  {
   "cell_type": "code",
   "execution_count": null,
   "source": [
    "LOW_VOLUME_CUTOFF = 200  # filter noise/artifacts\r\n",
    "HIGH_VOLUME_CUTOFF = 3133  # filter cell clusters\r\n",
    "OUTPUT_OPTION = 'mip'  # '3d' for 3D cells, 'mip' for Max Intensity Projections\r\n",
    "SEGMENT_TYPE = 'segmented'\r\n",
    "reconstructed_cells = None\r\n",
    "\r\n",
    "import numpy as np\r\n",
    "\r\n",
    "def volume_range(low_volume_cutoff=LOW_VOLUME_CUTOFF,\r\n",
    "                 high_volume_cutoff=HIGH_VOLUME_CUTOFF, output_option=OUTPUT_OPTION,\r\n",
    "                 segment_type=SEGMENT_TYPE):\r\n",
    "  global LOW_VOLUME_CUTOFF, HIGH_VOLUME_CUTOFF, OUTPUT_OPTION, SEGMENT_TYPE, reconstructed_cells\r\n",
    "  LOW_VOLUME_CUTOFF, HIGH_VOLUME_CUTOFF = low_volume_cutoff, high_volume_cutoff\r\n",
    "  OUTPUT_OPTION, SEGMENT_TYPE = output_option, segment_type\r\n",
    "\r\n",
    "  reconstructed_cells = np.zeros_like(denoised)\r\n",
    "  for region in regions:\r\n",
    "    if LOW_VOLUME_CUTOFF <= region.area <= HIGH_VOLUME_CUTOFF:\r\n",
    "      minz, miny, minx, maxz, maxy, maxx = region.bbox\r\n",
    "      reconstructed_cells[minz:maxz, miny:maxy, minx:maxx] += region.filled_image * denoised[minz:maxz, miny:maxy, minx:maxx]\r\n",
    "  ac.projectXYZ(reconstructed_cells, .5, .5, 1, 'gist_heat')\r\n",
    "\r\n",
    "_ = widgets.interact(volume_range, low_volume_cutoff=widgets.IntSlider(value=LOW_VOLUME_CUTOFF,\r\n",
    "                         min=0, max=regions[-1].area, layout=widgets.Layout(width='100%')),\r\n",
    "                     high_volume_cutoff=widgets.IntSlider(value=HIGH_VOLUME_CUTOFF,\r\n",
    "                         min=0, max=regions[-1].area, layout=widgets.Layout(width='100%')),\r\n",
    "                     output_option=['3d', 'mip', 'both'],\r\n",
    "                     segment_type=['segmented', 'unsegmented', 'both'])"
   ],
   "outputs": [],
   "metadata": {}
  },
  {
   "cell_type": "code",
   "execution_count": null,
   "source": [
    "def volume_range(low_volume_cutoff=LOW_VOLUME_CUTOFF,\r\n",
    "                 high_volume_cutoff=HIGH_VOLUME_CUTOFF, output_option=OUTPUT_OPTION,\r\n",
    "                 segment_type=SEGMENT_TYPE):\r\n",
    "  global LOW_VOLUME_CUTOFF, HIGH_VOLUME_CUTOFF, OUTPUT_OPTION, SEGMENT_TYPE, reconstructed_cells\r\n",
    "  LOW_VOLUME_CUTOFF, HIGH_VOLUME_CUTOFF = low_volume_cutoff, high_volume_cutoff\r\n",
    "  OUTPUT_OPTION, SEGMENT_TYPE = output_option, segment_type\r\n",
    "\r\n",
    "  reconstructed_cells = np.zeros_like(denoised, dtype=int)\r\n",
    "  i = 1\r\n",
    "  for region in regions:\r\n",
    "    if LOW_VOLUME_CUTOFF <= region.area <= HIGH_VOLUME_CUTOFF:\r\n",
    "      minz, miny, minx, maxz, maxy, maxx = region.bbox\r\n",
    "      reconstructed_cells[minz:maxz, miny:maxy, minx:maxx] += region.filled_image * i\r\n",
    "      i += 1\r\n",
    "  \r\n",
    "  ac.projectXYZ(reconstructed_cells, .5, .5, 1, 'gist_heat')\r\n",
    "\r\n",
    "_ = widgets.interact(volume_range, low_volume_cutoff=widgets.IntSlider(value=LOW_VOLUME_CUTOFF,\r\n",
    "                         min=0, max=regions[-1].area, layout=widgets.Layout(width='100%')),\r\n",
    "                     high_volume_cutoff=widgets.IntSlider(value=HIGH_VOLUME_CUTOFF,\r\n",
    "                         min=0, max=regions[-1].area, layout=widgets.Layout(width='100%')),\r\n",
    "                     output_option=['3d', 'mip', 'both'],\r\n",
    "                     segment_type=['segmented', 'unsegmented', 'both'])"
   ],
   "outputs": [],
   "metadata": {}
  },
  {
   "cell_type": "code",
   "execution_count": null,
   "source": [
    "view_3D({'data': original, 'colormap': 'gray', 'name': 'original'},\r\n",
    "        {'data': reconstructed_cells, 'name': 'output'})"
   ],
   "outputs": [],
   "metadata": {}
  },
  {
   "cell_type": "code",
   "execution_count": null,
   "source": [
    "ac.export_cells(CONFOCAL_TISSUE_IMAGE, LOW_VOLUME_CUTOFF,\r\n",
    "                HIGH_VOLUME_CUTOFF, OUTPUT_OPTION, denoised,\r\n",
    "                regions, None, SEGMENT_TYPE, NAME_ROI, linebuilder)"
   ],
   "outputs": [],
   "metadata": {
    "tags": []
   }
  }
 ],
 "metadata": {
  "interpreter": {
   "hash": "be748d7322d98cb117b2b70fb0400aa301f70bae17f42a4618dedb368f41ffd0"
  },
  "kernelspec": {
   "name": "python3",
   "display_name": "Python 3.7.9 64-bit ('smorph-wgdSL7Sd-py3.7': poetry)"
  },
  "language_info": {
   "codemirror_mode": {
    "name": "ipython",
    "version": 3
   },
   "file_extension": ".py",
   "mimetype": "text/x-python",
   "name": "python",
   "nbconvert_exporter": "python",
   "pygments_lexer": "ipython3",
   "version": "3.7.9"
  }
 },
 "nbformat": 4,
 "nbformat_minor": 2
}