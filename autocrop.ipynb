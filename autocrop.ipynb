{
 "cells": [
  {
   "cell_type": "markdown",
   "metadata": {},
   "source": [
    "## Setup\n",
    "\n",
    "Please execute the cell(s) below to initialize the notebook environment."
   ]
  },
  {
   "cell_type": "code",
   "execution_count": null,
   "metadata": {},
   "outputs": [],
   "source": [
    "# @title Install dependencies\n",
    "# !pip install poetry"
   ]
  },
  {
   "cell_type": "code",
   "execution_count": null,
   "metadata": {},
   "outputs": [],
   "source": [
    "# @title Install SMorph Python module\n",
    "# !pip install https://github.com/swanandlab/SMorph/releases/download/v0.1.1-alpha/SMorph-0.1.1.tar.gz"
   ]
  },
  {
   "cell_type": "code",
   "execution_count": null,
   "metadata": {
    "tags": []
   },
   "outputs": [],
   "source": [
    "# Imports\n",
    "on_colab = 'google.colab' in str(get_ipython())\n",
    "\n",
    "import warnings\n",
    "warnings.filterwarnings('ignore')\n",
    "\n",
    "if not on_colab:\n",
    "    import napari\n",
    "import smorph as sm\n",
    "import smorph.util.autocrop as ac\n",
    "import ipywidgets as widgets"
   ]
  },
  {
   "cell_type": "code",
   "execution_count": null,
   "metadata": {},
   "outputs": [],
   "source": [
    "# Helper function\n",
    "def view_3D(*args):\n",
    "    \"\"\"Views a 3D image.\"\"\"\n",
    "    n_images = len(args)\n",
    "    if not on_colab and n_images > 0:  \n",
    "        with napari.gui_qt():\n",
    "            viewer = napari.view_image(**args[0], ndisplay=3)\n",
    "            for itr in range(1, n_images):\n",
    "                if args[itr]['data'].max() > 1 and args[itr]['data'].max() % 1 == 0:\n",
    "                    if 'colormap' in args[itr].keys():\n",
    "                        del args[itr]['colormap']\n",
    "                    if 'gamma' in args[itr].keys():\n",
    "                        del args[itr]['gamma']\n",
    "                    viewer.add_labels(**args[itr])\n",
    "                else:\n",
    "                    viewer.add_image(**args[itr])"
   ]
  },
  {
   "cell_type": "markdown",
   "metadata": {},
   "source": [
    "---\n",
    "\n",
    "## Step 1: Import Confocal Microscopic Image of the Tissue\n",
    "\n",
    "Set `CONFOCAL_TISSUE_IMAGE` to the path of the image file to be processed.\n",
    "- Followed by non-local means denoising using auto-calibrated parameters"
   ]
  },
  {
   "cell_type": "code",
   "execution_count": null,
   "metadata": {
    "scrolled": false
   },
   "outputs": [],
   "source": [
    "CONFOCAL_TISSUE_IMAGE = 'Datasets/Confocal/SAL,DMI, FLX ADN HALO_TREATMENT_21 DAYS/CONTROLS_CZI/MSPP2.1MA_1_SINGLE MARK _CTRL_21 DAY/MSP2.1MA_1_SINGLE MARK_20X_SEC 1_LEFT_HILUS.czi'  #@param\n",
    "\n",
    "original = ac.import_confocal_image(CONFOCAL_TISSUE_IMAGE)\n",
    "\n",
    "if original.ndim == 2:\n",
    "  original = (original - original.min()) / (original.max() - original.min())\n",
    "  import numpy as np\n",
    "  original = np.expand_dims(original, 0)\n",
    "\n",
    "CLIP_LIMIT = .03\n",
    "# Adaptive Equalization\n",
    "from skimage import exposure\n",
    "original = exposure.equalize_adapthist(original, clip_limit=CLIP_LIMIT)\n",
    "original = ac.deconvolve(original, CONFOCAL_TISSUE_IMAGE)\n",
    "ac.projectXYZ(original, .5, .5, 1)"
   ]
  },
  {
   "cell_type": "code",
   "execution_count": null,
   "metadata": {},
   "outputs": [],
   "source": [
    "view_3D({'data': original, 'colormap': 'gray', 'name': 'original'},\n",
    "{'data': ac.import_confocal_image(CONFOCAL_TISSUE_IMAGE), 'colormap': 'gray', 'name': 'rww'})"
   ]
  },
  {
   "cell_type": "markdown",
   "metadata": {},
   "source": [
    "---\n",
    "\n",
    "## Step 2: Select ROI using Polygonal Lasso Tool\n",
    "\n",
    "Set two variables:\n",
    "- `SELECT_ROI`: True, If you want to select ROI manually; else False\n",
    "- `NAME_ROI`: Name of the manually selected ROI\n",
    "- `FILE_ROI`: Path to the ROI file; else None"
   ]
  },
  {
   "cell_type": "code",
   "execution_count": null,
   "metadata": {
    "scrolled": false
   },
   "outputs": [],
   "source": [
    "SELECT_ROI = True\n",
    "NAME_ROI = ''\n",
    "FILE_ROI = 'Datasets/Confocal/SAL,DMI, FLX ADN HALO_TREATMENT_21 DAYS/CONTROLS_CZI/MSPP2.1MA_1_SINGLE MARK _CTRL_21 DAY/MSP2.1MA_1_SINGLE MARK_20X_SEC 1_LEFT_HILUS-ML.roi'\n",
    "linebuilder = None\n",
    "import matplotlib.pyplot as plt\n",
    "%matplotlib widget\n",
    "\n",
    "IMG_NAME = CONFOCAL_TISSUE_IMAGE.split('/')[-1].split('.')[0]\n",
    "\n",
    "import matplotlib.pyplot as plt\n",
    "file_roi_widget = widgets.Text(value=FILE_ROI, description='file_roi')\n",
    "def roi_interact(select_roi=SELECT_ROI,\n",
    "                 name_roi=NAME_ROI, draw_roi=False, file_roi=FILE_ROI):\n",
    "  global SELECT_ROI, NAME_ROI, FILE_ROI, linebuilder, file_roi_widget\n",
    "  SELECT_ROI, NAME_ROI, FILE_ROI = select_roi, name_roi, file_roi\n",
    "  NAME_ROI = NAME_ROI if SELECT_ROI else ''\n",
    "  if draw_roi:\n",
    "    FILE_ROI = None\n",
    "    file_roi_widget.layout.visibility = 'hidden'\n",
    "  else:\n",
    "    file_roi_widget.value = FILE_ROI\n",
    "    file_roi_widget.layout.visibility = 'visible'\n",
    "    plt.clf()\n",
    "  linebuilder = None if not SELECT_ROI else ac.select_ROI(original, IMG_NAME + '-' + NAME_ROI, FILE_ROI)\n",
    "\n",
    "\n",
    "_ = widgets.interact(roi_interact, select_roi=SELECT_ROI,\n",
    "                     name_roi=NAME_ROI, draw_roi=False, file_roi=file_roi_widget)"
   ]
  },
  {
   "cell_type": "code",
   "execution_count": null,
   "metadata": {
    "scrolled": true
   },
   "outputs": [],
   "source": [
    "%matplotlib inline\n",
    "if SELECT_ROI:\n",
    "    original, _ = ac.mask_ROI(original, original, linebuilder)\n",
    "    ac.projectXYZ(original, .5, .5, 1)"
   ]
  },
  {
   "cell_type": "code",
   "execution_count": null,
   "metadata": {},
   "outputs": [],
   "source": [
    "#installed windows sdk\n",
    "# !pip install cvxpy cvxopt\n",
    "import numpy as np\n",
    "import cvxpy\n",
    "import cvxopt\n",
    "from shapely.geometry import Polygon\n",
    "\n",
    "\n",
    "def rect2poly(ll, ur):\n",
    "    \"\"\"\n",
    "    Convert rectangle defined by lower left/upper right\n",
    "    to a closed polygon representation.\n",
    "    \"\"\"\n",
    "    x0, y0 = ll\n",
    "    x1, y1 = ur\n",
    "\n",
    "    return [\n",
    "        [x0, y0],\n",
    "        [x0, y1],\n",
    "        [x1, y1],\n",
    "        [x1, y0],\n",
    "        [x0, y0]\n",
    "    ]\n",
    "\n",
    "\n",
    "def get_intersection(coords):\n",
    "    \"\"\"Given an input list of coordinates, find the intersection\n",
    "    section of corner coordinates. Returns geojson of the\n",
    "    interesection polygon.\n",
    "    \"\"\"\n",
    "    ipoly = None\n",
    "    for coord in coords:\n",
    "        if ipoly is None:\n",
    "            ipoly = Polygon(coord)\n",
    "        else:\n",
    "            tmp = Polygon(coord)\n",
    "            ipoly = ipoly.intersection(tmp)\n",
    "\n",
    "    # close the polygon loop by adding the first coordinate again\n",
    "    first_x = ipoly.exterior.coords.xy[0][0]\n",
    "    first_y = ipoly.exterior.coords.xy[1][0]\n",
    "    ipoly.exterior.coords.xy[0].append(first_x)\n",
    "    ipoly.exterior.coords.xy[1].append(first_y)\n",
    "\n",
    "    inter_coords = zip(\n",
    "        ipoly.exterior.coords.xy[0], ipoly.exterior.coords.xy[1])\n",
    "\n",
    "    inter_gj = {\"geometry\":\n",
    "                {\"coordinates\": [inter_coords],\n",
    "                 \"type\": \"Polygon\"},\n",
    "                 \"properties\": {}, \"type\": \"Feature\"}\n",
    "\n",
    "    return inter_gj, inter_coords\n",
    "\n",
    "\n",
    "def two_pts_to_line(pt1, pt2):\n",
    "    \"\"\"\n",
    "    Create a line from two points in form of\n",
    "    a1(x) + a2(y) = b\n",
    "    \"\"\"\n",
    "    pt1 = [float(p) for p in pt1]\n",
    "    pt2 = [float(p) for p in pt2]\n",
    "    try:\n",
    "        slp = (pt2[1] - pt1[1]) / (pt2[0] - pt1[0])\n",
    "    except ZeroDivisionError:\n",
    "        slp = 1e5 * (pt2[1] - pt1[1])\n",
    "    a1 = -slp\n",
    "    a2 = 1.\n",
    "    b = -slp * pt1[0] + pt1[1]\n",
    "\n",
    "    return a1, a2, b\n",
    "\n",
    "\n",
    "def pts_to_leq(coords):\n",
    "    \"\"\"\n",
    "    Converts a set of points to form Ax = b, but since\n",
    "    x is of length 2 this is like A1(x1) + A2(x2) = B.\n",
    "    returns A1, A2, B\n",
    "    \"\"\"\n",
    "\n",
    "    A1 = []\n",
    "    A2 = []\n",
    "    B = []\n",
    "    for i in range(len(coords) - 1):\n",
    "        pt1 = coords[i]\n",
    "        pt2 = coords[i + 1]\n",
    "        a1, a2, b = two_pts_to_line(pt1, pt2)\n",
    "        A1.append(a1)\n",
    "        A2.append(a2)\n",
    "        B.append(b)\n",
    "    return A1, A2, B\n",
    "\n",
    "\n",
    "def get_maximal_rectangle(coordinates):\n",
    "    \"\"\"\n",
    "    Find the largest, inscribed, axis-aligned rectangle.\n",
    "    :param coordinates:\n",
    "        A list of of [x, y] pairs describing a closed, convex polygon.\n",
    "    \"\"\"\n",
    "\n",
    "    coordinates = np.array(coordinates)\n",
    "    x_range = np.max(coordinates, axis=0)[0]-np.min(coordinates, axis=0)[0]\n",
    "    y_range = np.max(coordinates, axis=0)[1]-np.min(coordinates, axis=0)[1]\n",
    "\n",
    "    scale = np.array([x_range, y_range])\n",
    "    sc_coordinates = coordinates/scale\n",
    "\n",
    "    poly = Polygon(sc_coordinates)\n",
    "    inside_pt = (poly.representative_point().x,\n",
    "                 poly.representative_point().y)\n",
    "\n",
    "    A1, A2, B = pts_to_leq(sc_coordinates)\n",
    "\n",
    "    bl = cvxpy.Variable(2)\n",
    "    tr = cvxpy.Variable(2)\n",
    "    br = cvxpy.Variable(2)\n",
    "    tl = cvxpy.Variable(2)\n",
    "    obj = cvxpy.Maximize(cvxpy.log(tr[0] - bl[0]) + cvxpy.log(tr[1] - bl[1]))\n",
    "    constraints = [bl[0] == tl[0],\n",
    "                   br[0] == tr[0],\n",
    "                   tl[1] == tr[1],\n",
    "                   bl[1] == br[1],\n",
    "                   ]\n",
    "\n",
    "    for i in range(len(B)):\n",
    "        if inside_pt[0] * A1[i] + inside_pt[1] * A2[i] <= B[i]:\n",
    "            constraints.append(bl[0] * A1[i] + bl[1] * A2[i] <= B[i])\n",
    "            constraints.append(tr[0] * A1[i] + tr[1] * A2[i] <= B[i])\n",
    "            constraints.append(br[0] * A1[i] + br[1] * A2[i] <= B[i])\n",
    "            constraints.append(tl[0] * A1[i] + tl[1] * A2[i] <= B[i])\n",
    "\n",
    "        else:\n",
    "            constraints.append(bl[0] * A1[i] + bl[1] * A2[i] >= B[i])\n",
    "            constraints.append(tr[0] * A1[i] + tr[1] * A2[i] >= B[i])\n",
    "            constraints.append(br[0] * A1[i] + br[1] * A2[i] >= B[i])\n",
    "            constraints.append(tl[0] * A1[i] + tl[1] * A2[i] >= B[i])\n",
    "\n",
    "    prob = cvxpy.Problem(obj, constraints)\n",
    "    prob.solve()#prob.solve(solver=cvxpy.SCIPY, verbose=False, max_iters=1000, reltol=1e-9)\n",
    "\n",
    "    bottom_left = np.array(bl.value).T * scale\n",
    "    top_right = np.array(tr.value).T * scale\n",
    "\n",
    "    return bottom_left, top_right#list(bottom_left[0]), list(top_right[0])"
   ]
  },
  {
   "cell_type": "code",
   "execution_count": null,
   "metadata": {},
   "outputs": [],
   "source": [
    "_, coordinates = get_intersection([linebuilder])\n",
    "# print(np.array((list(coordinates))))\n",
    "# get the maximally inscribed rectangle\n",
    "ll, ur = get_maximal_rectangle(np.array((list(coordinates))))"
   ]
  },
  {
   "cell_type": "code",
   "execution_count": null,
   "metadata": {},
   "outputs": [],
   "source": [
    "ll, ur = np.ceil(ll).astype(int), np.floor(ur).astype(int)\n",
    "llx, lly = ll; urx, ury = ur\n",
    "llx -= linebuilder[:, 0].min(); urx -= linebuilder[:, 0].min()\n",
    "lly -= linebuilder[:, 1].min(); ury -= linebuilder[:, 1].min()\n",
    "lly, llx, ury, urx"
   ]
  },
  {
   "cell_type": "code",
   "execution_count": null,
   "metadata": {},
   "outputs": [],
   "source": [
    "# from skimage.morphology import closing\n",
    "# denoised = closing(original)\n",
    "# deconvolved = ac.deconvolve(original, CONFOCAL_TISSUE_IMAGE, iters=2)\n",
    "denoiser = ac.calibrate_nlm_denoiser(original[:, lly:ury, llx:urx])\n",
    "denoise_parameters = denoiser.keywords['denoiser_kwargs']\n",
    "print(denoise_parameters)\n",
    "denoised = ac.denoise(original, denoise_parameters)\n",
    "# deconvolved = ac.deconvolve(denoised, CONFOCAL_TISSUE_IMAGE, iters=1)"
   ]
  },
  {
   "cell_type": "markdown",
   "metadata": {},
   "source": [
    "---\n",
    "\n",
    "## Step 3: Segmentation"
   ]
  },
  {
   "cell_type": "markdown",
   "metadata": {},
   "source": [
    "### 3.1 Threshold & color label cells\n",
    "\n",
    "Set two parameters:\n",
    "- `LOW_THRESH`: Pixel intensity value corresponding to faintest branch's edge\n",
    "- `HIGH_THRESH`: Pixel intensity value corresponding to faintest soma\n",
    "\n",
    "Understand their effect by configuring three parameters:\n",
    "- `LOW_DELTA`: Pixel intensity value corresponding to change in `LOW_THRESH`\n",
    "- `HIGH_DELTA`: Pixel intensity value corresponding to change in `HIGH_THRESH`\n",
    "- `N_STEPS`: Number of steps of delta in threshold to take in both directions"
   ]
  },
  {
   "cell_type": "code",
   "execution_count": null,
   "metadata": {
    "scrolled": false
   },
   "outputs": [],
   "source": [
    "import skimage\n",
    "otsu_value = skimage.filters.threshold_otsu(denoised)\n",
    "print(otsu_value)\n",
    "\n",
    "LOW_THRESH = .05\n",
    "HIGH_THRESH = otsu_value\n",
    "\n",
    "LOW_DELTA = .01\n",
    "HIGH_DELTA = .01\n",
    "N_STEPS = 1\n",
    "results = None\n",
    "%matplotlib inline\n",
    "def test_thresholds(low_thresh_init, low_thresh, high_thresh_init,\n",
    "                    high_thresh, low_delta, high_delta, n_steps):\n",
    "  global results, LOW_THRESH, HIGH_THRESH, LOW_DELTA, HIGH_DELTA, N_STEPS\n",
    "  LOW_THRESH, HIGH_THRESH, N_STEPS = low_thresh, high_thresh, n_steps\n",
    "  if low_thresh_init is not None:\n",
    "    LOW_THRESH = eval(f'skimage.filters.threshold_{low_thresh_init}(denoised)')\n",
    "  if high_thresh_init is not None:\n",
    "    if high_thresh_init == 'isodata':\n",
    "      HIGH_THRESH = eval(f'skimage.filters.threshold_{high_thresh_init}(denoised)')\n",
    "  LOW_DELTA, HIGH_DELTA = low_delta, high_delta\n",
    "  results = ac.testThresholds(denoised, LOW_THRESH, HIGH_THRESH, LOW_DELTA,\n",
    "                              HIGH_DELTA, N_STEPS, 'gist_earth')\n",
    "\n",
    "_ = widgets.interact(test_thresholds,\n",
    "                     low_thresh_init=[None, *sm.util.THRESHOLD_METHODS],\n",
    "                     low_thresh=widgets.FloatSlider(LOW_THRESH, min=0, max=1, step=.01,\n",
    "                                                    readout_format='.4f', layout=widgets.Layout(width='100%')),\n",
    "                     high_thresh_init=[None, *sm.util.THRESHOLD_METHODS],\n",
    "                     high_thresh=widgets.FloatSlider(HIGH_THRESH, min=0, max=1, step=.01,\n",
    "                                                     readout_format='.4f', layout=widgets.Layout(width='100%')),\n",
    "                     low_delta=widgets.FloatSlider(LOW_DELTA, min=0, max=1, step=.0005,\n",
    "                                                   readout_format='.4f', layout=widgets.Layout(width='100%')),\n",
    "                     high_delta=widgets.FloatSlider(HIGH_DELTA, min=0, max=1, step=.0005,\n",
    "                                                    readout_format='.4f', layout=widgets.Layout(width='100%')),\n",
    "                     n_steps=widgets.IntSlider(N_STEPS, min=0, max=10,\n",
    "                                               layout=widgets.Layout(width='100%'))\n",
    ")"
   ]
  },
  {
   "cell_type": "code",
   "execution_count": null,
   "metadata": {},
   "outputs": [],
   "source": [
    "view_3D({'data': denoised, 'colormap': 'inferno', 'name': 'original'}, *results)"
   ]
  },
  {
   "cell_type": "code",
   "execution_count": null,
   "metadata": {},
   "outputs": [],
   "source": [
    "thresholded = ac.threshold(denoised, LOW_THRESH, HIGH_THRESH)\n",
    "labels = ac.label_thresholded(thresholded)"
   ]
  },
  {
   "cell_type": "code",
   "execution_count": null,
   "metadata": {},
   "outputs": [],
   "source": [
    "prefiltering_volume = thresholded.sum()\n",
    "f'Prefiltering Volume: {prefiltering_volume}'"
   ]
  },
  {
   "cell_type": "markdown",
   "metadata": {},
   "source": [
    "### 3.2 Filter segmented individual cells by removing ones in borders (touching the convex hull)"
   ]
  },
  {
   "cell_type": "code",
   "execution_count": null,
   "metadata": {},
   "outputs": [],
   "source": [
    "# discard objects connected to border of approximated tissue, potential partially captured\n",
    "# filtered_labels = ac.filter_labels(labels, thresholded, linebuilder) if original.shape[0] > 1 else labels\n",
    "filtered_labels = labels\n",
    "ac.projectXYZ(filtered_labels, .5, .5, 1, 'gist_earth')"
   ]
  },
  {
   "cell_type": "code",
   "execution_count": null,
   "metadata": {},
   "outputs": [],
   "source": [
    "view_3D({'data': denoised, 'colormap': 'red', 'name': 'denoised'},\n",
    "        {'data': filtered_labels, 'colormap': 'gray', 'gamma': .8, 'name': 'filtered_labels'},\n",
    "        {'data': labels, 'colormap': 'gist_earth', 'gamma': .8, 'name': 'labels'})"
   ]
  },
  {
   "cell_type": "code",
   "execution_count": null,
   "metadata": {},
   "outputs": [],
   "source": [
    "# get the centroids and label values from the label image\n",
    "regions = ac.arrange_regions(filtered_labels)\n",
    "regions = sorted(regions, key= lambda r: [r.centroid[2], r.centroid[1], r.centroid[0]])\n",
    "\n",
    "centroid_coords = [r.centroid for r in regions]\n",
    "\n",
    "# store the labels for each blob in a properties dictionary\n",
    "pts_properties = {'obj': [i for i in range(len(regions))]}"
   ]
  },
  {
   "cell_type": "markdown",
   "metadata": {},
   "source": [
    "### 3.3 Visualize segmented cells to determine cutoff volumes\n",
    "\n",
    "#### 3.3.1 Check segmented cells on whole image"
   ]
  },
  {
   "cell_type": "code",
   "execution_count": null,
   "metadata": {},
   "outputs": [],
   "source": [
    "import numpy as np\n",
    "from smorph.analysis._skeletal import _get_blobs\n",
    "\n",
    "somas_estimates = []\n",
    "\n",
    "i = 0\n",
    "for region in regions:\n",
    "    minz, miny, minx, maxz, maxy, maxx = region.bbox\n",
    "    try:\n",
    "        blobs = _get_blobs(denoised[minz:maxz, miny:maxy, minx:maxx] * region.image, 'confocal')\n",
    "        consistent_blob = blobs[blobs[:, 3].argsort()][0].astype(int)[:-1]\n",
    "        ll = np.array([minz, miny, minx])  # lower-left\n",
    "        somas_estimates.append(ll + consistent_blob)\n",
    "    except:\n",
    "        somas_estimates.append(region.centroid)\n",
    "len(somas_estimates)"
   ]
  },
  {
   "cell_type": "code",
   "execution_count": null,
   "metadata": {},
   "outputs": [],
   "source": [
    "somas_estimates = np.load('somas_estimates-ML.npy')"
   ]
  },
  {
   "cell_type": "code",
   "execution_count": null,
   "metadata": {},
   "outputs": [],
   "source": [
    "reconstructed_labels = np.zeros(original.shape, dtype=int)\n",
    "for itr in range(len(regions)):\n",
    "    minz, miny, minx, maxz, maxy, maxx = regions[itr].bbox\n",
    "    reconstructed_labels[minz:maxz, miny:maxy, minx:maxx] += regions[itr].image * (itr + 1)\n",
    "\n",
    "centroid_coords = [r.centroid for r in regions]\n",
    "\n",
    "# store the labels for each blob in a properties dictionary\n",
    "pts_properties = {'obj': [i for i in range(len(regions))]}\n",
    "\n",
    "if not on_colab:\n",
    "    with napari.gui_qt():\n",
    "        man_viewer = napari.view_image(denoised, ndisplay=3)\n",
    "        man_viewer.add_labels(reconstructed_labels, rendering='translucent', opacity=.4)\n",
    "        man_viewer.add_points(somas_estimates, face_color='red', size=5, symbol='ring')\n",
    "        man_viewer.add_points(centroid_coords, edge_color='transparent',\n",
    "                          face_color='transparent',\n",
    "                          properties=pts_properties, text='obj')"
   ]
  },
  {
   "cell_type": "code",
   "execution_count": null,
   "metadata": {},
   "outputs": [],
   "source": [
    "from os import listdir, path\n",
    "\n",
    "import numpy as np\n",
    "import tifffile\n",
    "from skimage.measure import label\n",
    "from smorph.util.autocrop._io import _build_multipoint_roi\n",
    "from smorph.util.autocrop._postprocessing import _segment_clump\n",
    "\n",
    "somas_estimates = np.unique(man_viewer.layers[2].data, axis=0)\n",
    "filtered_regions, residue = [], []\n",
    "separated_clumps = []\n",
    "\n",
    "print('Please recheck if you REALLY want these changes.')\n",
    "\n",
    "itr = 0\n",
    "for region in regions:\n",
    "    minz, miny, minx, maxz, maxy, maxx = region.bbox\n",
    "    ll = np.array([minz, miny, minx])  # lower-left\n",
    "    ur = np.array([maxz, maxy, maxx]) - 1  # upper-right\n",
    "    inidx = np.all(np.logical_and(ll <= somas_estimates, somas_estimates <= ur), axis=1)\n",
    "    somas_coords = somas_estimates[inidx].astype(np.int64)\n",
    "\n",
    "    if len(somas_coords) == 0:\n",
    "        print('Delete region:', itr)\n",
    "        residue.append(region)\n",
    "    elif len(np.unique(somas_coords.astype(int), axis=0)) > 1:  # clumpSep\n",
    "        somas_coords = somas_coords.astype(int)\n",
    "        somas_coords -= ll\n",
    "        im = denoised[minz:maxz, miny:maxy, minx:maxx].copy()\n",
    "        im[~region.image] = 0\n",
    "        markers = np.zeros(region.image.shape)\n",
    "\n",
    "        somas_coords = np.array([x for x in somas_coords if region.image[tuple(x)] > 0])\n",
    "\n",
    "        if len(somas_coords) == 0:  # no marked point ROI\n",
    "            print('Delete region:', itr)\n",
    "        \n",
    "        if somas_coords.shape[0] == 1:\n",
    "            filtered_regions.append(region)\n",
    "            continue\n",
    "\n",
    "        for i in range(somas_coords.shape[0]):\n",
    "            markers[tuple(somas_coords[i])] = i + 1\n",
    "            separated_clumps.append(somas_coords[i])\n",
    "\n",
    "        labels = _segment_clump(im, markers)\n",
    "        separated_regions = ac.core.arrange_regions(labels)\n",
    "        for r in separated_regions:\n",
    "            r.slice = (slice(minz + r.bbox[0], minz + r.bbox[3]),\n",
    "                       slice(miny + r.bbox[1], miny + r.bbox[4]),\n",
    "                       slice(minx + r.bbox[2], minx + r.bbox[5]))\n",
    "        print('Split clump region:', itr)\n",
    "        filtered_regions.extend(separated_regions)\n",
    "    else:\n",
    "        filtered_regions.append(region)\n",
    "    itr += 1"
   ]
  },
  {
   "cell_type": "markdown",
   "metadata": {},
   "source": [
    "### Confirm changes"
   ]
  },
  {
   "cell_type": "code",
   "execution_count": null,
   "metadata": {},
   "outputs": [],
   "source": [
    "regions = sorted(filtered_regions, key=lambda region: region.area)"
   ]
  },
  {
   "cell_type": "code",
   "execution_count": null,
   "metadata": {},
   "outputs": [],
   "source": [
    "somas_estimates = np.vstack((somas_estimates, np.load('rejected_clumps-ML.npy')))"
   ]
  },
  {
   "cell_type": "markdown",
   "metadata": {},
   "source": [
    "### After all changes"
   ]
  },
  {
   "cell_type": "code",
   "execution_count": null,
   "metadata": {},
   "outputs": [],
   "source": [
    "np.save('somas_estimates-ML.npy', somas_estimates)\n",
    "\n",
    "np.save('rejected_clumps-ML.npy', np.setdiff1d(somas_coords, separated_clumps))  # discarded clump ROI: to be subtracted"
   ]
  },
  {
   "cell_type": "markdown",
   "metadata": {},
   "source": [
    "#### 3.3.2: Check batches of objects"
   ]
  },
  {
   "cell_type": "code",
   "execution_count": null,
   "metadata": {
    "scrolled": false
   },
   "outputs": [],
   "source": [
    "# Set `BATCH_NO` to view detected objects in paginated 2D MIP views.\n",
    "N_BATCHES = ac.paginate_objs(regions, pg_size=50)\n",
    "\n",
    "def plot_batch(BATCH_NO):\n",
    "  ac.project_batch(BATCH_NO, N_BATCHES, regions, denoised)\n",
    "  plt.show()\n",
    "\n",
    "_ = widgets.interact(plot_batch, BATCH_NO=widgets.IntSlider(min=0,\n",
    "                       max=N_BATCHES-1, layout=widgets.Layout(width='100%')))"
   ]
  },
  {
   "cell_type": "markdown",
   "metadata": {},
   "source": [
    "#### 3.3.2: Check individual objects\n",
    "Select individual objects using `OBJ_INDEX`."
   ]
  },
  {
   "cell_type": "code",
   "execution_count": null,
   "metadata": {
    "tags": []
   },
   "outputs": [],
   "source": [
    "OBJ_INDEX = 0\n",
    "extracted_cell = None\n",
    "minz, miny, minx, maxz, maxy, maxx = 0, 0, 0, 0, 0, 0\n",
    "\n",
    "def plot_single(obj_index):\n",
    "  global OBJ_INDEX, extracted_cell, minz, miny, minx, maxz, maxy, maxx\n",
    "  OBJ_INDEX = obj_index\n",
    "  extracted_cell = ac.extract_obj(regions[OBJ_INDEX], original)\n",
    "  minz, miny, minx, maxz, maxy, maxx = regions[OBJ_INDEX].bbox\n",
    "  ac.projectXYZ(extracted_cell, .5, .5, 1)\n",
    "\n",
    "_ = widgets.interact(plot_single, obj_index=widgets.IntSlider(min=0,\n",
    "                       max=len(regions)-1, layout=widgets.Layout(width='100%')))"
   ]
  },
  {
   "cell_type": "markdown",
   "metadata": {},
   "source": [
    "---\n",
    "\n",
    "## Step 4: Export autocropped 3D cells or 2D max intensity projections\n",
    "\n",
    "Set two parameters:\n",
    "- `LOW_VOLUME_CUTOFF`: to filter out noise/artifacts\n",
    "- `HIGH_VOLUME_CUTOFF`: to filter out cell clusters\n",
    "\n",
    "For choosing between 3D segmented cells or 2D max intensity projections:\n",
    "- Set `OUTPUT_OPTION` = '3d' for 3D cells, or\n",
    "- Set `OUTPUT_OPTION` = 'mip' for Max Intensity Projections."
   ]
  },
  {
   "cell_type": "code",
   "execution_count": null,
   "metadata": {},
   "outputs": [],
   "source": [
    "LOW_VOLUME_CUTOFF = 200  # filter noise/artifacts\n",
    "HIGH_VOLUME_CUTOFF = 4200  # filter cell clusters\n",
    "OUTPUT_OPTION = 'mip'  # '3d' for 3D cells, 'mip' for Max Intensity Projections\n",
    "SEGMENT_TYPE = 'segmented'\n",
    "reconstructed_cells = None\n",
    "\n",
    "import numpy as np\n",
    "\n",
    "def volume_range(low_volume_cutoff=LOW_VOLUME_CUTOFF,\n",
    "                 high_volume_cutoff=HIGH_VOLUME_CUTOFF, output_option=OUTPUT_OPTION,\n",
    "                 segment_type=SEGMENT_TYPE):\n",
    "  global LOW_VOLUME_CUTOFF, HIGH_VOLUME_CUTOFF, OUTPUT_OPTION, SEGMENT_TYPE, reconstructed_cells\n",
    "  LOW_VOLUME_CUTOFF, HIGH_VOLUME_CUTOFF = low_volume_cutoff, high_volume_cutoff\n",
    "  OUTPUT_OPTION, SEGMENT_TYPE = output_option, segment_type\n",
    "\n",
    "  reconstructed_cells = np.zeros_like(denoised)\n",
    "  for region in regions:\n",
    "    if LOW_VOLUME_CUTOFF <= region.area <= HIGH_VOLUME_CUTOFF:\n",
    "      minz, miny, minx, maxz, maxy, maxx = region.bbox\n",
    "      reconstructed_cells[minz:maxz, miny:maxy, minx:maxx] += region.filled_image * denoised[minz:maxz, miny:maxy, minx:maxx]\n",
    "  ac.projectXYZ(reconstructed_cells, .5, .5, 1, 'gist_heat')\n",
    "\n",
    "_ = widgets.interact(volume_range, low_volume_cutoff=widgets.IntSlider(value=LOW_VOLUME_CUTOFF,\n",
    "                         min=0, max=regions[-1].area, layout=widgets.Layout(width='100%')),\n",
    "                     high_volume_cutoff=widgets.IntSlider(value=HIGH_VOLUME_CUTOFF,\n",
    "                         min=0, max=regions[-1].area, layout=widgets.Layout(width='100%')),\n",
    "                     output_option=['3d', 'mip', 'both'],\n",
    "                     segment_type=['segmented', 'unsegmented', 'both'])"
   ]
  },
  {
   "cell_type": "code",
   "execution_count": null,
   "metadata": {},
   "outputs": [],
   "source": [
    "view_3D({'data': original, 'colormap': 'gray', 'name': 'original'},\n",
    "        {'data': reconstructed_cells, 'name': 'output'})"
   ]
  },
  {
   "cell_type": "code",
   "execution_count": null,
   "metadata": {
    "tags": []
   },
   "outputs": [],
   "source": [
    "ac.export_cells(CONFOCAL_TISSUE_IMAGE, LOW_VOLUME_CUTOFF,\n",
    "                HIGH_VOLUME_CUTOFF, OUTPUT_OPTION, original,\n",
    "                regions, residue, SEGMENT_TYPE, NAME_ROI, linebuilder)"
   ]
  }
 ],
 "metadata": {
  "interpreter": {
   "hash": "505a5a09a018729871b9cc7f8dbd3560d8285490b99df05e65532aacc0f83603"
  },
  "kernelspec": {
   "display_name": "Python 3.7.9 64-bit ('smorph-ObnBYCc1-py3.7': poetry)",
   "name": "python3"
  },
  "language_info": {
   "codemirror_mode": {
    "name": "ipython",
    "version": 3
   },
   "file_extension": ".py",
   "mimetype": "text/x-python",
   "name": "python",
   "nbconvert_exporter": "python",
   "pygments_lexer": "ipython3",
   "version": "3.7.9"
  }
 },
 "nbformat": 4,
 "nbformat_minor": 2
}
