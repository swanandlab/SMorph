{
 "cells": [
  {
   "cell_type": "markdown",
   "metadata": {},
   "source": [
    "# SMorph: Single Cell Analysis"
   ]
  },
  {
   "cell_type": "markdown",
   "metadata": {},
   "source": [
    "---\n",
    "## Setup\n",
    "Please execute the cell(s) below to initialize the notebook environment."
   ]
  },
  {
   "cell_type": "code",
   "execution_count": null,
   "source": [
    "# @title Install dependencies\r\n",
    "!pip install poetry"
   ]
  },
  {
   "cell_type": "code",
   "execution_count": null,
   "source": [
    "# @title Install SMorph Python module\r\n",
    "!pip install https://github.com/swanandlab/SMorph/releases/download/0.1.0/SMorph-0.1.0.tar.gz"
   ]
  },
  {
   "cell_type": "code",
   "execution_count": null,
   "source": [
    "import warnings\r\n",
    "warnings.filterwarnings('ignore')  # Suppress annoying warnings\r\n",
    "\r\n",
    "import smorph as sm\r\n",
    "import skimage\r\n",
    "import matplotlib.pyplot as plt\r\n",
    "import ipywidgets as widgets"
   ]
  },
  {
   "cell_type": "code",
   "execution_count": null,
   "source": [
    "def plot(img):\r\n",
    "  \"\"\"Helper one line function for plotting\"\"\"\r\n",
    "  plt.imshow(img, cmap='gray')\r\n",
    "  plt.show()"
   ]
  },
  {
   "cell_type": "markdown",
   "metadata": {},
   "source": [
    "---\n",
    "## Step 1: Load image and select preprocessing parameters\n",
    "\n",
    "Set `IMG_PATH` as string to the path of a cell image to be analyzed"
   ]
  },
  {
   "cell_type": "code",
   "execution_count": null,
   "source": [
    "IMG_PATH = \"../../SMorph/Datasets/CTRLvsSTAB/control/MAX_SW MICE 2_SEC 2_GFAP_RIGHT_CA1 _CONTRA_1-2_1.tif\"  #@param\r\n",
    "cell_image = skimage.io.imread(IMG_PATH)\r\n",
    "plot(cell_image)"
   ],
   "outputs": [],
   "metadata": {}
  },
  {
   "cell_type": "markdown",
   "source": [
    "Cell image preprocessing parameters:\n",
    "* `min_ptile` and `max_ptile`: minimum and maximum contrast percentiles to stretch the image to\n",
    "* `threshold_method`: method for single intensity auto-thresholding the cell image\n",
    "\n",
    "Overlayed contour represents the thresholding results."
   ],
   "metadata": {}
  },
  {
   "cell_type": "code",
   "execution_count": null,
   "source": [
    "# @title Interactive preprocessing parameter selection\r\n",
    "def plot_ptiles(min_ptile=2, max_ptile=98, threshold_method=sm.util.THRESHOLD_METHODS[4]):\r\n",
    "  plt.imshow(sm.util._image._contrast_stretching(cell_image,\r\n",
    "                                                 (min_ptile, max_ptile)),\r\n",
    "             cmap='gray')\r\n",
    "  mask = sm.util.preprocess_image(\r\n",
    "    cell_image,\r\n",
    "    'confocal',\r\n",
    "    None,\r\n",
    "    'manual',\r\n",
    "    (min_ptile, max_ptile),\r\n",
    "    threshold_method\r\n",
    "  )[1]\r\n",
    "  contours = skimage.measure.find_contours(mask, .9)\r\n",
    "  for contour in contours:\r\n",
    "    plt.plot(contour[:, 1], contour[:, 0], linewidth=2)\r\n",
    "  # plt.imshow(mask, alpha=.5, cmap='jet', interpolation='none')\r\n",
    "\r\n",
    "_ = widgets.interact(plot_ptiles, min_ptile=(0, 100, 1), max_ptile=(0, 100, 1), threshold_method=[*sm.util.THRESHOLD_METHODS])"
   ],
   "outputs": [],
   "metadata": {}
  },
  {
   "cell_type": "markdown",
   "source": [
    "Set the preprocessing parameters in the following cells"
   ],
   "metadata": {}
  },
  {
   "cell_type": "code",
   "execution_count": null,
   "source": [
    "# minimum and maximum percentiles of contrast to stretch the image to\r\n",
    "contrast_ptiles = (2, 98)  #@param\r\n",
    "\r\n",
    "sm.util.try_all_threshold(cell_image, contrast_ptiles)\r\n",
    "sm.util.THRESHOLD_METHODS"
   ],
   "outputs": [],
   "metadata": {}
  },
  {
   "cell_type": "code",
   "execution_count": null,
   "source": [
    "# choice of threshold method\r\n",
    "threshold_method = sm.util.THRESHOLD_METHODS[6]  #@param\r\n",
    "threshold_method"
   ],
   "outputs": [],
   "metadata": {}
  },
  {
   "cell_type": "markdown",
   "metadata": {},
   "source": [
    "---\n",
    "## Step 2: Start single cell analysis\n",
    "\n",
    "Sholl analysis parameters:\n",
    "- Set `SHOLL_STEP_SIZE` as int to difference (in pixels) between concentric Sholl circles\n",
    "- Set `POLYNOMIAL_DEGREE` as int to degree of polynomial for fitting regression model on Sholl values"
   ]
  },
  {
   "cell_type": "code",
   "execution_count": null,
   "source": [
    "SHOLL_STEP_SIZE = 3  #@param\r\n",
    "POLYNOMIAL_DEGREE = 3  #@param"
   ],
   "outputs": [],
   "metadata": {}
  },
  {
   "cell_type": "code",
   "execution_count": null,
   "source": [
    "cell = sm.Cell(cell_image, image_type='confocal', crop_tech='manual',\r\n",
    "               contrast_ptiles=contrast_ptiles,\r\n",
    "               threshold_method=threshold_method,\r\n",
    "               sholl_step_size=SHOLL_STEP_SIZE,\r\n",
    "               polynomial_degree=POLYNOMIAL_DEGREE)\r\n",
    "plot(cell.cleaned_image)"
   ],
   "outputs": [],
   "metadata": {}
  },
  {
   "cell_type": "code",
   "execution_count": null,
   "source": [
    "# View the extracted features\r\n",
    "cell.features"
   ],
   "outputs": [],
   "metadata": {}
  },
  {
   "cell_type": "code",
   "execution_count": null,
   "source": [
    "# @title Interactively view feature\r\n",
    "\r\n",
    "ALL_FEATURE_NAMES = list(sm.ALL_FEATURE_NAMES)\r\n",
    "\r\n",
    "def view_feature(feature):\r\n",
    "  return cell.features[feature]\r\n",
    "\r\n",
    "_ = widgets.interact(view_feature, feature=[*ALL_FEATURE_NAMES])"
   ],
   "outputs": [],
   "metadata": {}
  },
  {
   "cell_type": "markdown",
   "metadata": {},
   "source": [
    "## Step 2.1: Skeleton Analysis\n",
    "Skeletal morphological features:\n",
    "* `cell.features['surface_area']`: Sum of highlighted pixels of cleaned image\n",
    "* `cell.features['total_length']`: Sum of highlighted pixels of skeleton\n",
    "* `cell.features['avg_process_thickness']`: Average width of all branches\n",
    "* `cell.features['convex_hull']`: Sum of pixels included in the smallest convex polygon that surround whole cell\n",
    "* `cell.features['no_of_forks']`: Count of all the forking (furcation) points\n",
    "* `cell.features['no_of_primary_branches']`: Count of primary branches\n",
    "* `cell.features['no_of_secondary_branches']`: Count of secondary branches\n",
    "* `cell.features['no_of_tertiary_branches']`: Count of tertiary branches\n",
    "* `cell.features['no_of_quatenary_branches']`: Count of quatenary branches\n",
    "* `cell.features['no_of_terminal_branches']`: Count of terminal branches\n",
    "* `cell.features['avg_length_of_primary_branches']`: Average length of primary branches\n",
    "* `cell.features['avg_length_of_secondary_branches']`: Average length of secondary branches\n",
    "* `cell.features['avg_length_of_tertiary_branches']`: Average length of tertiary branches\n",
    "* `cell.features['avg_length_of_quatenary_branches']`: Average length of quatenary branches\n",
    "* `cell.features['avg_length_of_terminal_branches']`: Average length of terminal branches\n",
    "  "
   ]
  },
  {
   "cell_type": "code",
   "execution_count": null,
   "source": [
    "# Sum of highlighted pixels is calculated to get the skeleton area estimate\n",
    "cell.features['total_length']"
   ],
   "outputs": [],
   "metadata": {}
  },
  {
   "cell_type": "code",
   "execution_count": null,
   "source": [
    "# Sum of highlighted pixels is calculated to get the area estimate of astrocyte\n",
    "cell.features['avg_process_thickness']"
   ],
   "outputs": [],
   "metadata": {}
  },
  {
   "cell_type": "code",
   "execution_count": null,
   "source": [
    "# Sum of pixels included in the smallest convex polygon that surround all astrocyte pixels\n",
    "cell.plot_convex_hull()\n",
    "cell.features['convex_hull']"
   ],
   "outputs": [],
   "metadata": {}
  },
  {
   "cell_type": "code",
   "execution_count": null,
   "source": [
    "# Count all the bifurcation points\n",
    "cell.plot_forks()\n",
    "cell.features['no_of_forks']"
   ],
   "outputs": [],
   "metadata": {}
  },
  {
   "cell_type": "code",
   "execution_count": null,
   "source": [
    "# The branches are differentiated into primary, secondary and further levels to compare any branch level differences between astrocytes\n",
    "cell.plot_branching_structure()"
   ],
   "outputs": [],
   "metadata": {}
  },
  {
   "cell_type": "markdown",
   "metadata": {},
   "source": [
    "## Step 2.2: Sholl Analysis\n",
    "\n",
    "Sholl analysis morphological features:\n",
    "\n",
    "* `cell.features['critical_radius']`: Distance at which Critical value occurs (distance at which the Highest count of intersections occurred)\n",
    "* `cell.features['critical_value']`: Local maximum of the polynomial fit (Maximum no. of intersections)\n",
    "* `cell.features['enclosing_radius']`: The last (thus, the widest) of intersecting radii to be associated with the number of intersections\n",
    "* `cell.features['ramification_index']`: Ratio between critical value and number of primary branches\n",
    "* `cell.features['skewness']`: Indication of how symmetrical the distribution is around its mean\n",
    "* `cell.features['coefficient_of_determination']`: How close the data are to the fitted regression (indicative of the level of explained variability in the data)\n",
    "* `cell.features['sholl_regression_coefficient']`: Rate of decay of no. of branches\n",
    "* `cell.features['regression_intercept']`: Y-intercept of the logarithmic Sholl plot"
   ]
  },
  {
   "cell_type": "code",
   "execution_count": null,
   "source": [
    "# Number of intersections of astrocytic branches at regular distances from the soma\n",
    "cell.plot_sholl_results()"
   ],
   "outputs": [],
   "metadata": {}
  },
  {
   "cell_type": "markdown",
   "metadata": {},
   "source": [
    "Polynomial regression is used to mitigate the influence of local variations in the sampled data, and thereby better describe the relationship between intersections vs. distance"
   ]
  },
  {
   "cell_type": "code",
   "execution_count": null,
   "source": [
    "cell.plot_polynomial_fit()"
   ],
   "outputs": [],
   "metadata": {}
  },
  {
   "cell_type": "code",
   "execution_count": null,
   "source": [
    "# Distance at which Critical value occurs (distance at which the Highest count of intersections occurred)\n",
    "cell.features['critical_radius']"
   ],
   "outputs": [],
   "metadata": {}
  },
  {
   "cell_type": "code",
   "execution_count": null,
   "source": [
    "# Local maximum of the polynomial fit (Maximum no. of intersections)\n",
    "cell.features['critical_value']"
   ],
   "outputs": [],
   "metadata": {}
  },
  {
   "cell_type": "code",
   "execution_count": null,
   "source": [
    "# The last (thus, the widest) of intersecting radii to be associated with the number of intersections\n",
    "cell.features['enclosing_radius']"
   ],
   "outputs": [],
   "metadata": {}
  },
  {
   "cell_type": "code",
   "execution_count": null,
   "source": [
    "# Indication of how symmetrical the distribution is around its mean\n",
    "cell.features['skewness']"
   ],
   "outputs": [],
   "metadata": {}
  },
  {
   "cell_type": "code",
   "execution_count": null,
   "source": [
    "# Ratio between critical value and number of primary branches\n",
    "cell.features['ramification_index']"
   ],
   "outputs": [],
   "metadata": {}
  },
  {
   "cell_type": "code",
   "execution_count": null,
   "source": [
    "# how close the data are to the fitted regression (indicative of the level of explained variability in the data set)\n",
    "cell.features['coefficient_of_determination']"
   ],
   "outputs": [],
   "metadata": {}
  },
  {
   "cell_type": "code",
   "execution_count": null,
   "source": [
    "# Rate of decay of no. of branches\n",
    "cell.features['sholl_regression_coefficient']"
   ],
   "outputs": [],
   "metadata": {}
  },
  {
   "cell_type": "code",
   "execution_count": null,
   "source": [
    "# Y intercept of the logarithmic plot\n",
    "cell.features['regression_intercept']"
   ],
   "outputs": [],
   "metadata": {}
  }
 ],
 "metadata": {
  "interpreter": {
   "hash": "0e394502749a0c9bdb4178e2492fc0d192d5db9edd19a43c87ae9487ef3b9d22"
  },
  "kernelspec": {
   "name": "python3",
   "display_name": "Python 3.8.2 64-bit"
  },
  "language_info": {
   "codemirror_mode": {
    "name": "ipython",
    "version": 3
   },
   "file_extension": ".py",
   "mimetype": "text/x-python",
   "name": "python",
   "nbconvert_exporter": "python",
   "pygments_lexer": "ipython3",
   "version": "3.8.2"
  }
 },
 "nbformat": 4,
 "nbformat_minor": 2
}
