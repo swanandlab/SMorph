{
 "cells": [
  {
   "cell_type": "markdown",
   "metadata": {},
   "source": [
    "# SMorph: Single Cell Analysis"
   ]
  },
  {
   "cell_type": "markdown",
   "metadata": {},
   "source": [
    "---\n",
    "## Setup\n",
    "Please execute the cell(s) below to initialize the notebook environment."
   ]
  },
  {
   "cell_type": "code",
   "execution_count": null,
   "metadata": {},
   "outputs": [],
   "source": [
    "# @title Install dependencies\n",
    "!pip install poetry"
   ]
  },
  {
   "cell_type": "code",
   "execution_count": null,
   "metadata": {},
   "outputs": [],
   "source": [
    "# @title Install SMorph Python module\n",
    "!pip install https://github.com/swanandlab/SMorph/releases/download/0.1.0/SMorph-0.1.0.tar.gz"
   ]
  },
  {
   "cell_type": "code",
   "execution_count": null,
   "metadata": {},
   "outputs": [],
   "source": [
    "import warnings\n",
    "warnings.filterwarnings('ignore')  # Suppress annoying warnings\n",
    "\n",
    "import smorph as sm\n",
    "import skimage\n",
    "import matplotlib.pyplot as plt\n",
    "import ipywidgets as widgets\n",
    "\n",
    "import napari\n",
    "from magicgui import magicgui"
   ]
  },
  {
   "cell_type": "code",
   "execution_count": null,
   "metadata": {},
   "outputs": [],
   "source": [
    "def plot(img):\n",
    "  \"\"\"Helper one line function for plotting\"\"\"\n",
    "  if img.ndim == 3 and img.shape[-1] != 3:\n",
    "    img = img.max(0)\n",
    "  plt.imshow(img, cmap='gray')\n",
    "  plt.show()"
   ]
  },
  {
   "cell_type": "markdown",
   "metadata": {},
   "source": [
    "---\n",
    "## Step 1: Load image and select preprocessing parameters\n",
    "\n",
    "Set `IMG_PATH` as string to the path of a cell image to be analyzed"
   ]
  },
  {
   "cell_type": "code",
   "execution_count": null,
   "metadata": {},
   "outputs": [],
   "source": [
    "IMG_PATH = \"F:/K/ROLLBALL/CONTROL_MSP2.1MB_4_LONG MARK_20X_SEC 2_LEFT HILUS_28 DAYczi-ML/segmented_3d/ae3fa593176b403da4e15bbe11e3cf8a.tif\"  #@param\n",
    "SCALE = (1.0785801681301463, 0.6918881978764917, 0.6918881978764917)\n",
    "\n",
    "cell_image = skimage.io.imread(IMG_PATH)\n",
    "plot(cell_image)"
   ]
  },
  {
   "cell_type": "code",
   "execution_count": null,
   "metadata": {},
   "outputs": [],
   "source": [
    "# @title Interactive image parameter selection\n",
    "IMG_TYPE = 'confocal'\n",
    "CROP_TECH = 'auto'\n",
    "\n",
    "def select_image_params (img_type, crop_tech='auto'):\n",
    "  global IMG_TYPE, CROP_TECH\n",
    "  IMG_TYPE = img_type\n",
    "  CROP_TECH = crop_tech\n",
    "\n",
    "_ = widgets.interact(select_image_params, img_type=['confocal', 'DAB'], crop_tech=['manual', 'auto'])"
   ]
  },
  {
   "cell_type": "markdown",
   "metadata": {},
   "source": [
    "Cell image preprocessing parameters:\n",
    "* `min_ptile` and `max_ptile`: minimum and maximum contrast percentiles to stretch the image to\n",
    "* `threshold_method`: method for single intensity auto-thresholding the cell image\n",
    "\n",
    "Overlayed contour represents the thresholding results."
   ]
  },
  {
   "cell_type": "code",
   "execution_count": null,
   "metadata": {},
   "outputs": [],
   "source": [
    "# @title Interactive preprocessing parameter selection\n",
    "THRESHOLD_METHOD = None#sm.util.THRESHOLD_METHODS[6]  # choice of threshold method\n",
    "CONTRAST_PTILES = (0, 100)  # minimum and maximum percentiles of contrast to stretch the image to\n",
    "\n",
    "if cell_image.ndim == 2:\n",
    "  def plot_ptiles(min_ptile=2, max_ptile=98, threshold_method=sm.util.THRESHOLD_METHODS[4]):\n",
    "    global THRESHOLD_METHOD, CONTRAST_PTILES\n",
    "    CONTRAST_PTILES = (min_ptile, max_ptile)\n",
    "    THRESHOLD_METHOD = threshold_method\n",
    "    mask = sm.util.preprocess_image(\n",
    "      cell_image,\n",
    "      IMG_TYPE,\n",
    "      None,\n",
    "      CROP_TECH,\n",
    "      (min_ptile, max_ptile),\n",
    "      threshold_method\n",
    "    )[1]\n",
    "    plt.imshow(sm.util._image._contrast_stretching(cell_image,\n",
    "                                                  (min_ptile, max_ptile)),\n",
    "              cmap='gray')\n",
    "    contours = skimage.measure.find_contours(mask, .9)\n",
    "    for contour in contours:\n",
    "      plt.plot(contour[:, 1], contour[:, 0], linewidth=2)\n",
    "  # plt.imshow(mask, alpha=.5, cmap='jet', interpolation='none')\n",
    "  _ = widgets.interact(plot_ptiles, min_ptile=(0, 100, 1), max_ptile=(0, 100, 1), threshold_method=[*sm.util.THRESHOLD_METHODS, None])\n",
    "else:\n",
    "  with napari.gui_qt():\n",
    "    viewer = napari.Viewer(ndisplay=3)\n",
    "    viewer.add_image(cell_image, scale=SCALE)\n",
    "    @magicgui(\n",
    "      call_button=\"Test Thresholds\",\n",
    "      min_ptile={\"widget_type\": \"IntSlider\", 'max': 100},\n",
    "      max_ptile={\"widget_type\": \"IntSlider\", 'max': 100},\n",
    "      threshold_method={'choices': [None, *sm.util.THRESHOLD_METHODS]}\n",
    "    )\n",
    "    def test_thresholds_gui(\n",
    "        min_ptile=0,\n",
    "        max_ptile=100,\n",
    "        threshold_method=THRESHOLD_METHOD,\n",
    "    ):\n",
    "      global THRESHOLD_METHOD, CONTRAST_PTILES\n",
    "      CONTRAST_PTILES = (min_ptile, max_ptile)\n",
    "      THRESHOLD_METHOD = threshold_method\n",
    "      mask = sm.util.preprocess_image(\n",
    "        cell_image,\n",
    "        IMG_TYPE,\n",
    "        None,\n",
    "        CROP_TECH,\n",
    "        (min_ptile, max_ptile),\n",
    "        threshold_method\n",
    "      )[1]\n",
    "      past_state = viewer.window.qt_viewer.view.camera.get_state()\n",
    "      viewer.layers.clear()\n",
    "      viewer.add_image(cell_image, scale=SCALE)\n",
    "      viewer.add_labels(mask, scale=SCALE)\n",
    "      viewer.window.qt_viewer.view.camera.set_state(past_state)\n",
    "\n",
    "    viewer.window.add_dock_widget(test_thresholds_gui)\n",
    "    test_thresholds_gui()"
   ]
  },
  {
   "cell_type": "code",
   "execution_count": null,
   "metadata": {},
   "outputs": [],
   "source": [
    "if cell_image.ndim == 2:\n",
    "    sm.util.try_all_threshold(cell_image, CONTRAST_PTILES)\n",
    "sm.util.THRESHOLD_METHODS"
   ]
  },
  {
   "cell_type": "markdown",
   "metadata": {},
   "source": [
    "---\n",
    "## Step 2: Start single cell analysis\n",
    "\n",
    "Sholl analysis parameters:\n",
    "- Set `SHOLL_STEP_SIZE` as int to difference (in pixels) between concentric Sholl circles\n",
    "- Set `POLYNOMIAL_DEGREE` as int to degree of polynomial for fitting regression model on Sholl values"
   ]
  },
  {
   "cell_type": "code",
   "execution_count": null,
   "metadata": {},
   "outputs": [],
   "source": [
    "SHOLL_STEP_SIZE = 3  #@param\n",
    "POLYNOMIAL_DEGREE = 3  #@param"
   ]
  },
  {
   "cell_type": "code",
   "execution_count": null,
   "metadata": {},
   "outputs": [],
   "source": [
    "cell = sm.Cell(cell_image, image_type=IMG_TYPE, scale=SCALE,\n",
    "               crop_tech=CROP_TECH,\n",
    "               contrast_ptiles=CONTRAST_PTILES,\n",
    "               threshold_method=THRESHOLD_METHOD,\n",
    "               sholl_step_size=SHOLL_STEP_SIZE,\n",
    "               polynomial_degree=POLYNOMIAL_DEGREE)\n",
    "plot(cell.cleaned_image)"
   ]
  },
  {
   "cell_type": "code",
   "execution_count": null,
   "metadata": {},
   "outputs": [],
   "source": [
    "# View the extracted features\n",
    "cell.features"
   ]
  },
  {
   "cell_type": "code",
   "execution_count": null,
   "metadata": {},
   "outputs": [],
   "source": [
    "# @title Interactively view feature\n",
    "\n",
    "ALL_FEATURE_NAMES = list(sm.ALL_FEATURE_NAMES)\n",
    "\n",
    "def view_feature(feature):\n",
    "  return cell.features[feature]\n",
    "\n",
    "_ = widgets.interact(view_feature, feature=[*ALL_FEATURE_NAMES])"
   ]
  },
  {
   "cell_type": "markdown",
   "metadata": {},
   "source": [
    "## Step 2.1: Skeleton Analysis\n",
    "Skeletal morphological features:\n",
    "* `cell.features['surface_area']`: Sum of highlighted pixels of cleaned image\n",
    "* `cell.features['total_length']`: Sum of highlighted pixels of skeleton\n",
    "* `cell.features['avg_process_thickness']`: Average width of all branches\n",
    "* `cell.features['convex_hull']`: Sum of pixels included in the smallest convex polygon that surround whole cell\n",
    "* `cell.features['no_of_forks']`: Count of all the forking (furcation) points\n",
    "* `cell.features['no_of_primary_branches']`: Count of primary branches\n",
    "* `cell.features['no_of_secondary_branches']`: Count of secondary branches\n",
    "* `cell.features['no_of_tertiary_branches']`: Count of tertiary branches\n",
    "* `cell.features['no_of_quatenary_branches']`: Count of quatenary branches\n",
    "* `cell.features['no_of_terminal_branches']`: Count of terminal branches\n",
    "* `cell.features['avg_length_of_primary_branches']`: Average length of primary branches\n",
    "* `cell.features['avg_length_of_secondary_branches']`: Average length of secondary branches\n",
    "* `cell.features['avg_length_of_tertiary_branches']`: Average length of tertiary branches\n",
    "* `cell.features['avg_length_of_quatenary_branches']`: Average length of quatenary branches\n",
    "* `cell.features['avg_length_of_terminal_branches']`: Average length of terminal branches\n",
    "  "
   ]
  },
  {
   "cell_type": "code",
   "execution_count": null,
   "metadata": {},
   "outputs": [],
   "source": [
    "# Sum of highlighted pixels is calculated to get the skeleton area estimate\n",
    "cell.features['total_length']"
   ]
  },
  {
   "cell_type": "code",
   "execution_count": null,
   "metadata": {},
   "outputs": [],
   "source": [
    "# Sum of highlighted pixels is calculated to get the area estimate of astrocyte\n",
    "cell.features['avg_process_thickness']"
   ]
  },
  {
   "cell_type": "code",
   "execution_count": null,
   "metadata": {},
   "outputs": [],
   "source": [
    "# Sum of pixels included in the smallest convex polygon that surround all astrocyte pixels\n",
    "cell.plot_convex_hull()\n",
    "cell.features['convex_hull']"
   ]
  },
  {
   "cell_type": "code",
   "execution_count": null,
   "metadata": {},
   "outputs": [],
   "source": [
    "# Count all the bifurcation points\n",
    "cell.plot_forks()\n",
    "cell.features['no_of_forks']"
   ]
  },
  {
   "cell_type": "code",
   "execution_count": null,
   "metadata": {},
   "outputs": [],
   "source": [
    "# The branches are differentiated into primary, secondary and further levels to compare any branch level differences between astrocytes\n",
    "cell.plot_branching_structure()"
   ]
  },
  {
   "cell_type": "markdown",
   "metadata": {},
   "source": [
    "## Step 2.2: Sholl Analysis\n",
    "\n",
    "Sholl analysis morphological features:\n",
    "\n",
    "* `cell.features['critical_radius']`: Distance at which Critical value occurs (distance at which the Highest count of intersections occurred)\n",
    "* `cell.features['critical_value']`: Local maximum of the polynomial fit (Maximum no. of intersections)\n",
    "* `cell.features['enclosing_radius']`: The last (thus, the widest) of intersecting radii to be associated with the number of intersections\n",
    "* `cell.features['ramification_index']`: Ratio between critical value and number of primary branches\n",
    "* `cell.features['skewness']`: Indication of how symmetrical the distribution is around its mean\n",
    "* `cell.features['coefficient_of_determination']`: How close the data are to the fitted regression (indicative of the level of explained variability in the data)\n",
    "* `cell.features['sholl_regression_coefficient']`: Rate of decay of no. of branches\n",
    "* `cell.features['regression_intercept']`: Y-intercept of the logarithmic Sholl plot"
   ]
  },
  {
   "cell_type": "code",
   "execution_count": null,
   "metadata": {},
   "outputs": [],
   "source": [
    "# Number of intersections of astrocytic branches at regular distances from the soma\n",
    "cell.plot_sholl_results()"
   ]
  },
  {
   "cell_type": "markdown",
   "metadata": {},
   "source": [
    "Polynomial regression is used to mitigate the influence of local variations in the sampled data, and thereby better describe the relationship between intersections vs. distance"
   ]
  },
  {
   "cell_type": "code",
   "execution_count": null,
   "metadata": {},
   "outputs": [],
   "source": [
    "cell._sholl_intersections"
   ]
  },
  {
   "cell_type": "code",
   "execution_count": null,
   "metadata": {},
   "outputs": [],
   "source": [
    "cell._sholl_intersections"
   ]
  },
  {
   "cell_type": "code",
   "execution_count": null,
   "metadata": {},
   "outputs": [],
   "source": [
    "cell.plot_polynomial_fit()"
   ]
  },
  {
   "cell_type": "code",
   "execution_count": null,
   "metadata": {},
   "outputs": [],
   "source": [
    "# Distance at which Critical value occurs (distance at which the Highest count of intersections occurred)\n",
    "cell.features['critical_radius']"
   ]
  },
  {
   "cell_type": "code",
   "execution_count": null,
   "metadata": {},
   "outputs": [],
   "source": [
    "# Local maximum of the polynomial fit (Maximum no. of intersections)\n",
    "cell.features['critical_value']"
   ]
  },
  {
   "cell_type": "code",
   "execution_count": null,
   "metadata": {},
   "outputs": [],
   "source": [
    "# The last (thus, the widest) of intersecting radii to be associated with the number of intersections\n",
    "cell.features['enclosing_radius']"
   ]
  },
  {
   "cell_type": "code",
   "execution_count": null,
   "metadata": {},
   "outputs": [],
   "source": [
    "# Indication of how symmetrical the distribution is around its mean\n",
    "cell.features['skewness']"
   ]
  },
  {
   "cell_type": "code",
   "execution_count": null,
   "metadata": {},
   "outputs": [],
   "source": [
    "# Ratio between critical value and number of primary branches\n",
    "cell.features['ramification_index']"
   ]
  },
  {
   "cell_type": "code",
   "execution_count": null,
   "metadata": {},
   "outputs": [],
   "source": [
    "# how close the data are to the fitted regression (indicative of the level of explained variability in the data set)\n",
    "cell.features['coefficient_of_determination']"
   ]
  },
  {
   "cell_type": "code",
   "execution_count": null,
   "metadata": {},
   "outputs": [],
   "source": [
    "# Rate of decay of no. of branches\n",
    "cell.features['sholl_regression_coefficient']"
   ]
  },
  {
   "cell_type": "code",
   "execution_count": null,
   "metadata": {},
   "outputs": [],
   "source": [
    "# Y intercept of the logarithmic plot\n",
    "cell.features['regression_intercept']"
   ]
  }
 ],
 "metadata": {
  "interpreter": {
   "hash": "0e394502749a0c9bdb4178e2492fc0d192d5db9edd19a43c87ae9487ef3b9d22"
  },
  "kernelspec": {
   "display_name": "Python 3.8.2 64-bit",
   "name": "python3"
  },
  "language_info": {
   "codemirror_mode": {
    "name": "ipython",
    "version": 3
   },
   "file_extension": ".py",
   "mimetype": "text/x-python",
   "name": "python",
   "nbconvert_exporter": "python",
   "pygments_lexer": "ipython3",
   "version": "3.8.2"
  }
 },
 "nbformat": 4,
 "nbformat_minor": 2
}
