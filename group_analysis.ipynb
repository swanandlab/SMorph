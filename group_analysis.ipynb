{
 "cells": [
  {
   "cell_type": "markdown",
   "metadata": {},
   "source": [
    "# SMorph: Group Analysis"
   ]
  },
  {
   "cell_type": "markdown",
   "metadata": {},
   "source": [
    "---\n",
    "## Setup\n",
    "Please execute the cell(s) below to initialize the notebook environment."
   ]
  },
  {
   "cell_type": "code",
   "execution_count": null,
   "metadata": {
    "tags": []
   },
   "outputs": [],
   "source": [
    "# @title Install dependencies\n",
    "# !pip install poetry"
   ]
  },
  {
   "cell_type": "code",
   "execution_count": null,
   "metadata": {},
   "outputs": [],
   "source": [
    "# @title Install SMorph Python module\n",
    "# !pip install https://github.com/swanandlab/SMorph/releases/download/0.1.0/SMorph-0.1.0.tar.gz"
   ]
  },
  {
   "cell_type": "code",
   "execution_count": null,
   "metadata": {
    "tags": []
   },
   "outputs": [],
   "source": [
    "import warnings\n",
    "warnings.filterwarnings('ignore')  # Suppress annoying warnings\n",
    "\n",
    "import smorph as sm\n",
    "import pandas as pd\n",
    "import ipywidgets as widgets\n",
    "import winsound\n",
    "# pd.set_option('display.max_rows', None)  # remove upper limit on display of rows"
   ]
  },
  {
   "cell_type": "markdown",
   "metadata": {},
   "source": [
    "---\n",
    "## Step 1: Define groups and image preprocessing parameters\n",
    "\n",
    "- Set `LABELS` as list of strings containing name labels of each group\n",
    "- Set `GROUP_FOLDERS` as list of strings containing paths to each group folder\n",
    "- Set `IMG_TYPE` as string to select the image acquisition method\n",
    "- Set `CROP_TECH` as string to select the cropping method used to crop out cells from tissue image"
   ]
  },
  {
   "cell_type": "code",
   "execution_count": null,
   "metadata": {},
   "outputs": [],
   "source": [
    "# input the path to individual group folders (place them in SMorph)\n",
    "GROUP_FOLDERS = ['D:/Kushaan/SMorph/ARNAB/CTRL_CA1_Desmin', 'D:/Kushaan/SMorph/ARNAB/MS_CA1_Desmin']  #@param\n",
    "SCALE = (0.6918881978764917, 0.6918881978764917)\n",
    "# group labels\n",
    "LABELS = None  #@param"
   ]
  },
  {
   "cell_type": "code",
   "execution_count": null,
   "metadata": {},
   "outputs": [],
   "source": [
    "# @title Interactive image parameter selection\n",
    "IMG_TYPE = 'confocal'\n",
    "SEGMENTED = False\n",
    "\n",
    "def select_image_params (img_type, segmented=SEGMENTED):\n",
    "  global IMG_TYPE, SEGMENTED\n",
    "  IMG_TYPE = img_type\n",
    "  SEGMENTED = segmented\n",
    "\n",
    "_ = widgets.interact(select_image_params, img_type=['confocal', 'DAB'], segmented=[True, False])"
   ]
  },
  {
   "cell_type": "markdown",
   "metadata": {},
   "source": [
    "Cell image preprocessing parameters:\n",
    "* `min_ptile` and `max_ptile`: minimum and maximum contrast percentiles to stretch the image to\n",
    "* `threshold_method`: method for single intensity auto-thresholding the cell image\n",
    "\n",
    "Overlayed contour represents the thresholding results."
   ]
  },
  {
   "cell_type": "code",
   "execution_count": null,
   "metadata": {
    "scrolled": false
   },
   "outputs": [],
   "source": [
    "# @title Interactive preprocessing parameter selection\n",
    "\n",
    "CONTRAST_PTILES = (0, 100)\n",
    "THRESHOLD_METHOD = sm.util.THRESHOLD_METHODS[6]\n",
    "\n",
    "import matplotlib.pyplot as plt\n",
    "import skimage.io as io\n",
    "from random import choice\n",
    "from os import listdir\n",
    "from skimage.measure import find_contours\n",
    "from copy import copy\n",
    "\n",
    "my_cmap = copy(plt.cm.get_cmap('gray')) # get a copy of the gray color map\n",
    "my_cmap.set_bad(alpha=0) # set how the colormap handles 'bad' values\n",
    "\n",
    "rand_group_path = choice(GROUP_FOLDERS)\n",
    "rand_img = choice(listdir(rand_group_path))\n",
    "rand_img = f'{rand_group_path}/{rand_img}'\n",
    "cell_image = io.imread(rand_img)\n",
    "if cell_image.ndim == 3:\n",
    "  cell_image = cell_image.max(2)\n",
    "print(rand_img)\n",
    "\n",
    "def plot_ptiles (\n",
    "  min_ptile=CONTRAST_PTILES[0],\n",
    "  max_ptile=CONTRAST_PTILES[1],\n",
    "  threshold_method=THRESHOLD_METHOD,\n",
    "  threshold_value=0\n",
    "):\n",
    "  global CONTRAST_PTILES, THRESHOLD_METHOD\n",
    "  CONTRAST_PTILES = (min_ptile, max_ptile)\n",
    "  THRESHOLD_METHOD = threshold_method\n",
    "  if threshold_method is None:\n",
    "    THRESHOLD_METHOD = threshold_value\n",
    "  plt.imshow(sm.util._image._contrast_stretching(cell_image,\n",
    "                                                 (min_ptile, max_ptile)),\n",
    "             cmap='gray')\n",
    "  mask = sm.util.preprocess_image(\n",
    "    cell_image,\n",
    "    IMG_TYPE,\n",
    "    None,\n",
    "    SEGMENTED,\n",
    "    CONTRAST_PTILES,\n",
    "    THRESHOLD_METHOD\n",
    "  )[1]\n",
    "  # contours = find_contours(mask, .9)\n",
    "  # for contour in contours:\n",
    "  #   plt.plot(contour[:, 1], contour[:, 0], linewidth=2)\n",
    "  mask[~mask] = None # insert 'bad' values into your lattice\n",
    "  plt.imshow(mask, alpha=.5, cmap=my_cmap)\n",
    "\n",
    "_ = widgets.interact(plot_ptiles, min_ptile=(0, 100, 1),\n",
    "  max_ptile=(0, 100, 1),\n",
    "  threshold_method=[*sm.util.THRESHOLD_METHODS, None],\n",
    "  threshold_value=(0., .99, .01))"
   ]
  },
  {
   "cell_type": "markdown",
   "metadata": {},
   "source": [
    "---\n",
    "## Step 2: Start group analysis\n",
    "\n",
    "Sholl analysis parameters:\n",
    "- Set `SHOLL_STEP_SIZE` as int to difference (in pixels) between concentric Sholl circles\n",
    "- Set `POLYNOMIAL_DEGREE` as int to degree of polynomial for fitting regression model on Sholl values"
   ]
  },
  {
   "cell_type": "code",
   "execution_count": null,
   "metadata": {},
   "outputs": [],
   "source": [
    "SHOLL_STEP_SIZE = 1 #@param\n",
    "POLYNOMIAL_DEGREE = 3  #@param\n"
   ]
  },
  {
   "cell_type": "code",
   "execution_count": null,
   "metadata": {
    "scrolled": false,
    "tags": []
   },
   "outputs": [],
   "source": [
    "groups = sm.Groups(GROUP_FOLDERS, image_type=IMG_TYPE, scale=SCALE,\n",
    "                   segmented=SEGMENTED, labels=LABELS,\n",
    "                   contrast_ptiles=CONTRAST_PTILES,\n",
    "                   threshold_method=THRESHOLD_METHOD,\n",
    "                   sholl_step_size=SHOLL_STEP_SIZE,\n",
    "                   polynomial_degree=POLYNOMIAL_DEGREE,\n",
    "                   save_results=True, show_logs=False, fig_format='svg',\n",
    "                   args={\"save_cell\": False, \"save_bin\": False, \"save_skel\": False, \"save_overlay\": False, \"save_branch_struct\": False})\n",
    "\n",
    "groups.plot_avg_sholl_plot(False)\n",
    "winsound.MessageBeep(0)"
   ]
  },
  {
   "cell_type": "code",
   "execution_count": null,
   "metadata": {},
   "outputs": [],
   "source": [
    "groups.group_counts"
   ]
  },
  {
   "cell_type": "code",
   "execution_count": null,
   "metadata": {},
   "outputs": [],
   "source": [
    "import numpy as np\n",
    "import tifffile, json, pandas as pd\n",
    "import seaborn as sns\n",
    "import matplotlib.pyplot as plt\n",
    "\n",
    "metadatas = []\n",
    "\n",
    "for name in groups.file_names:\n",
    "    image = tifffile.TiffFile(name)\n",
    "    metadata = image.pages[0].tags['ImageDescription'].value\n",
    "    metadata = json.loads(metadata)\n",
    "    metadatas.append(metadata)"
   ]
  },
  {
   "cell_type": "code",
   "execution_count": null,
   "metadata": {},
   "outputs": [],
   "source": [
    "parent_images = [m['parent_image'] for m in metadatas]\n",
    "parent_images"
   ]
  },
  {
   "cell_type": "code",
   "execution_count": null,
   "metadata": {},
   "outputs": [],
   "source": [
    "parent_df = pd.Series(parent_images).str.split('\\\\', expand=True)[7]\n",
    "parent_mice = parent_df.str.slice(0, 25)\n",
    "parent_mice.unique()"
   ]
  },
  {
   "cell_type": "code",
   "execution_count": null,
   "metadata": {},
   "outputs": [],
   "source": [
    "[parent_mice == 'CONTROL_MSP2.1MB_4_LONG M']"
   ]
  },
  {
   "cell_type": "code",
   "execution_count": null,
   "metadata": {},
   "outputs": [],
   "source": [
    "parent_mice.where(parent_mice != 'CONTROL_MSP2.1MB_4_LONG M')"
   ]
  },
  {
   "cell_type": "code",
   "execution_count": null,
   "metadata": {},
   "outputs": [],
   "source": [
    "sholl_polynomial_plots = groups.sholl_polynomial_plots\n",
    "polynomial_plots = list(map(lambda x: list(x),\n",
    "                            sholl_polynomial_plots))\n",
    "group_cnts = groups.group_counts\n",
    "labels = groups.labels\n",
    "\n",
    "len_polynomial_plots = max(map(len, polynomial_plots))\n",
    "\n",
    "polynomial_plots = np.array([\n",
    "    x+[0]*(len_polynomial_plots-len(x)) for x in polynomial_plots])\n",
    "\n",
    "x = np.arange(SHOLL_STEP_SIZE,\n",
    "    SHOLL_STEP_SIZE * (len_polynomial_plots + 1),\n",
    "    SHOLL_STEP_SIZE)\n",
    "\n",
    "# JASP-friendly data\n",
    "jasp_friendly_cols = ['label', 'radius', 'nintersections']\n",
    "jasp_friendly = []\n",
    "csum_group_cnts = np.cumsum(group_cnts)\n",
    "for itercell in range(len(sholl_polynomial_plots)):\n",
    "    for iterradii, r in enumerate(x):\n",
    "        nintersections = (0 if iterradii >= len(sholl_polynomial_plots[itercell])\n",
    "            else sholl_polynomial_plots[itercell][iterradii])\n",
    "        row = [\n",
    "            parent_mice[itercell], # labels[np.digitize(itercell, csum_group_cnts)],\n",
    "            r,\n",
    "            nintersections\n",
    "        ]\n",
    "        jasp_friendly.append(row)\n",
    "\n",
    "jasp_friendly = pd.DataFrame(jasp_friendly, columns=jasp_friendly_cols)\n",
    "\n",
    "jasp_friendly"
   ]
  },
  {
   "cell_type": "code",
   "execution_count": null,
   "metadata": {},
   "outputs": [],
   "source": [
    "jasp_friendly.copy()"
   ]
  },
  {
   "cell_type": "code",
   "execution_count": null,
   "metadata": {},
   "outputs": [],
   "source": [
    "tmp = jasp_friendly.copy()\n",
    "tmp['grp'] = jasp_friendly[jasp_friendly['label'] != 'CONTROL_MSP2.2M_1_SINGLE ']['label'].str.slice(0,3)"
   ]
  },
  {
   "cell_type": "code",
   "execution_count": null,
   "metadata": {},
   "outputs": [],
   "source": [
    "import seaborn as sns\n",
    "import matplotlib.pyplot as plt\n",
    "\n",
    "# fig, ax = plt.subplots(figsize=(12,8))\n",
    "sns.lineplot(data=tmp, hue='grp', x='radius', y='nintersections', err_style='bars')\n",
    "\n",
    "plt.savefig('removed.svg')"
   ]
  },
  {
   "cell_type": "code",
   "execution_count": null,
   "metadata": {},
   "outputs": [],
   "source": [
    "import seaborn as sns\n",
    "import matplotlib.pyplot as plt\n",
    "\n",
    "fig, ax = plt.subplots(figsize=(12,8))\n",
    "sns.lineplot(data=jasp_friendly, hue='label', x='radius', y='nintersections',err_style='bars', ax=ax)\n",
    "\n",
    "plt.savefig('decoupled.svg')"
   ]
  },
  {
   "cell_type": "code",
   "execution_count": null,
   "metadata": {},
   "outputs": [],
   "source": [
    "groups.features.describe()"
   ]
  },
  {
   "cell_type": "code",
   "execution_count": null,
   "metadata": {},
   "outputs": [],
   "source": [
    "import matplotlib.pyplot as plt\n",
    "n = plt.pie(groups.group_counts, labels=LABELS, autopct='%1.1f%%')\n",
    "# n[0][0].set_alpha(.5)\n",
    "# n[0][1].set_alpha(.5)\n",
    "#plt.show()\n",
    "plt.savefig('Results/Pie.svg')"
   ]
  },
  {
   "cell_type": "code",
   "execution_count": null,
   "metadata": {},
   "outputs": [],
   "source": [
    "# All 23 Morphological features' names which will be extracted from the images\n",
    "sm.ALL_FEATURE_NAMES"
   ]
  },
  {
   "cell_type": "code",
   "execution_count": null,
   "metadata": {},
   "outputs": [],
   "source": [
    "groups.plot_feature_histograms()"
   ]
  },
  {
   "cell_type": "markdown",
   "metadata": {},
   "source": [
    "  Select out of all Morphological features on which you want to perform Principal Component Analysis\n",
    "- Set list of names of `pruned_features` through corresponding checkboxes of each morphological feature"
   ]
  },
  {
   "cell_type": "code",
   "execution_count": null,
   "metadata": {},
   "outputs": [],
   "source": [
    "# @title Prune the Morphological features, if needed.\n",
    "pruned_features = list(sm.ALL_FEATURE_NAMES)\n",
    "\n",
    "def prune_features(**args):\n",
    "  global pruned_features\n",
    "  pruned_features = [feat for feat, val in args.items() if val]\n",
    "\n",
    "options = dict(zip(list(sm.ALL_FEATURE_NAMES), [True] * len(sm.ALL_FEATURE_NAMES)))\n",
    "_ = widgets.interact(prune_features, **options)"
   ]
  },
  {
   "cell_type": "code",
   "execution_count": null,
   "metadata": {},
   "outputs": [],
   "source": [
    "import seaborn as sns\n",
    "from statannotations.Annotator import Annotator\n",
    "import numpy as np\n",
    "\n",
    "\n",
    "axes = plt.subplots((len(sm._ALL_FEATURE_NAMES)+1)//5, 6, figsize=(9, 12))[1]\n",
    "data = groups.features[pruned_features]\n",
    "\n",
    "data['label'] = [groups.labels[i] for i in range(len(groups.group_counts))\n",
    "                    for j in range(groups.group_counts[i])]\n",
    "\n",
    "ax = axes.ravel()  # flat axes with numpy ravel\n",
    "x = 'label'\n",
    "palette = ['#00CCFF','#AA0044'] # (0.7176470588235294, 1.0, 0.9803921568627451), (0.6509803921568628, 0.7843137254901961, 0.4588235294117647), (0.8392156862745098, 0.2823529411764706, 0.8431372549019608)]\n",
    "\n",
    "\n",
    "for i in range(len(pruned_features)):\n",
    "    # palette = [np.random.choice(list(sns.xkcd_rgb.keys())) for i in range(3)]\n",
    "    # palette = sns.palettes.xkcd_palette(palette)\n",
    "    # print(palette)\n",
    "    sns.boxplot(y=pruned_features[i], x=x, data=data, ax=ax[i], boxprops=dict(alpha=1),  palette=palette,\n",
    "                    order=groups.labels, whis=[0,100], width=.75, showmeans=True,\n",
    "                    medianprops={'color': 'black'}, meanprops={\"marker\":\"o\",\n",
    "                       \"markerfacecolor\":\"black\", \n",
    "                       \"markeredgecolor\":\"white\"})#, palette={'CTRL CA3 GFAP': '#67A9CF', 'MS CA3 GFAP': '#EF8A62'})\n",
    "\n",
    "    # sns.barplot(y=pruned_features[i], x=x, data=data, ax=ax[i],\n",
    "    #             order=groups.labels, alpha=.3)\n",
    "    # sns.pointplot(x=x, y=pruned_features[i], data=data, ax=ax[i],\n",
    "    #                 color=\"black\", linestyles='--', ci=None)\n",
    "\n",
    "    # if len(groups.group_counts) == 2:\n",
    "    #     annotator = Annotator(ax[i], [groups.labels], data=data, x=x,\n",
    "    #                         y=pruned_features[i], verbose=False)\n",
    "    #     annotator.configure(test='t-test_ind', text_format='star',\n",
    "    #                         loc='outside')\n",
    "    #     annotator.apply_and_annotate()\n",
    "\n",
    "    ax[i].set(xlabel=None)\n",
    "\n",
    "plt.tight_layout()\n",
    "plt.savefig('Results/Boxplot_Feature.svg')"
   ]
  },
  {
   "cell_type": "code",
   "execution_count": null,
   "metadata": {},
   "outputs": [],
   "source": [
    "groups.plot_feature_bar_swarm(pruned_features)"
   ]
  },
  {
   "cell_type": "code",
   "execution_count": null,
   "metadata": {},
   "outputs": [],
   "source": [
    "# groups.plot_feature_scatter_matrix(pruned_features)"
   ]
  },
  {
   "cell_type": "code",
   "execution_count": null,
   "metadata": {
    "scrolled": false
   },
   "outputs": [],
   "source": [
    "feature_significance, covar_matix, var_PCs = groups.pca(n_PC=6, save_results=True,\n",
    "                                                        on_features=pruned_features, only_ellipse=True)"
   ]
  },
  {
   "cell_type": "code",
   "execution_count": null,
   "metadata": {},
   "outputs": [],
   "source": [
    "groups.plot_feature_significance_heatmap()"
   ]
  },
  {
   "cell_type": "code",
   "execution_count": null,
   "metadata": {
    "tags": []
   },
   "outputs": [],
   "source": [
    "groups.plot_feature_significance_vectors()"
   ]
  },
  {
   "cell_type": "code",
   "execution_count": null,
   "metadata": {
    "tags": []
   },
   "outputs": [],
   "source": [
    "%matplotlib inline\n",
    "cluster_centers, clustered_data, dist = groups.get_clusters(k=3, use_features=False,\n",
    "                                                            n_PC=2, plot='scatter')\n",
    "print('Distribution in clusters (rows represent clusters):')\n",
    "dist"
   ]
  },
  {
   "cell_type": "code",
   "execution_count": null,
   "metadata": {},
   "outputs": [],
   "source": [
    "import numpy as np\n",
    "fig, ax = plt.subplots(figsize=(10, 10), subplot_kw=dict(aspect=\"equal\"))\n",
    "size = 0.3\n",
    "vals = [v for k in dist.keys() for c, v in dist[k].iteritems()]\n",
    "ilabels = [f'{k}-Cluster_{c}' for k in dist.keys() for c, v in dist[k].iteritems()]\n",
    "vals = dist.to_numpy().ravel('A')\n",
    "ax.pie(groups.group_counts, radius=1-size, labeldistance=1-size*2,\n",
    "       wedgeprops=dict(width=size, edgecolor='w', alpha=.9), labels=LABELS)\n",
    "wedges, texts, _ = ax.pie(vals, radius=1, autopct='%1.1f%%', pctdistance=1-size/2,\n",
    "                       wedgeprops=dict(width=size, edgecolor='w'))\n",
    "bbox_props = dict(boxstyle=\"square,pad=0.3\", fc=\"w\", ec=\"k\", lw=0.72)\n",
    "kw = dict(arrowprops=dict(arrowstyle=\"-\"),\n",
    "          bbox=bbox_props, zorder=0, va=\"center\")\n",
    "\n",
    "for i, p in enumerate(wedges):\n",
    "    ang = (p.theta2 - p.theta1)/2. + p.theta1\n",
    "    y = np.sin(np.deg2rad(ang))\n",
    "    x = np.cos(np.deg2rad(ang))\n",
    "    horizontalalignment = {-1: \"right\", 1: \"left\"}[int(np.sign(x))]\n",
    "    connectionstyle = \"angle,angleA=0,angleB={}\".format(ang)\n",
    "    kw[\"arrowprops\"].update({\"connectionstyle\": connectionstyle})\n",
    "    ax.annotate(ilabels[i], xy=(x, y), xytext=(1.1*np.sign(x), 1.1*y),\n",
    "                horizontalalignment=horizontalalignment, **kw)\n",
    "\n",
    "ax.set_title(\"Cluster distribution\")"
   ]
  },
  {
   "cell_type": "code",
   "execution_count": null,
   "metadata": {},
   "outputs": [],
   "source": [
    "from ipyfilechooser import FileChooser\n",
    "\n",
    "# Create and display a FileChooser widget\n",
    "fc = FileChooser()\n",
    "FEATURES_FILE = None\n",
    "display(fc)\n",
    "def choose_features_file():\n",
    "  global FEATURES_FILE\n",
    "  FEATURES_FILE = fc.selected\n",
    "_ = widgets.interact_manual(choose_features_file)"
   ]
  },
  {
   "cell_type": "code",
   "execution_count": null,
   "metadata": {},
   "outputs": [],
   "source": [
    "import pandas as pd\n",
    "data = pd.read_csv(FEATURES_FILE)\n",
    "data.describe()"
   ]
  },
  {
   "cell_type": "code",
   "execution_count": null,
   "metadata": {},
   "outputs": [],
   "source": [
    "data[data['label'] == 'ADT_CONTROL_28D_HILUS'].describe()"
   ]
  },
  {
   "cell_type": "code",
   "execution_count": null,
   "metadata": {},
   "outputs": [],
   "source": [
    "data[data['label'] == 'ADT_DMI_28D_HILUS'].describe()"
   ]
  },
  {
   "cell_type": "code",
   "execution_count": null,
   "metadata": {},
   "outputs": [],
   "source": [
    "pd.plotting.boxplot_frame?"
   ]
  },
  {
   "cell_type": "code",
   "execution_count": null,
   "metadata": {},
   "outputs": [],
   "source": [
    "pd.plotting.boxplot_frame(data[data['label'] == 'MS CA1 Desmin'])"
   ]
  },
  {
   "cell_type": "code",
   "execution_count": null,
   "metadata": {},
   "outputs": [],
   "source": [
    "feature_significance, cov_mat, var_ratios = groups.lda(n_components=2,\n",
    "                                                       cluster_labels=clustered_data['cluster_label'],\n",
    "                                                       on_features=pruned_features)"
   ]
  },
  {
   "cell_type": "markdown",
   "metadata": {},
   "source": [
    "---"
   ]
  },
  {
   "cell_type": "markdown",
   "metadata": {},
   "source": []
  },
  {
   "cell_type": "markdown",
   "metadata": {},
   "source": []
  }
 ],
 "metadata": {
  "kernelspec": {
   "display_name": ".venv",
   "language": "python",
   "name": "python3"
  },
  "language_info": {
   "codemirror_mode": {
    "name": "ipython",
    "version": 3
   },
   "file_extension": ".py",
   "mimetype": "text/x-python",
   "name": "python",
   "nbconvert_exporter": "python",
   "pygments_lexer": "ipython3",
   "version": "3.8.10"
  },
  "vscode": {
   "interpreter": {
    "hash": "939769cdbfbfc757b7b7784cf284ba88d0d5271cad93fb5491fff09f9bdb037f"
   }
  }
 },
 "nbformat": 4,
 "nbformat_minor": 2
}
