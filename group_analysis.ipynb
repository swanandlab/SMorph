{
 "cells": [
  {
   "cell_type": "markdown",
   "metadata": {},
   "source": [
    "# SMorph: Group Analysis"
   ]
  },
  {
   "cell_type": "markdown",
   "metadata": {},
   "source": [
    "---\n",
    "## Setup\n",
    "Please execute the cell(s) below to initialize the notebook environment."
   ]
  },
  {
   "cell_type": "code",
   "execution_count": null,
   "metadata": {
    "tags": []
   },
   "outputs": [],
   "source": [
    "# @title Install dependencies\n",
    "!pip install poetry"
   ]
  },
  {
   "cell_type": "code",
   "execution_count": null,
   "metadata": {},
   "outputs": [],
   "source": [
    "# @title Install SMorph Python module\n",
    "!pip install https://github.com/swanandlab/SMorph/releases/download/0.1.0/SMorph-0.1.0.tar.gz"
   ]
  },
  {
   "cell_type": "code",
   "execution_count": null,
   "metadata": {
    "tags": []
   },
   "outputs": [],
   "source": [
    "import warnings\n",
    "warnings.filterwarnings('ignore')  # Suppress annoying warnings\n",
    "\n",
    "import smorph as sm\n",
    "import pandas as pd\n",
    "import ipywidgets as widgets\n",
    "pd.set_option('display.max_rows', None)  # remove upper limit on display of rows"
   ]
  },
  {
   "cell_type": "markdown",
   "metadata": {},
   "source": [
    "---\n",
    "## Step 1: Define groups and image preprocessing parameters\n",
    "\n",
    "- Set `LABELS` as list of strings containing name labels of each group\n",
    "- Set `GROUP_FOLDERS` as list of strings containing paths to each group folder\n",
    "- Set `IMG_TYPE` as string to select the image acquisition method\n",
    "- Set `CROP_TECH` as string to select the cropping method used to crop out cells from tissue image"
   ]
  },
  {
   "cell_type": "code",
   "execution_count": null,
   "metadata": {},
   "outputs": [],
   "source": [
    "# group labels\n",
    "LABELS = ['SAL_28_MLUB', 'DMI_28_MLUB']  #@param\n",
    "\n",
    "# input the path to individual group folders (place them in SMorph)\n",
    "GROUP_FOLDERS = ['Autocropped/CTRLvDMI-28-ML/ctrl_sub', 'Autocropped/CTRLvDMI-28-ML/dmi_sub']  #@param\n",
    "\n",
    "SCALE = (1,1)"
   ]
  },
  {
   "cell_type": "code",
   "execution_count": null,
   "metadata": {},
   "outputs": [],
   "source": [
    "# @title Interactive image parameter selection\n",
    "IMG_TYPE = 'confocal'\n",
    "CROP_TECH = 'auto'\n",
    "\n",
    "def select_image_params (img_type=IMG_TYPE, crop_tech=CROP_TECH):\n",
    "  global IMG_TYPE, CROP_TECH\n",
    "  IMG_TYPE = img_type\n",
    "  CROP_TECH = crop_tech\n",
    "\n",
    "_ = widgets.interact(select_image_params, img_type=['confocal', 'DAB'], crop_tech=['manual', 'auto'])"
   ]
  },
  {
   "cell_type": "markdown",
   "metadata": {},
   "source": [
    "Cell image preprocessing parameters:\n",
    "* `min_ptile` and `max_ptile`: minimum and maximum contrast percentiles to stretch the image to\n",
    "* `threshold_method`: method for single intensity auto-thresholding the cell image\n",
    "\n",
    "Overlayed contour represents the thresholding results."
   ]
  },
  {
   "cell_type": "code",
   "execution_count": null,
   "metadata": {
    "scrolled": false
   },
   "outputs": [],
   "source": [
    "# @title Interactive preprocessing parameter selection\n",
    "\n",
    "CONTRAST_PTILES = (0, 100)\n",
    "THRESHOLD_METHOD = None #sm.util.THRESHOLD_METHODS[4]\n",
    "\n",
    "import matplotlib.pyplot as plt\n",
    "import skimage.io as io\n",
    "from random import choice\n",
    "from os import listdir\n",
    "from skimage.measure import find_contours\n",
    "\n",
    "rand_group_path = choice(GROUP_FOLDERS)\n",
    "rand_img = choice(listdir(rand_group_path))\n",
    "cell_image = io.imread(rand_group_path + '/' + rand_img)\n",
    "if cell_image.ndim == 3:\n",
    "  cell_image = cell_image.max(2)\n",
    "\n",
    "def plot_ptiles (\n",
    "  min_ptile=CONTRAST_PTILES[0],\n",
    "  max_ptile=CONTRAST_PTILES[1],\n",
    "  threshold_method=THRESHOLD_METHOD\n",
    "):\n",
    "  global CONTRAST_PTILES, THRESHOLD_METHOD\n",
    "  CONTRAST_PTILES = (min_ptile, max_ptile)\n",
    "  THRESHOLD_METHOD = threshold_method\n",
    "  plt.imshow(sm.util._image._contrast_stretching(cell_image,\n",
    "                                                 (min_ptile, max_ptile)),\n",
    "             cmap='gray')\n",
    "  mask = sm.util.preprocess_image(\n",
    "    cell_image,\n",
    "    IMG_TYPE,\n",
    "    SCALE,\n",
    "    None,\n",
    "    CROP_TECH,\n",
    "    CONTRAST_PTILES,\n",
    "    THRESHOLD_METHOD\n",
    "  )[1]\n",
    "  contours = find_contours(mask, .9)\n",
    "  for contour in contours:\n",
    "    plt.plot(contour[:, 1], contour[:, 0], linewidth=2)\n",
    "  # plt.imshow(mask, alpha=.5, cmap='jet', interpolation='none')\n",
    "\n",
    "_ = widgets.interact(plot_ptiles, min_ptile=(0, 100, 1), max_ptile=(0, 100, 1), threshold_method=[*sm.util.THRESHOLD_METHODS, None])"
   ]
  },
  {
   "cell_type": "markdown",
   "metadata": {},
   "source": [
    "---\n",
    "## Step 2: Start group analysis\n",
    "\n",
    "Sholl analysis parameters:\n",
    "- Set `SHOLL_STEP_SIZE` as int to difference (in pixels) between concentric Sholl circles\n",
    "- Set `POLYNOMIAL_DEGREE` as int to degree of polynomial for fitting regression model on Sholl values"
   ]
  },
  {
   "cell_type": "code",
   "execution_count": null,
   "metadata": {},
   "outputs": [],
   "source": [
    "SHOLL_STEP_SIZE = 3  #@param\n",
    "POLYNOMIAL_DEGREE = 3  #@param"
   ]
  },
  {
   "cell_type": "code",
   "execution_count": null,
   "metadata": {
    "scrolled": false,
    "tags": []
   },
   "outputs": [],
   "source": [
    "groups = sm.Groups(GROUP_FOLDERS, image_type=IMG_TYPE, scale=SCALE,\n",
    "                   groups_crop_tech=CROP_TECH, labels=LABELS,\n",
    "                   contrast_ptiles=CONTRAST_PTILES,\n",
    "                   threshold_method=THRESHOLD_METHOD,\n",
    "                   sholl_step_size=SHOLL_STEP_SIZE,\n",
    "                   polynomial_degree=POLYNOMIAL_DEGREE,\n",
    "                   save_results=True, show_logs=False)"
   ]
  },
  {
   "cell_type": "code",
   "execution_count": null,
   "metadata": {},
   "outputs": [],
   "source": [
    "import winsound\n",
    "groups.plot_avg_sholl_plot(False)\n",
    "winsound.MessageBeep(0)"
   ]
  },
  {
   "cell_type": "code",
   "execution_count": null,
   "metadata": {},
   "outputs": [],
   "source": [
    "\n",
    "import matplotlib.pyplot as plt\n",
    "plt.pie(groups.group_counts, labels=LABELS, autopct='%1.1f%%')"
   ]
  },
  {
   "cell_type": "code",
   "execution_count": null,
   "metadata": {},
   "outputs": [],
   "source": [
    "# All 23 Morphological features' names which will be extracted from the images\n",
    "sm.ALL_FEATURE_NAMES"
   ]
  },
  {
   "cell_type": "code",
   "execution_count": null,
   "metadata": {},
   "outputs": [],
   "source": [
    "groups.plot_feature_histograms()"
   ]
  },
  {
   "cell_type": "markdown",
   "metadata": {},
   "source": [
    "  Select out of all Morphological features on which you want to perform Principal Component Analysis\n",
    "- Set list of names of `pruned_features` through corresponding checkboxes of each morphological feature"
   ]
  },
  {
   "cell_type": "code",
   "execution_count": null,
   "metadata": {},
   "outputs": [],
   "source": [
    "# @title Prune the Morphological features, if needed.\n",
    "pruned_features = list(sm.ALL_FEATURE_NAMES)\n",
    "\n",
    "def prune_features(**args):\n",
    "  global pruned_features\n",
    "  pruned_features = [feat for feat, val in args.items() if val]\n",
    "\n",
    "options = dict(zip(list(sm.ALL_FEATURE_NAMES), [True] * len(sm.ALL_FEATURE_NAMES)))\n",
    "_ = widgets.interact(prune_features, **options)"
   ]
  },
  {
   "cell_type": "code",
   "execution_count": null,
   "metadata": {},
   "outputs": [],
   "source": [
    "groups.plot_feature_bar_swarm(pruned_features)"
   ]
  },
  {
   "cell_type": "code",
   "execution_count": null,
   "metadata": {},
   "outputs": [],
   "source": [
    "groups.plot_feature_scatter_matrix(pruned_features)"
   ]
  },
  {
   "cell_type": "code",
   "execution_count": null,
   "metadata": {
    "scrolled": false
   },
   "outputs": [],
   "source": [
    "feature_significance, covar_matix, var_PCs = groups.pca(n_PC=6, save_results=True,\n",
    "                                                        on_features=pruned_features)"
   ]
  },
  {
   "cell_type": "code",
   "execution_count": null,
   "metadata": {},
   "outputs": [],
   "source": [
    "groups.plot_feature_significance_heatmap()"
   ]
  },
  {
   "cell_type": "code",
   "execution_count": null,
   "metadata": {
    "tags": []
   },
   "outputs": [],
   "source": [
    "groups.plot_feature_significance_vectors()"
   ]
  },
  {
   "cell_type": "code",
   "execution_count": null,
   "metadata": {
    "tags": []
   },
   "outputs": [],
   "source": [
    "%matplotlib inline\n",
    "cluster_centers, clustered_data, dist = groups.get_clusters(k=3, use_features=False,\n",
    "                                                            n_PC=2, plot='scatter')\n",
    "print('Distribution in clusters (rows represent clusters):')\n",
    "dist"
   ]
  },
  {
   "cell_type": "code",
   "execution_count": null,
   "metadata": {},
   "outputs": [],
   "source": [
    "import numpy as np\n",
    "fig, ax = plt.subplots(figsize=(10, 10), subplot_kw=dict(aspect=\"equal\"))\n",
    "size = 0.3\n",
    "vals = [v for k in dist.keys() for c, v in dist[k].iteritems()]\n",
    "ilabels = [f'{k}-Cluster_{c}' for k in dist.keys() for c, v in dist[k].iteritems()]\n",
    "vals = dist.to_numpy().ravel('A')\n",
    "ax.pie(groups.group_counts, radius=1-size, labeldistance=1-size,\n",
    "       wedgeprops=dict(width=size, edgecolor='w', alpha=.9), labels=LABELS)\n",
    "wedges, texts, _ = ax.pie(vals, radius=1, autopct='%1.1f%%', pctdistance=1-size/2,\n",
    "                       wedgeprops=dict(width=size, edgecolor='w'))\n",
    "bbox_props = dict(boxstyle=\"square,pad=0.3\", fc=\"w\", ec=\"k\", lw=0.72)\n",
    "kw = dict(arrowprops=dict(arrowstyle=\"-\"),\n",
    "          bbox=bbox_props, zorder=0, va=\"center\")\n",
    "\n",
    "for i, p in enumerate(wedges):\n",
    "    ang = (p.theta2 - p.theta1)/2. + p.theta1\n",
    "    y = np.sin(np.deg2rad(ang))\n",
    "    x = np.cos(np.deg2rad(ang))\n",
    "    horizontalalignment = {-1: \"right\", 1: \"left\"}[int(np.sign(x))]\n",
    "    connectionstyle = \"angle,angleA=0,angleB={}\".format(ang)\n",
    "    kw[\"arrowprops\"].update({\"connectionstyle\": connectionstyle})\n",
    "    ax.annotate(ilabels[i], xy=(x, y), xytext=(1.1*np.sign(x), 1.1*y),\n",
    "                horizontalalignment=horizontalalignment, **kw)\n",
    "\n",
    "ax.set_title(\"Cluster distribution\")\n"
   ]
  },
  {
   "cell_type": "code",
   "execution_count": null,
   "metadata": {},
   "outputs": [],
   "source": [
    "feature_significance, cov_mat, var_ratios = groups.lda(3, clustered_data['cluster_label'],\n",
    "                                                       on_features=None)"
   ]
  },
  {
   "cell_type": "code",
   "execution_count": null,
   "metadata": {},
   "outputs": [],
   "source": []
  }
 ],
 "metadata": {
  "interpreter": {
   "hash": "505a5a09a018729871b9cc7f8dbd3560d8285490b99df05e65532aacc0f83603"
  },
  "kernelspec": {
   "display_name": "Python 3.7.9 64-bit ('smorph-ObnBYCc1-py3.7': poetry)",
   "name": "python3"
  },
  "language_info": {
   "codemirror_mode": {
    "name": "ipython",
    "version": 3
   },
   "file_extension": ".py",
   "mimetype": "text/x-python",
   "name": "python",
   "nbconvert_exporter": "python",
   "pygments_lexer": "ipython3",
   "version": "3.8.2"
  }
 },
 "nbformat": 4,
 "nbformat_minor": 2
}
