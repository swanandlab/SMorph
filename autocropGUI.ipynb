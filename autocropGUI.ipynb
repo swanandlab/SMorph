{
 "cells": [
  {
   "cell_type": "markdown",
   "metadata": {},
   "source": [
    "---\n",
    "\n",
    "## Start GUI"
   ]
  },
  {
   "cell_type": "code",
   "execution_count": 1,
   "metadata": {},
   "outputs": [
    {
     "data": {
      "text/plain": [
       "<napari._qt.widgets.qt_viewer_dock_widget.QtViewerDockWidget at 0x2a19861dee0>"
      ]
     },
     "execution_count": 1,
     "metadata": {},
     "output_type": "execute_result"
    }
   ],
   "source": [
    "import napari\n",
    "import smorph.util.autocrop as ac\n",
    "\n",
    "ui = ac.Autocrop()\n",
    "viewer = napari.Viewer(ndisplay=3)\n",
    "viewer.window.add_dock_widget(ui)"
   ]
  },
  {
   "cell_type": "code",
   "execution_count": 2,
   "metadata": {},
   "outputs": [
    {
     "ename": "TypeError",
     "evalue": "'NoneType' object is not iterable",
     "output_type": "error",
     "traceback": [
      "\u001b[1;31m---------------------------------------------------------------------------\u001b[0m",
      "\u001b[1;31mTypeError\u001b[0m                                 Traceback (most recent call last)",
      "Cell \u001b[1;32mIn [2], line 10\u001b[0m\n\u001b[0;32m      7\u001b[0m gs1\u001b[39m.\u001b[39mupdate(wspace\u001b[39m=\u001b[39m\u001b[39m0.\u001b[39m, hspace\u001b[39m=\u001b[39m\u001b[39m0.\u001b[39m) \u001b[39m# set the spacing between axes. \u001b[39;00m\n\u001b[0;32m      9\u001b[0m itr \u001b[39m=\u001b[39m \u001b[39m-\u001b[39m\u001b[39m1\u001b[39m\n\u001b[1;32m---> 10\u001b[0m \u001b[39mfor\u001b[39;00m i, f \u001b[39min\u001b[39;00m \u001b[39menumerate\u001b[39;49m(ui\u001b[39m.\u001b[39;49mIM_FILES):\n\u001b[0;32m     11\u001b[0m     itr \u001b[39m+\u001b[39m\u001b[39m=\u001b[39m \u001b[39m1\u001b[39m\n\u001b[0;32m     12\u001b[0m     \u001b[39m# if i == 6:\u001b[39;00m\n\u001b[0;32m     13\u001b[0m     \u001b[39m#     itr += 2\u001b[39;00m\n",
      "\u001b[1;31mTypeError\u001b[0m: 'NoneType' object is not iterable"
     ]
    }
   ],
   "source": [
    "import os, skimage\n",
    "import matplotlib.pyplot as plt\n",
    "import matplotlib.gridspec as gridspec\n",
    "\n",
    "plt.figure(figsize = (8,8))\n",
    "gs1 = gridspec.GridSpec(4, 4)\n",
    "gs1.update(wspace=0., hspace=0.) # set the spacing between axes. \n",
    "\n",
    "itr = -1\n",
    "for i, f in enumerate(ui.IM_FILES):\n",
    "    itr += 1\n",
    "    # if i == 6:\n",
    "    #     itr += 2\n",
    "    ax1 = plt.subplot(gs1[itr])\n",
    "    im = ac.imread(os.path.join(ui.IN_DIR, f))[0]\n",
    "    ax1.imshow(im.max(0), cmap='plasma')\n",
    "    ax1.set_xticklabels([])\n",
    "    ax1.set_yticklabels([])\n",
    "    ax1.set_aspect('equal')\n",
    "plt.show()"
   ]
  },
  {
   "cell_type": "markdown",
   "metadata": {},
   "source": [
    "---"
   ]
  }
 ],
 "metadata": {
  "kernelspec": {
   "display_name": "Python 3.8.10 ('.venv': poetry)",
   "language": "python",
   "name": "python3"
  },
  "language_info": {
   "codemirror_mode": {
    "name": "ipython",
    "version": 3
   },
   "file_extension": ".py",
   "mimetype": "text/x-python",
   "name": "python",
   "nbconvert_exporter": "python",
   "pygments_lexer": "ipython3",
   "version": "3.8.10 (tags/v3.8.10:3d8993a, May  3 2021, 11:48:03) [MSC v.1928 64 bit (AMD64)]"
  },
  "vscode": {
   "interpreter": {
    "hash": "939769cdbfbfc757b7b7784cf284ba88d0d5271cad93fb5491fff09f9bdb037f"
   }
  }
 },
 "nbformat": 4,
 "nbformat_minor": 2
}
