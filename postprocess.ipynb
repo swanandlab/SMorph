{
 "cells": [
  {
   "cell_type": "markdown",
   "source": [
    "## Setup"
   ],
   "metadata": {}
  },
  {
   "cell_type": "code",
   "execution_count": null,
   "source": [
    "!pip install poetry"
   ],
   "outputs": [],
   "metadata": {}
  },
  {
   "cell_type": "code",
   "execution_count": null,
   "source": [
    "!pip install https://github.com/swanandlab/SMorph/releases/download/v0.1.1-alpha/SMorph-0.1.1.tar.gz"
   ],
   "outputs": [],
   "metadata": {}
  },
  {
   "cell_type": "code",
   "execution_count": null,
   "source": [
    "on_colab = 'google.colab' in str(get_ipython())\r\n",
    "\r\n",
    "import warnings\r\n",
    "warnings.filterwarnings('ignore')\r\n",
    "if not on_colab:\r\n",
    "    import napari\r\n",
    "import smorph.util.autocrop as ac"
   ],
   "outputs": [],
   "metadata": {
    "tags": []
   }
  },
  {
   "cell_type": "code",
   "execution_count": null,
   "source": [
    "# Helper function\r\n",
    "def view_3D(*args):\r\n",
    "    \"\"\"Views a 3D image.\"\"\"\r\n",
    "    n_images = len(args)\r\n",
    "    if not on_colab and n_images > 0:  \r\n",
    "        with napari.gui_qt():\r\n",
    "            viewer = napari.view_image(**args[0], ndisplay=3)\r\n",
    "            for itr in range(1, n_images):\r\n",
    "                if args[itr]['data'].max() > 1 and args[itr]['data'].max() % 1 == 0:\r\n",
    "                    if 'colormap' in args[itr].keys():\r\n",
    "                        del args[itr]['colormap']\r\n",
    "                    if 'gamma' in args[itr].keys():\r\n",
    "                        del args[itr]['gamma']\r\n",
    "                    viewer.add_labels(**args[itr])\r\n",
    "                else:\r\n",
    "                    viewer.add_image(**args[itr])"
   ],
   "outputs": [],
   "metadata": {}
  },
  {
   "cell_type": "code",
   "execution_count": null,
   "source": [
    "SOMA_SELECTED = 'Autocropped/DMI_MSP2.1MA_3_LONG MARK_20X_SEC 1_LEFT HILUS_21 DAY-HilusConEQ/residue'"
   ],
   "outputs": [],
   "metadata": {}
  },
  {
   "cell_type": "markdown",
   "source": [
    "## Select somas of individual cells in clumps\r\n",
    "\r\n",
    "### Option 1. Pre-selected point ROIs"
   ],
   "metadata": {}
  },
  {
   "cell_type": "code",
   "execution_count": null,
   "source": [
    "reconstructed_labels = None\r\n",
    "reconstructed_labels, parent_path, roi_path = ac.postprocess_segment(SOMA_SELECTED, reconstructed_labels)"
   ],
   "outputs": [],
   "metadata": {}
  },
  {
   "cell_type": "code",
   "execution_count": null,
   "source": [
    "view_3D({'data': reconstructed_labels, 'colormap': 'inferno', 'name': 'reconstructed_labels'})"
   ],
   "outputs": [],
   "metadata": {}
  },
  {
   "cell_type": "markdown",
   "source": [
    "### Option 2. Manually-select point ROIs"
   ],
   "metadata": {}
  },
  {
   "cell_type": "code",
   "execution_count": null,
   "source": [
    "reconstructed_seg = reconstructed_labels = None\r\n",
    "reconstructed_seg, parent_path, roi_path, somas_est = ac.manual_postprocess(SOMA_SELECTED, reconstructed_seg)"
   ],
   "outputs": [],
   "metadata": {}
  },
  {
   "cell_type": "code",
   "execution_count": null,
   "source": [
    "if not on_colab:\r\n",
    "    with napari.gui_qt():\r\n",
    "        man_viewer = napari.view_image(reconstructed_seg)\r\n",
    "        man_viewer.add_points(somas_est, face_color='red', size=5, symbol='cross')"
   ],
   "outputs": [],
   "metadata": {}
  },
  {
   "cell_type": "code",
   "execution_count": null,
   "source": [
    "import json\r\n",
    "from os import listdir\r\n",
    "\r\n",
    "import numpy as np\r\n",
    "import tifffile\r\n",
    "from skimage.measure import label\r\n",
    "\r\n",
    "somas_est = man_viewer.layers[1].data\r\n",
    "\r\n",
    "for file in listdir(SOMA_SELECTED):\r\n",
    "    if not file.startswith('.') and file.endswith(('.tif', '.tiff')) and '_mip' not in file:\r\n",
    "        name = SOMA_SELECTED + '/' + file\r\n",
    "        image = tifffile.TiffFile(name)\r\n",
    "        metadata = image.pages[0].tags['ImageDescription'].value\r\n",
    "        metadata = json.loads(metadata)\r\n",
    "\r\n",
    "        try:\r\n",
    "            im = image.asarray()\r\n",
    "\r\n",
    "            if reconstructed_labels is None:\r\n",
    "                parent = ac._io.import_confocal_image(parent_path)\r\n",
    "                reconstructed_labels = np.zeros(parent.shape)\r\n",
    "\r\n",
    "            minz, miny, minx, maxz, maxy, maxx = metadata['bounds']\r\n",
    "            linebuilder = ac._roi_extract._load_ROI(roi_path)\r\n",
    "            X, Y = ac.core._unwrap_polygon(linebuilder)\r\n",
    "            min_x, max_x = int(min(X)), int(max(X) + 1)\r\n",
    "            min_y, max_y = int(min(Y)), int(max(Y) + 1)\r\n",
    "            miny += min_y\r\n",
    "            maxy += min_y\r\n",
    "            minx += min_x\r\n",
    "            maxx += min_x\r\n",
    "            ll = np.array([minz, miny, minx])  # lower-left\r\n",
    "            ur = np.array([maxz, maxy, maxx])  # upper-right\r\n",
    "            inidx = np.all(np.logical_and(ll <= somas_est, somas_est <= ur), axis=1)\r\n",
    "            somas_coords = somas_est[inidx]\r\n",
    "            somas_coords -= np.array([minz+1, miny+1, minx+1])\r\n",
    "\r\n",
    "            markers = np.zeros(im.shape)\r\n",
    "            for i in range(1, somas_coords.shape[0] + 1):\r\n",
    "                markers[tuple(map(int, somas_coords[i-1]))] = i\r\n",
    "\r\n",
    "            labels = ac._postprocessing._segment_clump(im, markers)\r\n",
    "            reconstructed_labels[minz:maxz, miny:maxy, minx:maxx] += labels\r\n",
    "        except Exception as e:\r\n",
    "            print(e)\r\n",
    "reconstructed_labels = label(reconstructed_labels)"
   ],
   "outputs": [],
   "metadata": {}
  },
  {
   "cell_type": "code",
   "execution_count": null,
   "source": [
    "view_3D({'data': reconstructed_seg, 'colormap': 'inferno', 'name': 'reconstructed_seg'},\r\n",
    "        {'data': reconstructed_labels, 'colormap': 'inferno', 'name': 'reconstructed_labels'})"
   ],
   "outputs": [],
   "metadata": {}
  },
  {
   "cell_type": "code",
   "execution_count": null,
   "source": [
    "reconstructed_volume = (reconstructed_labels > 0).sum()\r\n",
    "f'Postreconstructing Volume: {reconstructed_volume}'"
   ],
   "outputs": [],
   "metadata": {}
  },
  {
   "cell_type": "code",
   "execution_count": null,
   "source": [
    "linebuilder = ac._roi_extract._load_ROI(roi_path)"
   ],
   "outputs": [],
   "metadata": {}
  },
  {
   "cell_type": "code",
   "execution_count": null,
   "source": [
    "import numpy as np\r\n",
    "from skimage.morphology import binary_erosion\r\n",
    "from skimage.segmentation import clear_border\r\n",
    "from skimage.draw import polygon2mask\r\n",
    "\r\n",
    "conservative = True\r\n",
    "reconstructed_residue_labels = clear_border(reconstructed_labels, mask=None if conservative\r\n",
    "                        else ac.core._compute_convex_hull(thresholded))\r\n",
    "\r\n",
    "if linebuilder is not None:\r\n",
    "    X, Y = ac.core._unwrap_polygon(linebuilder)\r\n",
    "    min_x, max_x = int(min(X)), int(max(X) + 1)\r\n",
    "    min_y, max_y = int(min(Y)), int(max(Y) + 1)\r\n",
    "    shape = reconstructed_labels.shape\r\n",
    "    roi_mask = np.empty(shape)\r\n",
    "    roi_mask[0] = polygon2mask(shape[1:][::-1], list(zip(X, Y))).T\r\n",
    "\r\n",
    "    for i in range(1, shape[0]):\r\n",
    "        roi_mask[i] = roi_mask[0]\r\n",
    "    roi_mask = binary_erosion(roi_mask)\r\n",
    "    reconstructed_residue_labels = clear_border(reconstructed_residue_labels, mask=roi_mask)\r\n",
    "\r\n",
    "reconstructed_filtered_regions = ac.arrange_regions(reconstructed_residue_labels)"
   ],
   "outputs": [],
   "metadata": {}
  },
  {
   "cell_type": "code",
   "execution_count": null,
   "source": [
    "view_3D({'data': reconstructed_residue_labels, 'colormap': 'gray', 'name': 'reconstructed_filtered_regions'},\r\n",
    "        {'data': reconstructed_labels, 'gamma': .8, 'colormap': 'inferno', 'name': 'reconstructed_labels'},\r\n",
    "        {'data': roi_mask, 'gamma': .8, 'colormap': 'inferno', 'name': 'roi_mask'})"
   ],
   "outputs": [],
   "metadata": {}
  },
  {
   "cell_type": "code",
   "execution_count": null,
   "source": [
    "X, Y = ac.core._unwrap_polygon(linebuilder)\r\n",
    "min_x, max_x = int(min(X)), int(max(X) + 1)\r\n",
    "min_y, max_y = int(min(Y)), int(max(Y) + 1)"
   ],
   "outputs": [],
   "metadata": {}
  },
  {
   "cell_type": "code",
   "execution_count": null,
   "source": [
    "reconstructed_residue_labels = ac.filter_labels(reconstructed_labels[:, min_y:max_y, min_x:max_x], None, linebuilder, True)"
   ],
   "outputs": [],
   "metadata": {}
  },
  {
   "cell_type": "code",
   "execution_count": null,
   "source": [
    "reconstructed_residue_volume = (reconstructed_residue_labels > 0).sum()\r\n",
    "f'Postreconstructing-residue Volume: {reconstructed_residue_volume}; ' \\\r\n",
    "f'%age volume: {(reconstructed_residue_volume) / reconstructed_volume * 100} %'"
   ],
   "outputs": [],
   "metadata": {}
  },
  {
   "cell_type": "code",
   "execution_count": null,
   "source": [
    "view_3D(#{'data': denoised, 'colormap': 'inferno', 'name': 'denoised'},\r\n",
    "        {'data': reconstructed_residue_labels, 'colormap': 'gray', 'gamma': .8, 'name': 'reconstructed_filtered_labels'})\r\n",
    "        #{'data': filtered_labels, 'colormap': 'inferno', 'gamma': .8, 'name': 'filtered_labels'},\r\n",
    "        #{'data': labels, 'colormap': 'gist_earth', 'gamma': .8, 'name': 'labels'})"
   ],
   "outputs": [],
   "metadata": {}
  },
  {
   "cell_type": "code",
   "execution_count": null,
   "source": [
    "reconstructed_filtered_regions = ac.arrange_regions(reconstructed_residue_labels)\r\n",
    "\r\n",
    "LOW_VOLUME_CUTOFF = 0  # filter noise/artifacts\r\n",
    "HIGH_VOLUME_CUTOFF = 1e9  # filter cell clusters\r\n",
    "\r\n",
    "OUTPUT_OPTION = 'both'  # '3d' for 3D cells, 'mip' for Max Intensity Projections\r\n",
    "SEGMENT_TYPE = 'segmented'\r\n",
    "\r\n",
    "ac.export_cells(parent_path, LOW_VOLUME_CUTOFF,\r\n",
    "                HIGH_VOLUME_CUTOFF, OUTPUT_OPTION, denoised,\r\n",
    "                reconstructed_filtered_regions, None, SEGMENT_TYPE, NAME_ROI, linebuilder, roi_path=roi_path)"
   ],
   "outputs": [],
   "metadata": {}
  }
 ],
 "metadata": {
  "kernelspec": {
   "name": "python3",
   "display_name": "Python 3.7.9 64-bit ('smorph-wgdSL7Sd-py3.7': poetry)"
  },
  "language_info": {
   "codemirror_mode": {
    "name": "ipython",
    "version": 3
   },
   "file_extension": ".py",
   "mimetype": "text/x-python",
   "name": "python",
   "nbconvert_exporter": "python",
   "pygments_lexer": "ipython3",
   "version": "3.7.9"
  },
  "interpreter": {
   "hash": "be748d7322d98cb117b2b70fb0400aa301f70bae17f42a4618dedb368f41ffd0"
  }
 },
 "nbformat": 4,
 "nbformat_minor": 2
}