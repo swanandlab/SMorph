{
 "cells": [
  {
   "cell_type": "markdown",
   "source": [
    "## Setup"
   ],
   "metadata": {}
  },
  {
   "cell_type": "code",
   "execution_count": null,
   "source": [
    "!pip install poetry"
   ],
   "outputs": [],
   "metadata": {}
  },
  {
   "cell_type": "code",
   "execution_count": null,
   "source": [
    "!pip install https://github.com/swanandlab/SMorph/releases/download/v0.1.1-alpha/SMorph-0.1.1.tar.gz"
   ],
   "outputs": [],
   "metadata": {}
  },
  {
   "cell_type": "code",
   "execution_count": 3,
   "source": [
    "on_colab = 'google.colab' in str(get_ipython())\r\n",
    "\r\n",
    "import warnings\r\n",
    "warnings.filterwarnings('ignore')\r\n",
    "if not on_colab:\r\n",
    "    import napari\r\n",
    "import smorph.util.autocrop as ac"
   ],
   "outputs": [],
   "metadata": {
    "tags": []
   }
  },
  {
   "cell_type": "code",
   "execution_count": 4,
   "source": [
    "# Helper function\r\n",
    "def view_3D(*args):\r\n",
    "    \"\"\"Views a 3D image.\"\"\"\r\n",
    "    n_images = len(args)\r\n",
    "    if not on_colab and n_images > 0:  \r\n",
    "        with napari.gui_qt():\r\n",
    "            viewer = napari.view_image(**args[0], ndisplay=3)\r\n",
    "            for itr in range(1, n_images):\r\n",
    "                if args[itr]['data'].max() > 1 and args[itr]['data'].max() % 1 == 0:\r\n",
    "                    if 'colormap' in args[itr].keys():\r\n",
    "                        del args[itr]['colormap']\r\n",
    "                    if 'gamma' in args[itr].keys():\r\n",
    "                        del args[itr]['gamma']\r\n",
    "                    viewer.add_labels(**args[itr])\r\n",
    "                else:\r\n",
    "                    viewer.add_image(**args[itr])"
   ],
   "outputs": [],
   "metadata": {}
  },
  {
   "cell_type": "code",
   "execution_count": 5,
   "source": [
    "SOMA_SELECTED = 'Autocropped/21_DAY_CA1SR - Copy/DMI_MSP2.1MA_3_LONG MARK_20X_SEC 2_LEFT CA1sr_21 DAY-CA1SR/residue'"
   ],
   "outputs": [],
   "metadata": {}
  },
  {
   "cell_type": "markdown",
   "source": [
    "## Select somas of individual cells in clumps\r\n",
    "\r\n",
    "### Option 1. Pre-selected point ROIs"
   ],
   "metadata": {}
  },
  {
   "cell_type": "code",
   "execution_count": null,
   "source": [
    "reconstructed_labels = None\r\n",
    "reconstructed_labels, parent_path, roi_path = ac.postprocess_segment(SOMA_SELECTED, reconstructed_labels)"
   ],
   "outputs": [],
   "metadata": {}
  },
  {
   "cell_type": "code",
   "execution_count": null,
   "source": [
    "view_3D({'data': reconstructed_labels, 'colormap': 'inferno', 'name': 'reconstructed_labels'})"
   ],
   "outputs": [],
   "metadata": {}
  },
  {
   "cell_type": "markdown",
   "source": [
    "### Option 2. Manually-select point ROIs"
   ],
   "metadata": {}
  },
  {
   "cell_type": "code",
   "execution_count": 6,
   "source": [
    "reconstructed_seg = reconstructed_labels = None\r\n",
    "reconstructed_seg, parent_path, roi_path, somas_est = ac.manual_postprocess(SOMA_SELECTED, reconstructed_seg)"
   ],
   "outputs": [],
   "metadata": {}
  },
  {
   "cell_type": "code",
   "execution_count": 16,
   "source": [
    "if not on_colab:\r\n",
    "    with napari.gui_qt():\r\n",
    "        man_viewer = napari.view_image(reconstructed_seg)\r\n",
    "        man_viewer.add_points(somas_est, face_color='red', size=5, symbol='cross')"
   ],
   "outputs": [
    {
     "output_type": "stream",
     "name": "stderr",
     "text": [
      "Exception in callback BaseAsyncIOLoop._handle_events(40676, 1)\n",
      "handle: <Handle BaseAsyncIOLoop._handle_events(40676, 1)>\n",
      "Traceback (most recent call last):\n",
      "  File \"c:\\users\\swanandlab\\appdata\\local\\programs\\python\\python37\\lib\\asyncio\\events.py\", line 88, in _run\n",
      "    self._context.run(self._callback, *self._args)\n",
      "  File \"C:\\Users\\SwanandLab\\AppData\\Local\\pypoetry\\Cache\\virtualenvs\\smorph-ObnBYCc1-py3.7\\lib\\site-packages\\tornado\\platform\\asyncio.py\", line 189, in _handle_events\n",
      "    handler_func(fileobj, events)\n",
      "  File \"C:\\Users\\SwanandLab\\AppData\\Local\\pypoetry\\Cache\\virtualenvs\\smorph-ObnBYCc1-py3.7\\lib\\site-packages\\zmq\\eventloop\\zmqstream.py\", line 448, in _handle_events\n",
      "    self._handle_recv()\n",
      "  File \"C:\\Users\\SwanandLab\\AppData\\Local\\pypoetry\\Cache\\virtualenvs\\smorph-ObnBYCc1-py3.7\\lib\\site-packages\\zmq\\eventloop\\zmqstream.py\", line 477, in _handle_recv\n",
      "    self._run_callback(callback, msg)\n",
      "  File \"C:\\Users\\SwanandLab\\AppData\\Local\\pypoetry\\Cache\\virtualenvs\\smorph-ObnBYCc1-py3.7\\lib\\site-packages\\zmq\\eventloop\\zmqstream.py\", line 431, in _run_callback\n",
      "    callback(*args, **kwargs)\n",
      "  File \"C:\\Users\\SwanandLab\\AppData\\Local\\pypoetry\\Cache\\virtualenvs\\smorph-ObnBYCc1-py3.7\\lib\\site-packages\\jupyter_client\\threaded.py\", line 121, in _handle_recv\n",
      "    msg_list = self.ioloop._asyncio_event_loop.run_until_complete(get_msg(future_msg))\n",
      "  File \"c:\\users\\swanandlab\\appdata\\local\\programs\\python\\python37\\lib\\asyncio\\base_events.py\", line 563, in run_until_complete\n",
      "    self._check_runnung()\n",
      "  File \"c:\\users\\swanandlab\\appdata\\local\\programs\\python\\python37\\lib\\asyncio\\base_events.py\", line 526, in _check_runnung\n",
      "    'Cannot run the event loop while another loop is running')\n",
      "RuntimeError: Cannot run the event loop while another loop is running\n"
     ]
    }
   ],
   "metadata": {}
  },
  {
   "cell_type": "code",
   "execution_count": 17,
   "source": [
    "import json\r\n",
    "from os import listdir, path\r\n",
    "\r\n",
    "import numpy as np\r\n",
    "import tifffile\r\n",
    "from skimage.measure import label\r\n",
    "from smorph.util.autocrop._io import _build_multipoint_roi\r\n",
    "\r\n",
    "somas_est = np.unique(man_viewer.layers[1].data, axis=0)\r\n",
    "\r\n",
    "for file in listdir(SOMA_SELECTED):\r\n",
    "    if not file.startswith('.') and file.endswith(('.tif', '.tiff')) and '_mip' not in file:\r\n",
    "        name = SOMA_SELECTED + '/' + file\r\n",
    "        image = tifffile.TiffFile(name)\r\n",
    "        metadata = image.pages[0].tags['ImageDescription'].value\r\n",
    "        metadata = json.loads(metadata)\r\n",
    "\r\n",
    "        try :\r\n",
    "            im = image.asarray()\r\n",
    "\r\n",
    "            if reconstructed_labels is None:\r\n",
    "                parent = ac._io.import_confocal_image(parent_path)\r\n",
    "                reconstructed_labels = np.zeros(parent.shape)\r\n",
    "\r\n",
    "            minz, miny, minx, maxz, maxy, maxx = metadata['bounds']\r\n",
    "            linebuilder = ac._roi_extract._load_ROI(roi_path)\r\n",
    "            X, Y = ac.core._unwrap_polygon(linebuilder)\r\n",
    "            min_x, max_x = int(min(X)), int(max(X) + 1)\r\n",
    "            min_y, max_y = int(min(Y)), int(max(Y) + 1)\r\n",
    "            miny += min_y\r\n",
    "            maxy += min_y\r\n",
    "            minx += min_x\r\n",
    "            maxx += min_x\r\n",
    "            ll = np.array([minz, miny, minx])  # lower-left\r\n",
    "            ur = np.array([maxz, maxy, maxx])  # upper-right\r\n",
    "            mask_coords = np.array(np.where(im>0)).T\r\n",
    "            inidx = np.all(np.logical_and(ll <= somas_est, somas_est <= ur), axis=1)\r\n",
    "\r\n",
    "            somas_coords = somas_est[inidx]\r\n",
    "            somas_coords -= np.array([minz+1, miny+1, minx+1])\r\n",
    "            \r\n",
    "            masked_somas_coords = []\r\n",
    "            for soma_coords in somas_coords:\r\n",
    "                if soma_coords in mask_coords:\r\n",
    "                    masked_somas_coords.append(soma_coords.astype(int))\r\n",
    "\r\n",
    "            markers = np.zeros(im.shape)\r\n",
    "            for i in range(1, len(masked_somas_coords) + 1):\r\n",
    "                markers[tuple(map(int, masked_somas_coords[i-1]))] = i\r\n",
    "\r\n",
    "            soma_roi_path = '.'.join(name.split('.')[:-1]) + '.roi'\r\n",
    "            if len(masked_somas_coords):  # and not path.isfile(soma_roi_path)\r\n",
    "                _build_multipoint_roi(np.array(masked_somas_coords) + 1 + np.array([1, 0, 0])).tofile(soma_roi_path)\r\n",
    "\r\n",
    "            labels = ac._postprocessing._segment_clump(im, markers)\r\n",
    "            reconstructed_labels[minz:maxz, miny:maxy, minx:maxx] += labels\r\n",
    "        except Exception as e:\r\n",
    "            print(e)\r\n",
    "reconstructed_labels = label(reconstructed_labels)"
   ],
   "outputs": [],
   "metadata": {}
  },
  {
   "cell_type": "code",
   "execution_count": 18,
   "source": [
    "view_3D({'data': reconstructed_seg, 'colormap': 'inferno', 'name': 'reconstructed_seg'},\r\n",
    "        {'data': reconstructed_labels, 'colormap': 'inferno', 'name': 'reconstructed_labels'})"
   ],
   "outputs": [
    {
     "output_type": "stream",
     "name": "stderr",
     "text": [
      "Exception in callback BaseAsyncIOLoop._handle_events(51496, 1)\n",
      "handle: <Handle BaseAsyncIOLoop._handle_events(51496, 1)>\n",
      "Traceback (most recent call last):\n",
      "  File \"c:\\users\\swanandlab\\appdata\\local\\programs\\python\\python37\\lib\\asyncio\\events.py\", line 88, in _run\n",
      "    self._context.run(self._callback, *self._args)\n",
      "  File \"C:\\Users\\SwanandLab\\AppData\\Local\\pypoetry\\Cache\\virtualenvs\\smorph-ObnBYCc1-py3.7\\lib\\site-packages\\tornado\\platform\\asyncio.py\", line 189, in _handle_events\n",
      "    handler_func(fileobj, events)\n",
      "  File \"C:\\Users\\SwanandLab\\AppData\\Local\\pypoetry\\Cache\\virtualenvs\\smorph-ObnBYCc1-py3.7\\lib\\site-packages\\zmq\\eventloop\\zmqstream.py\", line 448, in _handle_events\n",
      "    self._handle_recv()\n",
      "  File \"C:\\Users\\SwanandLab\\AppData\\Local\\pypoetry\\Cache\\virtualenvs\\smorph-ObnBYCc1-py3.7\\lib\\site-packages\\zmq\\eventloop\\zmqstream.py\", line 477, in _handle_recv\n",
      "    self._run_callback(callback, msg)\n",
      "  File \"C:\\Users\\SwanandLab\\AppData\\Local\\pypoetry\\Cache\\virtualenvs\\smorph-ObnBYCc1-py3.7\\lib\\site-packages\\zmq\\eventloop\\zmqstream.py\", line 431, in _run_callback\n",
      "    callback(*args, **kwargs)\n",
      "  File \"C:\\Users\\SwanandLab\\AppData\\Local\\pypoetry\\Cache\\virtualenvs\\smorph-ObnBYCc1-py3.7\\lib\\site-packages\\jupyter_client\\threaded.py\", line 121, in _handle_recv\n",
      "    msg_list = self.ioloop._asyncio_event_loop.run_until_complete(get_msg(future_msg))\n",
      "  File \"c:\\users\\swanandlab\\appdata\\local\\programs\\python\\python37\\lib\\asyncio\\base_events.py\", line 563, in run_until_complete\n",
      "    self._check_runnung()\n",
      "  File \"c:\\users\\swanandlab\\appdata\\local\\programs\\python\\python37\\lib\\asyncio\\base_events.py\", line 526, in _check_runnung\n",
      "    'Cannot run the event loop while another loop is running')\n",
      "RuntimeError: Cannot run the event loop while another loop is running\n"
     ]
    }
   ],
   "metadata": {}
  },
  {
   "cell_type": "code",
   "execution_count": 19,
   "source": [
    "reconstructed_volume = (reconstructed_labels > 0).sum()\r\n",
    "f'Postreconstructing Volume: {reconstructed_volume}'"
   ],
   "outputs": [
    {
     "output_type": "execute_result",
     "data": {
      "text/plain": [
       "'Postreconstructing Volume: 176359'"
      ]
     },
     "metadata": {},
     "execution_count": 19
    }
   ],
   "metadata": {}
  },
  {
   "cell_type": "code",
   "execution_count": 20,
   "source": [
    "linebuilder = ac._roi_extract._load_ROI(roi_path)"
   ],
   "outputs": [],
   "metadata": {}
  },
  {
   "cell_type": "code",
   "execution_count": 21,
   "source": [
    "import numpy as np\r\n",
    "from skimage.morphology import binary_erosion\r\n",
    "from skimage.segmentation import clear_border\r\n",
    "from skimage.draw import polygon2mask\r\n",
    "\r\n",
    "conservative = True\r\n",
    "reconstructed_residue_labels = clear_border(reconstructed_labels, mask=None if conservative\r\n",
    "                        else ac.core._compute_convex_hull(thresholded))\r\n",
    "\r\n",
    "if linebuilder is not None:\r\n",
    "    X, Y = ac.core._unwrap_polygon(linebuilder)\r\n",
    "    min_x, max_x = int(min(X)), int(max(X) + 1)\r\n",
    "    min_y, max_y = int(min(Y)), int(max(Y) + 1)\r\n",
    "    shape = reconstructed_labels.shape\r\n",
    "    roi_mask = np.empty(shape)\r\n",
    "    roi_mask[0] = polygon2mask(shape[1:][::-1], list(zip(X, Y))).T\r\n",
    "\r\n",
    "    for i in range(1, shape[0]):\r\n",
    "        roi_mask[i] = roi_mask[0]\r\n",
    "    roi_mask = binary_erosion(roi_mask)\r\n",
    "    reconstructed_residue_labels = clear_border(reconstructed_residue_labels, mask=roi_mask)\r\n",
    "\r\n",
    "reconstructed_filtered_regions = ac.arrange_regions(reconstructed_residue_labels)"
   ],
   "outputs": [],
   "metadata": {}
  },
  {
   "cell_type": "code",
   "execution_count": null,
   "source": [
    "view_3D({'data': reconstructed_residue_labels, 'colormap': 'gray', 'name': 'reconstructed_filtered_regions'},\r\n",
    "        {'data': reconstructed_labels, 'gamma': .8, 'colormap': 'inferno', 'name': 'reconstructed_labels'},\r\n",
    "        {'data': roi_mask, 'gamma': .8, 'colormap': 'inferno', 'name': 'roi_mask'})"
   ],
   "outputs": [],
   "metadata": {}
  },
  {
   "cell_type": "code",
   "execution_count": 22,
   "source": [
    "X, Y = ac.core._unwrap_polygon(linebuilder)\r\n",
    "min_x, max_x = int(min(X)), int(max(X) + 1)\r\n",
    "min_y, max_y = int(min(Y)), int(max(Y) + 1)"
   ],
   "outputs": [],
   "metadata": {}
  },
  {
   "cell_type": "code",
   "execution_count": 23,
   "source": [
    "reconstructed_residue_labels = ac.filter_labels(reconstructed_labels[:, min_y:max_y, min_x:max_x], None, linebuilder, True)"
   ],
   "outputs": [],
   "metadata": {}
  },
  {
   "cell_type": "code",
   "execution_count": 24,
   "source": [
    "reconstructed_residue_volume = (reconstructed_residue_labels > 0).sum()\r\n",
    "f'Postreconstructing-residue Volume: {reconstructed_residue_volume}; ' \\\r\n",
    "f'%age volume: {(reconstructed_residue_volume) / reconstructed_volume * 100} %'"
   ],
   "outputs": [
    {
     "output_type": "execute_result",
     "data": {
      "text/plain": [
       "'Postreconstructing-residue Volume: 100682; %age volume: 57.08923275818075 %'"
      ]
     },
     "metadata": {},
     "execution_count": 24
    }
   ],
   "metadata": {}
  },
  {
   "cell_type": "code",
   "execution_count": null,
   "source": [
    "view_3D(#{'data': denoised, 'colormap': 'inferno', 'name': 'denoised'},\r\n",
    "        {'data': reconstructed_residue_labels, 'colormap': 'gray', 'gamma': .8, 'name': 'reconstructed_filtered_labels'})\r\n",
    "        #{'data': filtered_labels, 'colormap': 'inferno', 'gamma': .8, 'name': 'filtered_labels'},\r\n",
    "        #{'data': labels, 'colormap': 'gist_earth', 'gamma': .8, 'name': 'labels'})"
   ],
   "outputs": [],
   "metadata": {}
  },
  {
   "cell_type": "code",
   "execution_count": 25,
   "source": [
    "reconstructed_filtered_regions = ac.arrange_regions(reconstructed_residue_labels)\r\n",
    "\r\n",
    "original = ac.import_confocal_image(parent_path)\r\n",
    "\r\n",
    "if original.ndim == 2:\r\n",
    "  original = (original - original.min()) / (original.max() - original.min())\r\n",
    "  import numpy as np\r\n",
    "  original = np.expand_dims(original, 0)\r\n",
    "\r\n",
    "LOW_VOLUME_CUTOFF = 0  # filter noise/artifacts\r\n",
    "HIGH_VOLUME_CUTOFF = 1e9  # filter cell clusters\r\n",
    "\r\n",
    "OUTPUT_OPTION = 'both'  # '3d' for 3D cells, 'mip' for Max Intensity Projections\r\n",
    "SEGMENT_TYPE = 'segmented'  # unsegmented output erroneous (cropped different region)\r\n",
    "\r\n",
    "NAME_ROI = 'CA1SR'\r\n",
    "\r\n",
    "ac.export_cells(parent_path, LOW_VOLUME_CUTOFF,\r\n",
    "                HIGH_VOLUME_CUTOFF, OUTPUT_OPTION, original,\r\n",
    "                reconstructed_filtered_regions, None, SEGMENT_TYPE, NAME_ROI, linebuilder, roi_path=roi_path)"
   ],
   "outputs": [
    {
     "output_type": "error",
     "ename": "ZeroDivisionError",
     "evalue": "integer division or modulo by zero",
     "traceback": [
      "\u001b[1;31m---------------------------------------------------------------------------\u001b[0m",
      "\u001b[1;31mZeroDivisionError\u001b[0m                         Traceback (most recent call last)",
      "\u001b[1;32mC:\\Users\\SWANAN~1\\AppData\\Local\\Temp/ipykernel_8688/18107839.py\u001b[0m in \u001b[0;36m<module>\u001b[1;34m\u001b[0m\n\u001b[0;32m     18\u001b[0m ac.export_cells(parent_path, LOW_VOLUME_CUTOFF,\n\u001b[0;32m     19\u001b[0m                 \u001b[0mHIGH_VOLUME_CUTOFF\u001b[0m\u001b[1;33m,\u001b[0m \u001b[0mOUTPUT_OPTION\u001b[0m\u001b[1;33m,\u001b[0m \u001b[0moriginal\u001b[0m\u001b[1;33m,\u001b[0m\u001b[1;33m\u001b[0m\u001b[1;33m\u001b[0m\u001b[0m\n\u001b[1;32m---> 20\u001b[1;33m                 reconstructed_filtered_regions, None, SEGMENT_TYPE, NAME_ROI, linebuilder, roi_path=roi_path)\n\u001b[0m",
      "\u001b[1;32md:\\Kushaan\\SMorph\\smorph\\util\\autocrop\\_io.py\u001b[0m in \u001b[0;36mexport_cells\u001b[1;34m(img_path, low_vol_cutoff, hi_vol_cutoff, out_type, tissue_img, regions, residue_regions, seg_type, roi_name, roi_polygon, roi_path)\u001b[0m\n\u001b[0;32m    222\u001b[0m                 \u001b[0msegmented\u001b[0m \u001b[1;33m=\u001b[0m \u001b[0mtissue_img\u001b[0m\u001b[1;33m[\u001b[0m\u001b[0mminz\u001b[0m\u001b[1;33m:\u001b[0m\u001b[0mmaxz\u001b[0m\u001b[1;33m,\u001b[0m \u001b[0mminy\u001b[0m\u001b[1;33m:\u001b[0m\u001b[0mmaxy\u001b[0m\u001b[1;33m,\u001b[0m \u001b[0mminx\u001b[0m\u001b[1;33m:\u001b[0m\u001b[0mmaxx\u001b[0m\u001b[1;33m]\u001b[0m\u001b[1;33m.\u001b[0m\u001b[0mcopy\u001b[0m\u001b[1;33m(\u001b[0m\u001b[1;33m)\u001b[0m\u001b[1;33m\u001b[0m\u001b[1;33m\u001b[0m\u001b[0m\n\u001b[0;32m    223\u001b[0m                 \u001b[0msegmented\u001b[0m\u001b[1;33m[\u001b[0m\u001b[1;33m~\u001b[0m\u001b[0mregion\u001b[0m\u001b[1;33m.\u001b[0m\u001b[0mfilled_image\u001b[0m\u001b[1;33m]\u001b[0m \u001b[1;33m=\u001b[0m \u001b[1;36m0\u001b[0m\u001b[1;33m\u001b[0m\u001b[1;33m\u001b[0m\u001b[0m\n\u001b[1;32m--> 224\u001b[1;33m                 \u001b[0msegmented\u001b[0m \u001b[1;33m=\u001b[0m \u001b[0mexposure\u001b[0m\u001b[1;33m.\u001b[0m\u001b[0mequalize_adapthist\u001b[0m\u001b[1;33m(\u001b[0m\u001b[0msegmented\u001b[0m\u001b[1;33m,\u001b[0m \u001b[0mclip_limit\u001b[0m\u001b[1;33m=\u001b[0m\u001b[1;36m0.03\u001b[0m\u001b[1;33m)\u001b[0m  \u001b[1;31m# contrast stretch\u001b[0m\u001b[1;33m\u001b[0m\u001b[1;33m\u001b[0m\u001b[0m\n\u001b[0m\u001b[0;32m    225\u001b[0m                 \u001b[0msegmented\u001b[0m \u001b[1;33m=\u001b[0m \u001b[0mimg_as_ubyte\u001b[0m\u001b[1;33m(\u001b[0m\u001b[0msegmented\u001b[0m\u001b[1;33m)\u001b[0m\u001b[1;33m\u001b[0m\u001b[1;33m\u001b[0m\u001b[0m\n\u001b[0;32m    226\u001b[0m \u001b[1;33m\u001b[0m\u001b[0m\n",
      "\u001b[1;32m~\\AppData\\Local\\pypoetry\\Cache\\virtualenvs\\smorph-ObnBYCc1-py3.7\\lib\\site-packages\\skimage\\color\\adapt_rgb.py\u001b[0m in \u001b[0;36mimage_filter_adapted\u001b[1;34m(image, *args, **kwargs)\u001b[0m\n\u001b[0;32m     38\u001b[0m                 \u001b[1;32mreturn\u001b[0m \u001b[0mapply_to_rgb\u001b[0m\u001b[1;33m(\u001b[0m\u001b[0mimage_filter\u001b[0m\u001b[1;33m,\u001b[0m \u001b[0mimage\u001b[0m\u001b[1;33m,\u001b[0m \u001b[1;33m*\u001b[0m\u001b[0margs\u001b[0m\u001b[1;33m,\u001b[0m \u001b[1;33m**\u001b[0m\u001b[0mkwargs\u001b[0m\u001b[1;33m)\u001b[0m\u001b[1;33m\u001b[0m\u001b[1;33m\u001b[0m\u001b[0m\n\u001b[0;32m     39\u001b[0m             \u001b[1;32melse\u001b[0m\u001b[1;33m:\u001b[0m\u001b[1;33m\u001b[0m\u001b[1;33m\u001b[0m\u001b[0m\n\u001b[1;32m---> 40\u001b[1;33m                 \u001b[1;32mreturn\u001b[0m \u001b[0mimage_filter\u001b[0m\u001b[1;33m(\u001b[0m\u001b[0mimage\u001b[0m\u001b[1;33m,\u001b[0m \u001b[1;33m*\u001b[0m\u001b[0margs\u001b[0m\u001b[1;33m,\u001b[0m \u001b[1;33m**\u001b[0m\u001b[0mkwargs\u001b[0m\u001b[1;33m)\u001b[0m\u001b[1;33m\u001b[0m\u001b[1;33m\u001b[0m\u001b[0m\n\u001b[0m\u001b[0;32m     41\u001b[0m         \u001b[1;32mreturn\u001b[0m \u001b[0mimage_filter_adapted\u001b[0m\u001b[1;33m\u001b[0m\u001b[1;33m\u001b[0m\u001b[0m\n\u001b[0;32m     42\u001b[0m     \u001b[1;32mreturn\u001b[0m \u001b[0mdecorator\u001b[0m\u001b[1;33m\u001b[0m\u001b[1;33m\u001b[0m\u001b[0m\n",
      "\u001b[1;32m~\\AppData\\Local\\pypoetry\\Cache\\virtualenvs\\smorph-ObnBYCc1-py3.7\\lib\\site-packages\\skimage\\exposure\\_adapthist.py\u001b[0m in \u001b[0;36mequalize_adapthist\u001b[1;34m(image, kernel_size, clip_limit, nbins)\u001b[0m\n\u001b[0;32m     94\u001b[0m     \u001b[0mkernel_size\u001b[0m \u001b[1;33m=\u001b[0m \u001b[1;33m[\u001b[0m\u001b[0mint\u001b[0m\u001b[1;33m(\u001b[0m\u001b[0mk\u001b[0m\u001b[1;33m)\u001b[0m \u001b[1;32mfor\u001b[0m \u001b[0mk\u001b[0m \u001b[1;32min\u001b[0m \u001b[0mkernel_size\u001b[0m\u001b[1;33m]\u001b[0m\u001b[1;33m\u001b[0m\u001b[1;33m\u001b[0m\u001b[0m\n\u001b[0;32m     95\u001b[0m \u001b[1;33m\u001b[0m\u001b[0m\n\u001b[1;32m---> 96\u001b[1;33m     \u001b[0mimage\u001b[0m \u001b[1;33m=\u001b[0m \u001b[0m_clahe\u001b[0m\u001b[1;33m(\u001b[0m\u001b[0mimage\u001b[0m\u001b[1;33m,\u001b[0m \u001b[0mkernel_size\u001b[0m\u001b[1;33m,\u001b[0m \u001b[0mclip_limit\u001b[0m\u001b[1;33m,\u001b[0m \u001b[0mnbins\u001b[0m\u001b[1;33m)\u001b[0m\u001b[1;33m\u001b[0m\u001b[1;33m\u001b[0m\u001b[0m\n\u001b[0m\u001b[0;32m     97\u001b[0m     \u001b[0mimage\u001b[0m \u001b[1;33m=\u001b[0m \u001b[0mimg_as_float\u001b[0m\u001b[1;33m(\u001b[0m\u001b[0mimage\u001b[0m\u001b[1;33m)\u001b[0m\u001b[1;33m\u001b[0m\u001b[1;33m\u001b[0m\u001b[0m\n\u001b[0;32m     98\u001b[0m     \u001b[1;32mreturn\u001b[0m \u001b[0mrescale_intensity\u001b[0m\u001b[1;33m(\u001b[0m\u001b[0mimage\u001b[0m\u001b[1;33m)\u001b[0m\u001b[1;33m\u001b[0m\u001b[1;33m\u001b[0m\u001b[0m\n",
      "\u001b[1;32m~\\AppData\\Local\\pypoetry\\Cache\\virtualenvs\\smorph-ObnBYCc1-py3.7\\lib\\site-packages\\skimage\\exposure\\_adapthist.py\u001b[0m in \u001b[0;36m_clahe\u001b[1;34m(image, kernel_size, clip_limit, nbins)\u001b[0m\n\u001b[0;32m    133\u001b[0m \u001b[1;33m\u001b[0m\u001b[0m\n\u001b[0;32m    134\u001b[0m     pad_end_per_dim = [(k - s % k) % k + int(np.ceil(k / 2.))\n\u001b[1;32m--> 135\u001b[1;33m                        for k, s in zip(kernel_size, image.shape)]\n\u001b[0m\u001b[0;32m    136\u001b[0m \u001b[1;33m\u001b[0m\u001b[0m\n\u001b[0;32m    137\u001b[0m     image = np.pad(image, [[p_i, p_f] for p_i, p_f in\n",
      "\u001b[1;32m~\\AppData\\Local\\pypoetry\\Cache\\virtualenvs\\smorph-ObnBYCc1-py3.7\\lib\\site-packages\\skimage\\exposure\\_adapthist.py\u001b[0m in \u001b[0;36m<listcomp>\u001b[1;34m(.0)\u001b[0m\n\u001b[0;32m    133\u001b[0m \u001b[1;33m\u001b[0m\u001b[0m\n\u001b[0;32m    134\u001b[0m     pad_end_per_dim = [(k - s % k) % k + int(np.ceil(k / 2.))\n\u001b[1;32m--> 135\u001b[1;33m                        for k, s in zip(kernel_size, image.shape)]\n\u001b[0m\u001b[0;32m    136\u001b[0m \u001b[1;33m\u001b[0m\u001b[0m\n\u001b[0;32m    137\u001b[0m     image = np.pad(image, [[p_i, p_f] for p_i, p_f in\n",
      "\u001b[1;31mZeroDivisionError\u001b[0m: integer division or modulo by zero"
     ]
    }
   ],
   "metadata": {}
  }
 ],
 "metadata": {
  "kernelspec": {
   "name": "python3",
   "display_name": "Python 3.7.9 64-bit ('smorph-ObnBYCc1-py3.7': poetry)"
  },
  "language_info": {
   "codemirror_mode": {
    "name": "ipython",
    "version": 3
   },
   "file_extension": ".py",
   "mimetype": "text/x-python",
   "name": "python",
   "nbconvert_exporter": "python",
   "pygments_lexer": "ipython3",
   "version": "3.7.9"
  },
  "interpreter": {
   "hash": "505a5a09a018729871b9cc7f8dbd3560d8285490b99df05e65532aacc0f83603"
  }
 },
 "nbformat": 4,
 "nbformat_minor": 2
}